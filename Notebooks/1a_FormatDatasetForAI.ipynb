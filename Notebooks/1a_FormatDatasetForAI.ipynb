{
 "cells": [
  {
   "cell_type": "markdown",
   "id": "8569b078-9152-4992-ae9e-d51a50b81447",
   "metadata": {},
   "source": [
    "# Format datasets for the trainning on a specific task \n",
    "\n",
    "## Import functions \n",
    "\n",
    "#### <span style=\"color:blue\">*JUST RUN CELL*</span>"
   ]
  },
  {
   "cell_type": "code",
   "execution_count": 1,
   "id": "57b92189-b7d0-49c0-9a5d-8076091bb043",
   "metadata": {
    "tags": []
   },
   "outputs": [],
   "source": [
    "import os \n",
    "import sys \n",
    "\n",
    "with open('path_codes.txt') as f:\n",
    "    codes_path = f.readlines()[0]\n",
    "with open('path_osmose_dataset.txt') as f:\n",
    "    path_osmose_dataset = f.readlines()[0]\n",
    "with open('path_osmose_analysisAI.txt') as f:\n",
    "    path_osmose_analysisAI = f.readlines()[0]\n",
    "    \n",
    "sys.path.append(os.path.join(codes_path))\n",
    "#os.chdir(os.path.join(codes_path))\n",
    "\n",
    "\n",
    "from format_dataset_for_ai import FormatDatasets_main\n",
    "#from launcher_datasetScale import list_datasets\n",
    "from check_files_in_ai_folders import list_datasets, check_available_ai_tasks_bm, check_available_annotation, check_available_file_resolution, check_available_labels_annotators\n"
   ]
  },
  {
   "cell_type": "markdown",
   "id": "6f82540c-1db4-4699-b564-21e76fb7d4f3",
   "metadata": {},
   "source": [
    "## Select Datasets, task, benchmark, ...\n",
    "\n",
    "\n",
    "#### <span style=\"color:green\">*List of available datasets*</span>"
   ]
  },
  {
   "cell_type": "code",
   "execution_count": 2,
   "id": "ade424fb-6d6e-4828-a3ff-af281a59a791",
   "metadata": {},
   "outputs": [
    {
     "name": "stdout",
     "output_type": "stream",
     "text": [
      "Available datasets:\n",
      "  - APOCADO_IROISE_C2D1_07072022\n",
      "  - BlueFinLibrary_BallenyIslands2015\n",
      "  - BlueFinLibrary_ElephantIsland2013Aural\n",
      "  - BlueFinLibrary_ElephantIsland2014\n",
      "  - BlueFinLibrary_Greenwich64S2015\n",
      "  - BlueFinLibrary_MaudRise2014\n",
      "  - BlueFinLibrary_RossSea2014\n",
      "  - BlueFinLibrary_casey2014\n",
      "  - BlueFinLibrary_casey2017\n",
      "  - BlueFinLibrary_kerguelen2005\n",
      "  - BlueFinLibrary_kerguelen2014\n",
      "  - BlueFinLibrary_kerguelen2015\n",
      "  - Dataset2015_AUS\n",
      "  - Glider\n",
      "  - MPSU_ForestouHuella\n",
      "  - MPSU_ForestouHuella_copy\n",
      "  - reshape_sr_3.py\n"
     ]
    }
   ],
   "source": [
    "list_datasets(path_osmose_dataset)"
   ]
  },
  {
   "cell_type": "markdown",
   "id": "e06fa71f-6ba7-4132-8d5e-db1c11d3e17c",
   "metadata": {},
   "source": [
    "#### <span style=\"color:red\">*Select your dataset(s)*</span>\n",
    "\n",
    "Nb : Select on or several datasets as a list. \n",
    "\n",
    "Ex : \n",
    "- ``dataset_ID_tab`` = ['dataset1', 'dataset2', 'dataset3']"
   ]
  },
  {
   "cell_type": "code",
   "execution_count": 3,
   "id": "589b0b3c-e963-4eb7-bfc2-1e0bfa3aabdc",
   "metadata": {},
   "outputs": [],
   "source": [
    "dataset_ID_tab = ['BlueFinLibrary_ElephantIsland2013Aural', 'BlueFinLibrary_ElephantIsland2014', 'BlueFinLibrary_RossSea2014']"
   ]
  },
  {
   "cell_type": "markdown",
   "id": "5d52cc38-16cc-4981-a302-d2f2628633d4",
   "metadata": {},
   "source": [
    "#### <span style=\"color:green\">*List of available data format and annotation file*</span>"
   ]
  },
  {
   "cell_type": "code",
   "execution_count": 5,
   "id": "15d6dbe0-9272-4ae3-8cc6-31c2ca451f0a",
   "metadata": {},
   "outputs": [
    {
     "name": "stdout",
     "output_type": "stream",
     "text": [
      "Dataset :  BlueFinLibrary_ElephantIsland2013Aural\n",
      "Available Resolution (LengthFile_samplerate) :\n",
      "    \n",
      "    300_250\n",
      "    50_250\n",
      "_ _ _ _ _ _ _ _ _ _ _ _ _ _ _ _ _\n",
      "Dataset :  BlueFinLibrary_ElephantIsland2013Aural\n",
      "Available Annotation files :\n",
      "  \n",
      "    BlueFinLibrary_ElephantIsland2013Aural_results.csv\n",
      "_________________________________\n",
      "Dataset :  BlueFinLibrary_ElephantIsland2014\n",
      "Available Resolution (LengthFile_samplerate) :\n",
      "    \n",
      "    299_250\n",
      "    50_250\n",
      "_ _ _ _ _ _ _ _ _ _ _ _ _ _ _ _ _\n",
      "Dataset :  BlueFinLibrary_ElephantIsland2014\n",
      "Available Annotation files :\n",
      "  \n",
      "    BlueFinLibrary_ElephantIsland2014_results.csv\n",
      "_________________________________\n",
      "Dataset :  BlueFinLibrary_RossSea2014\n",
      "Available Resolution (LengthFile_samplerate) :\n",
      "    \n",
      "    3599_1000\n",
      "    50_250\n",
      "    original\n",
      "_ _ _ _ _ _ _ _ _ _ _ _ _ _ _ _ _\n",
      "Dataset :  BlueFinLibrary_RossSea2014\n",
      "Available Annotation files :\n",
      "  \n",
      "    BlueFinLibrary_RossSea2014_results.csv\n",
      "_________________________________\n"
     ]
    }
   ],
   "source": [
    "for dataset_ID in dataset_ID_tab:\n",
    "    check_available_file_resolution(path_osmose_dataset, dataset_ID)\n",
    "    print('_ _ _ _ _ _ _ _ _ _ _ _ _ _ _ _ _')\n",
    "    check_available_annotation(path_osmose_dataset, dataset_ID)\n",
    "    print('_________________________________')"
   ]
  },
  {
   "cell_type": "markdown",
   "id": "17cf1bbd-81c2-4523-b027-23312eed3e87",
   "metadata": {},
   "source": [
    "#### <span style=\"color:red\">*Select format(s) and annotation tab(s)*</span>\n",
    "\n",
    "Nb : As list, same dimension as the dataset_ID_tab. \n",
    "\n",
    "Ex :\n",
    "- ``LenghtFile_tab`` = [50,50,60] (in seconds)\n",
    "- ``sample_rate_tab`` = [48000, 44100, 48000] (in hertz)\n",
    "- ``file_annotation_tab`` = ['annotation_aplose1_results.csv', 'annotation_aplose3_results.csv', 'annotation_aplose3_results.csv']"
   ]
  },
  {
   "cell_type": "code",
   "execution_count": 6,
   "id": "afad78a2-a27f-45b7-9ea8-45f77d3f2c81",
   "metadata": {},
   "outputs": [],
   "source": [
    "LenghtFile_tab = [50, 50, 50]  # or [50 for i in range(3)]\n",
    "sample_rate_tab = [250, 250, 250]  # or [250 for i in range(3)]\n",
    "file_annotation_tab = ['BlueFinLibrary_ElephantIsland2013Aural_results.csv', 'BlueFinLibrary_ElephantIsland2014_results.csv', 'BlueFinLibrary_RossSea2014_results.csv']"
   ]
  },
  {
   "cell_type": "markdown",
   "id": "5e67d3b5-5c2e-43b5-9227-34dcaea7f4ac",
   "metadata": {},
   "source": [
    "#### <span style=\"color:green\">*List of existing tasks and benchmarks*</span>"
   ]
  },
  {
   "cell_type": "code",
   "execution_count": 7,
   "id": "1a3fdab0-5f65-4edd-826a-b07b4d7c6a23",
   "metadata": {},
   "outputs": [
    {
     "name": "stdout",
     "output_type": "stream",
     "text": [
      "    Task_Glider_PBW_AnnotatorAnalysis/\n",
      "        BM_merged15/\n",
      "        BM_EXP/\n",
      "        Comp_BM_curves/\n",
      "        BM_merged6/\n",
      "        BM_merged2_2/\n",
      "        BM_merged2_3/\n",
      "        BM_merged2_4/\n",
      "        BM_merged2_5/\n",
      "        BM_merged2_6/\n",
      "        BM_merged2_7/\n",
      "        BM_merged2_8/\n",
      "        BM_merged8/\n",
      "        BM_merged10/\n",
      "        BM_merged12/\n",
      "        BM_merged14/\n",
      "        BM_merged2_9/\n",
      "        BM_merged2_10/\n",
      "        WeakLabelling_AllAnnotation/\n",
      "        BM_AN_Nassau/\n",
      "        BM_AN_Shanghai/\n",
      "        BM_AN_Civitavecchia/\n",
      "        BM_AN_Galveston/\n",
      "        BM_AN_Venice/\n",
      "        BM_AN_Fukuoka/\n",
      "        BM_AN_Naples/\n",
      "        BM_AN_Bridgetown/\n",
      "        BM_AN_Valletta/\n",
      "        BM_AN_Rostock/\n",
      "        BM_AN_Dubrovnik/\n",
      "        BM_AN_Mahahual/\n",
      "        BM_AN_Ensenada/\n",
      "        BM_AN_Tunis/\n",
      "        BM_AN_Funchal/\n",
      "        BM_AN_Tallinn/\n",
      "        BM_AN_Malaga/\n",
      "        BM_AN_Helsinki/\n",
      "        BM_AN_Valencia/\n",
      "        BM_FULL_EVAL/\n",
      "        BM_FULL_EVAL_long/\n",
      "    Task_Det_PBW/\n",
      "        TEST1/\n",
      "        TRAIN_Glider/\n",
      "        TRAIN_Glider_long/\n",
      "        Train_multilabels_grouped15/\n",
      "        Train_mergeboths/\n",
      "    Task_DS_Miller/\n",
      "        All_BlueWhale/\n"
     ]
    }
   ],
   "source": [
    "check_available_ai_tasks_bm(path_osmose_analysisAI)"
   ]
  },
  {
   "cell_type": "markdown",
   "id": "5f6e718d-8bff-4f43-bbe4-d6437155686c",
   "metadata": {},
   "source": [
    "#### <span style=\"color:red\">*Select your task and benchmark*</span>\n",
    "\n",
    "- `` Task_ID `` : The First Level is for the Task. One task is composed by several benchmark.\n",
    "- ``BM_Name`` : The Second Level is for the BenchMark - . A BenchMark is composed by different model that will be compared. (Different architecture, different dataset subdivision, differents representation, ...)\n",
    "\n",
    "Nb : If you chose a new one, folders will be created automatically. \n",
    "\n",
    "Nb2 : Just enter strings\n",
    "\n",
    "Ex : \n",
    "- ``Task_ID`` = 'TaskTEST1'\n",
    "- ``BM_Name`` = 'BMTEST1_1'\n",
    "\n"
   ]
  },
  {
   "cell_type": "code",
   "execution_count": 8,
   "id": "19b9eebd-0727-461f-8638-0557ca63e888",
   "metadata": {},
   "outputs": [],
   "source": [
    "Task_ID = 'task_example_osmose_user'\n",
    "BM_Name = 'bm_example_osmose_user'"
   ]
  },
  {
   "cell_type": "markdown",
   "id": "7d32720e-df57-4769-a5a8-8728698bcce2",
   "metadata": {},
   "source": [
    "#### <span style=\"color:green\">*List of existing annototated labels and annotators for each datasets*</span>"
   ]
  },
  {
   "cell_type": "code",
   "execution_count": 9,
   "id": "7deee551-63fe-44bd-bbfd-1c95151a7436",
   "metadata": {},
   "outputs": [
    {
     "name": "stdout",
     "output_type": "stream",
     "text": [
      "Dataset :  BlueFinLibrary_ElephantIsland2013Aural\n",
      "Labels Annotated :  ['BmAnt-A', 'BmAnt-B', 'BmAnt-Z', 'BmD', 'Bp-20Hz', 'Bp-20Plus', 'Bp-Downsweep', 'Humptxt', 'MinkeBio', 'MinkeDS', 'Tonal30Hztxt', 'Unidentifiedcalls']\n",
      "Annotators :  ['ElephantIsland2013Aural']\n",
      "_________________________________\n",
      "Dataset :  BlueFinLibrary_ElephantIsland2014\n",
      "Labels Annotated :  ['backbeats', 'BmAnt-A', 'BmAnt-B', 'BmAnt-Z', 'BmDcalls', 'Bp20Hz', 'Bp20Plus', 'BpDswp', 'recurrentunknowpulses', 'Unknowncalls']\n",
      "Annotators :  ['ElephantIsland2014']\n",
      "_________________________________\n",
      "Dataset :  BlueFinLibrary_RossSea2014\n",
      "Labels Annotated :  ['BmAnt-A', 'unid']\n",
      "Annotators :  ['RossSea2014']\n",
      "_________________________________\n"
     ]
    }
   ],
   "source": [
    "for i in range(len(dataset_ID_tab)):\n",
    "    print('Dataset : ', dataset_ID_tab[i])\n",
    "    check_available_labels_annotators(path_osmose_dataset, dataset_ID_tab[i], file_annotation_tab[i])\n",
    "    print('_________________________________')"
   ]
  },
  {
   "cell_type": "markdown",
   "id": "52ec007e-9d8e-4d04-9b03-d70b54003fad",
   "metadata": {},
   "source": [
    "#### <span style=\"color:red\">*Select the annotators and the labels to be detected*</span>\n",
    "\n",
    "- ``AnnotatorsList_tab`` : Annotators selected by dataset. As list of list, same dimension as the dataset_ID_tab. \n",
    "    - Ex : ``AnnotatorsList_tab`` = [['annotatorA', 'annotatorB'], ['annotatorC'], [['annotatorD', 'annotatorE']] \n",
    "    - Means that annotator A and B are selected for the dataset1, annotator C for the dataset2, and annotators D and E for the dataset3.\n",
    "\n",
    "</br>\n",
    "\n",
    "- ``orig_LabelsList_tab`` : label to be kept for the detection, for each dataset. As list of list, same dimension as the dataset_ID_tab.\n",
    "    - Ex : ``orig_LabelsList_tab`` = [['whistles'], ['click', 'whistle'], [['dolphins_clicks', 'globi_clicks']] \n",
    "    - Means that the label 'whistles' is selected for the dataset1, labels 'click' and 'whistles' for the dataset2, and labels 'dolphins_clicks' and 'globi_clicks' for the dataset3.\n",
    "\n",
    "</br>\n",
    "\n",
    "- ``FinalLabel_Dic`` : labels used for the detectors. Allows you to merge some label from different dataset. As a dictionnary where keys are final labels and each one leads to a list with labels from \"orig_LabelsList_tan\".\n",
    "    - Ex : ``FinalLabel_Dic`` = {'Whistles':['whistles', 'whistle'], 'Clicks':['click', 'dolphins_clicks', 'globi_clicks']}\n",
    "    - Means that labels 'whistles' and 'whistle' will be merged as one label called 'Whistles', and the labels 'click', 'dolphins_clicks' and  'globi_clicks' will be merged as one label called 'Clicks'. \n",
    "\n",
    "</br>\n",
    "\n",
    "- ``Crop_duration`` : Time (in second) cropped at the start and end of the annotation (if you think the annotation does not exactly fit the sound of interest). \n",
    "    - Ex : ``Crop_duration`` = 1\n",
    "    - Ex2 : ``Crop_duration`` = 0 (if you do not want to crop them.\n",
    "    \n",
    "- ``is_box`` : Annotation selected. \n",
    "    - ``is_box`` = None : All annotations\n",
    "    - ``is_box`` = 1 : only time-frequencie boxes\n",
    "    - ``is_box`` = 0 : only weak annotation\n",
    "    \n",
    "- ``LabelType`` : method for labelling \n",
    "    - ``is_box`` = 'classic' : presence = 1 ; absence = 0\n",
    "    - ``is_box``  = 'soft_labels' : presence = ratio of annotators that annotated the sample / all annotators ; absence = 0"
   ]
  },
  {
   "cell_type": "code",
   "execution_count": 10,
   "id": "615cea90-10fe-40ae-bc2f-8810ae309d22",
   "metadata": {},
   "outputs": [],
   "source": [
    "AnnotatorsList_tab = [['ElephantIsland2013Aural'], ['ElephantIsland2014'], ['RossSea2014']]\n",
    "\n",
    "orig_LabelsList_tab = [['BmAnt-A', 'BmAnt-B', 'BmAnt-Z'], ['BmAnt-A', 'BmAnt-B', 'BmAnt-Z'], ['BmAnt-A']]\n",
    "\n",
    "FinalLabel_Dic = {'Bm':['BmAnt-A', 'BmAnt-B', 'BmAnt-Z']}\n",
    "\n",
    "Crop_duration = 2 #seconds #Pourcentage de la boite\n",
    "is_box = None # 0, 1 ou None\n",
    "\n",
    "LabelType = 'classic' # 'classic' or 'soft_labels'"
   ]
  },
  {
   "cell_type": "markdown",
   "id": "e7eedf12-f114-400a-b78a-129813228460",
   "metadata": {},
   "source": [
    "## Launch Formatting\n",
    "\n",
    "#### <span style=\"color:blue\">*JUST RUN CELL*</span>"
   ]
  },
  {
   "cell_type": "code",
   "execution_count": 11,
   "id": "55c5e48a-5fea-4771-a2f8-d65839d0f303",
   "metadata": {},
   "outputs": [
    {
     "name": "stdout",
     "output_type": "stream",
     "text": [
      "Processing dataset : BlueFinLibrary_ElephantIsland2013Aural\n",
      "Task Status existing : we're removing all unannotated files ...\n"
     ]
    },
    {
     "name": "stderr",
     "output_type": "stream",
     "text": [
      "Check over all audio file : 100%|██████████| 50992/50992 [00:32<00:00, 1561.27it/s]\n"
     ]
    },
    {
     "name": "stdout",
     "output_type": "stream",
     "text": [
      "Done, 13529 files remains\n",
      "Matching annotation with timestamp for each label ...\n",
      "Label :  BmAnt-A  ...\n"
     ]
    },
    {
     "name": "stderr",
     "output_type": "stream",
     "text": [
      "Checking annotation datetime : 100%|██████████| 35069/35069 [00:00<00:00, 144055.09it/s]\n",
      "Checking audio file datetime : 100%|██████████| 13529/13529 [00:35<00:00, 378.10it/s]\n",
      "Matching overlap : 100%|██████████| 2625/2625 [00:00<00:00, 7889.90it/s]\n"
     ]
    },
    {
     "name": "stdout",
     "output_type": "stream",
     "text": [
      "BmAnt-A OK\n",
      "Label :  BmAnt-B  ...\n"
     ]
    },
    {
     "name": "stderr",
     "output_type": "stream",
     "text": [
      "Checking annotation datetime : 100%|██████████| 35069/35069 [00:00<00:00, 176462.81it/s]\n",
      "Checking audio file datetime : 100%|██████████| 13529/13529 [00:35<00:00, 383.72it/s]\n",
      "Matching overlap : 100%|██████████| 1782/1782 [00:00<00:00, 7683.62it/s]\n"
     ]
    },
    {
     "name": "stdout",
     "output_type": "stream",
     "text": [
      "BmAnt-B OK\n",
      "Label :  BmAnt-Z  ...\n"
     ]
    },
    {
     "name": "stderr",
     "output_type": "stream",
     "text": [
      "Checking annotation datetime : 100%|██████████| 35069/35069 [00:00<00:00, 267766.04it/s]\n",
      "Checking audio file datetime : 100%|██████████| 13529/13529 [00:35<00:00, 377.31it/s]\n",
      "Matching overlap : 100%|██████████| 152/152 [00:00<00:00, 7320.41it/s]\n"
     ]
    },
    {
     "name": "stdout",
     "output_type": "stream",
     "text": [
      "BmAnt-Z OK\n",
      "Number of files :  13529\n",
      "BmAnt-A  -> ratio of positive :      16.232 %\n",
      "BmAnt-B  -> ratio of positive :      11.826 %\n",
      "BmAnt-Z  -> ratio of positive :       1.249 %\n",
      "   \n",
      "____________________\n",
      "Processing dataset : BlueFinLibrary_ElephantIsland2014\n",
      "Task Status existing : we're removing all unannotated files ...\n"
     ]
    },
    {
     "name": "stderr",
     "output_type": "stream",
     "text": [
      "Check over all audio file : 100%|██████████| 14133/14133 [00:04<00:00, 3282.42it/s]\n"
     ]
    },
    {
     "name": "stdout",
     "output_type": "stream",
     "text": [
      "Done, 14133 files remains\n",
      "Matching annotation with timestamp for each label ...\n",
      "Label :  BmAnt-A  ...\n"
     ]
    },
    {
     "name": "stderr",
     "output_type": "stream",
     "text": [
      "Checking annotation datetime : 100%|██████████| 23631/23631 [00:00<00:00, 58927.23it/s]\n",
      "Checking audio file datetime : 100%|██████████| 14133/14133 [00:14<00:00, 954.57it/s]\n",
      "Matching overlap : 100%|██████████| 6891/6891 [00:01<00:00, 5651.07it/s]\n"
     ]
    },
    {
     "name": "stdout",
     "output_type": "stream",
     "text": [
      "BmAnt-A OK\n",
      "Label :  BmAnt-B  ...\n"
     ]
    },
    {
     "name": "stderr",
     "output_type": "stream",
     "text": [
      "Checking annotation datetime : 100%|██████████| 23631/23631 [00:00<00:00, 125805.80it/s]\n",
      "Checking audio file datetime : 100%|██████████| 14133/14133 [00:14<00:00, 959.74it/s]\n",
      "Matching overlap : 100%|██████████| 964/964 [00:00<00:00, 5386.53it/s]\n"
     ]
    },
    {
     "name": "stdout",
     "output_type": "stream",
     "text": [
      "BmAnt-B OK\n",
      "Label :  BmAnt-Z  ...\n"
     ]
    },
    {
     "name": "stderr",
     "output_type": "stream",
     "text": [
      "Checking annotation datetime : 100%|██████████| 23631/23631 [00:00<00:00, 190955.78it/s]\n",
      "Checking audio file datetime : 100%|██████████| 14133/14133 [00:12<00:00, 1166.60it/s]\n",
      "Matching overlap : 100%|██████████| 100/100 [00:00<00:00, 7431.70it/s]\n"
     ]
    },
    {
     "name": "stdout",
     "output_type": "stream",
     "text": [
      "BmAnt-Z OK\n",
      "Number of files :  14133\n",
      "BmAnt-A  -> ratio of positive :      37.182 %\n",
      "BmAnt-B  -> ratio of positive :       5.979 %\n",
      "BmAnt-Z  -> ratio of positive :       0.757 %\n",
      "   \n",
      "____________________\n",
      "Processing dataset : BlueFinLibrary_RossSea2014\n",
      "Task Status existing : we're removing all unannotated files ...\n"
     ]
    },
    {
     "name": "stderr",
     "output_type": "stream",
     "text": [
      "Check over all audio file : 100%|██████████| 12780/12780 [00:01<00:00, 8645.63it/s] \n"
     ]
    },
    {
     "name": "stdout",
     "output_type": "stream",
     "text": [
      "Done, 12672 files remains\n",
      "Matching annotation with timestamp for each label ...\n",
      "Label :  BmAnt-A  ...\n"
     ]
    },
    {
     "name": "stderr",
     "output_type": "stream",
     "text": [
      "Checking annotation datetime : 100%|██████████| 359/359 [00:00<00:00, 47882.31it/s]\n",
      "Checking audio file datetime : 100%|██████████| 12672/12672 [00:08<00:00, 1435.91it/s]\n",
      "Matching overlap : 100%|██████████| 71/71 [00:00<00:00, 7106.61it/s]\n"
     ]
    },
    {
     "name": "stdout",
     "output_type": "stream",
     "text": [
      "BmAnt-A OK\n",
      "Number of files :  12672\n",
      "BmAnt-A  -> ratio of positive :       0.268 %\n",
      "   \n",
      "____________________\n",
      "Merging All Datasets ...\n"
     ]
    },
    {
     "name": "stderr",
     "output_type": "stream",
     "text": [
      "100%|██████████| 13529/13529 [00:00<00:00, 61350.44it/s]\n",
      "100%|██████████| 14133/14133 [00:00<00:00, 68688.41it/s]\n",
      "100%|██████████| 12672/12672 [00:00<00:00, 130207.92it/s]\n"
     ]
    },
    {
     "name": "stdout",
     "output_type": "stream",
     "text": [
      "Number of files :  40334\n",
      "Bm  -> ratio of positive :      23.092 %\n",
      "DONE ! \n",
      "Next step : Define DEV [train+val] and EVAL sets for your network !\n"
     ]
    },
    {
     "name": "stderr",
     "output_type": "stream",
     "text": [
      "C:\\Users\\gabri.DESKTOP-QIPER28\\anaconda3\\lib\\site-packages\\numpy\\lib\\npyio.py:716: VisibleDeprecationWarning: Creating an ndarray from ragged nested sequences (which is a list-or-tuple of lists-or-tuples-or ndarrays with different lengths or shapes) is deprecated. If you meant to do this, you must specify 'dtype=object' when creating the ndarray.\n",
      "  val = np.asanyarray(val)\n"
     ]
    }
   ],
   "source": [
    "FormatDatasets_main(path_osmose_dataset, path_osmose_analysisAI, Task_ID, BM_Name, LenghtFile_tab, sample_rate_tab, dataset_ID_tab, file_annotation_tab, orig_LabelsList_tab, FinalLabel_Dic, AnnotatorsList_tab, Crop_duration, is_box, LabelType)"
   ]
  },
  {
   "cell_type": "code",
   "execution_count": null,
   "id": "1bee9270-ef41-480a-b86e-2e550577ee51",
   "metadata": {},
   "outputs": [],
   "source": []
  },
  {
   "cell_type": "code",
   "execution_count": null,
   "id": "f9a17de3-41ec-495a-9081-8c8c3e3d04bf",
   "metadata": {},
   "outputs": [],
   "source": []
  },
  {
   "cell_type": "code",
   "execution_count": null,
   "id": "08825897-617c-40a2-9aa6-2fe8d0c1383f",
   "metadata": {},
   "outputs": [],
   "source": []
  },
  {
   "cell_type": "code",
   "execution_count": null,
   "id": "9c596b57-f5dc-4533-a627-b65740523ff6",
   "metadata": {},
   "outputs": [],
   "source": []
  },
  {
   "cell_type": "code",
   "execution_count": null,
   "id": "38646a35-10e0-4f33-aa42-f2bb6000ed85",
   "metadata": {},
   "outputs": [],
   "source": []
  },
  {
   "cell_type": "code",
   "execution_count": null,
   "id": "d1b54597-e897-4a49-9a59-7f327c2613f2",
   "metadata": {},
   "outputs": [],
   "source": []
  },
  {
   "cell_type": "code",
   "execution_count": null,
   "id": "894a50ee-62e6-430e-8993-9a3528b3906b",
   "metadata": {},
   "outputs": [],
   "source": []
  },
  {
   "cell_type": "code",
   "execution_count": null,
   "id": "b45a491a-9bab-4fa6-a930-3bde670ed4d2",
   "metadata": {},
   "outputs": [],
   "source": []
  },
  {
   "cell_type": "markdown",
   "id": "7913df40-f152-42c3-98f7-61e13ff856aa",
   "metadata": {},
   "source": [
    "#### <span style=\"color:blue\">*Exemple if you want to format iteratively several datasets, tasks, annotation sets, ...*</span>"
   ]
  },
  {
   "cell_type": "code",
   "execution_count": null,
   "id": "4bb43485-a80c-4bec-bec6-6db86c90d378",
   "metadata": {},
   "outputs": [],
   "source": [
    "AN_list = ['Nassau', 'Shanghai', 'Civitavecchia', 'Galveston', 'Venice', 'Fukuoka', 'Naples', 'Bridgetown', 'Valletta', 'Rostock', 'Dubrovnik', 'Mahahual', 'Ensenada', 'Tunis', 'Funchal', 'Tallinn','Malaga', 'Helsinki', 'Valencia']\n",
    "\n",
    "for i in range(len(AN_list)):\n",
    "    LenghtFile_tab = [50]\n",
    "    sample_rate_tab = [500]\n",
    "\n",
    "    Task_ID = 'Task_Glider_PBW_AnnotatorAnalysis'\n",
    "\n",
    "    BM_Name = 'BM_AN_'+AN_list[i]\n",
    "    \n",
    "    file_annotation_tab = ['20210420_Astrolabe_xOSmOSE-Campagne_participative_results.csv']\n",
    "    \n",
    "    \n",
    "    AnnotatorsList_tab = [[AN_list[i]]]\n",
    "    \n",
    "    orig_LabelsList_tab = [[\"Baleine Bleue d'Australie\"]]\n",
    "    \n",
    "    FinalLabel_Dic = {'Bm.Aus':[\"Baleine Bleue d'Australie\"]}\n",
    "    \n",
    "    Crop_duration = 2 #seconds\n",
    "    is_box = None\n",
    "    \n",
    "    LabelType = \"classic\"\n",
    "\n",
    "    FormatDatasets_main(path_osmose_dataset, path_osmose_analysisAI, Task_ID, BM_Name, LenghtFile_tab, sample_rate_tab, dataset_ID_tab, file_annotation_tab, orig_LabelsList_tab, FinalLabel_Dic, AnnotatorsList_tab, Crop_duration, is_box)"
   ]
  },
  {
   "cell_type": "code",
   "execution_count": null,
   "id": "8ca27540-8fa5-4d96-9fc5-1793f49a5f80",
   "metadata": {},
   "outputs": [],
   "source": []
  }
 ],
 "metadata": {
  "kernelspec": {
   "display_name": "Python 3 (ipykernel)",
   "language": "python",
   "name": "python3"
  },
  "language_info": {
   "codemirror_mode": {
    "name": "ipython",
    "version": 3
   },
   "file_extension": ".py",
   "mimetype": "text/x-python",
   "name": "python",
   "nbconvert_exporter": "python",
   "pygments_lexer": "ipython3",
   "version": "3.8.8"
  }
 },
 "nbformat": 4,
 "nbformat_minor": 5
}
