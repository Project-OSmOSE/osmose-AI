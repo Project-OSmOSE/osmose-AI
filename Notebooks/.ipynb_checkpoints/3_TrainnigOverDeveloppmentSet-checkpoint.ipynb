{
 "cells": [
  {
   "cell_type": "markdown",
   "id": "a911ba53-f148-436a-a84b-a107b118cb5e",
   "metadata": {},
   "source": [
    "## Import functions "
   ]
  },
  {
   "cell_type": "markdown",
   "id": "be9e4e47-d0ea-4958-a22d-da09b20076c7",
   "metadata": {},
   "source": [
    "#### <span style=\"color:red\">*JUST RUN CELL*</span>\n"
   ]
  },
  {
   "cell_type": "code",
   "execution_count": 1,
   "id": "239dbd34-388b-4dfe-94a7-02fb4184eea0",
   "metadata": {},
   "outputs": [],
   "source": [
    "import os \n",
    "import sys\n",
    "import numpy as np\n",
    "#os.chdir(os.path.join(\"/home/datawork-osmose/\",'osmoseNotebooks_v0','source'))\n",
    "\n",
    "with open('path_codes.txt') as f:\n",
    "    codes_path = f.readlines()[0]\n",
    "os.chdir(os.path.join(codes_path))\n",
    "\n",
    "from train_network import TrainNetwork_main \n",
    "from launcher_datasetScale import list_datasets\n",
    "from check_files_in_ai_folders import CheckAvailableAI_tasks_BM, CheckAvailableAI_DataSplit, CheckAvailableFormats\n"
   ]
  },
  {
   "cell_type": "markdown",
   "id": "431855bb-1d21-48a5-8756-f29c59125a6f",
   "metadata": {},
   "source": [
    "## Selection of task, benchmark and datasplit"
   ]
  },
  {
   "cell_type": "code",
   "execution_count": 14,
   "id": "75ec9af4-f81b-49be-a3f1-501befecaa35",
   "metadata": {},
   "outputs": [
    {
     "name": "stdout",
     "output_type": "stream",
     "text": [
      "/\n",
      "TaskTEST1/\n",
      "    BMTEST1_1/\n",
      "             Dataset used :  ['MPSU_ForestouHuella' 'MPSU_ForestouHuella_copy']\n"
     ]
    }
   ],
   "source": [
    "CheckAvailableAI_tasks_BM()"
   ]
  },
  {
   "cell_type": "code",
   "execution_count": 15,
   "id": "ae4f7ff0-218c-4f8f-8ea1-0eb67f72afaf",
   "metadata": {},
   "outputs": [],
   "source": [
    "Task_ID = 'TaskTEST1'\n",
    "BM_Name = 'BMTEST1_1'\n"
   ]
  },
  {
   "cell_type": "code",
   "execution_count": 4,
   "id": "3ff53197-4138-4010-a3bd-6bc4a6572b6f",
   "metadata": {},
   "outputs": [
    {
     "name": "stdout",
     "output_type": "stream",
     "text": [
      "Datasplit Available in this tsak and this benchmark : \n",
      "info_datasplit/\n",
      "    SPLIT1/\n",
      "    SPLIT2/\n",
      "    SPLIT3/\n"
     ]
    }
   ],
   "source": [
    "CheckAvailableAI_DataSplit(Task_ID, BM_Name)"
   ]
  },
  {
   "cell_type": "code",
   "execution_count": 8,
   "id": "08587151-5ae7-4c02-9609-4b46492ba3ee",
   "metadata": {},
   "outputs": [],
   "source": [
    "SplitName = 'SPLIT2'"
   ]
  },
  {
   "cell_type": "markdown",
   "id": "5bdb4661-7cbd-4108-b5c5-026dba243ff1",
   "metadata": {},
   "source": [
    "## Check model \n",
    "\n",
    "Choose the name of your new model. If the name already exist, it will be overwrited."
   ]
  },
  {
   "cell_type": "code",
   "execution_count": null,
   "id": "69830632-584e-4fb6-a077-13f02d7c43d4",
   "metadata": {},
   "outputs": [],
   "source": [
    "CheckAvailableAI_model(Task_ID, BM_Name)"
   ]
  },
  {
   "cell_type": "markdown",
   "id": "9ab06be6-d9a0-4314-9c34-bec136745922",
   "metadata": {},
   "source": [
    "## Check all spectrograms already available \n",
    "\n",
    "Enter the spectrogram format in the corresponding parameters.\n",
    "As list, to match with the list of dataset used in the benchmark (checked above).\n",
    "\n",
    "Example with 2 dataset : \n",
    "- ``nfft`` = [1024, 4096] \n",
    "- ``window_size`` = [1024, 1024] \n",
    "- ``overlap`` = [80, 50]\n",
    "\n",
    "\n",
    "It is also possible to use only .wav file as input, new spectrograms will be computed iteratively.\n",
    "In this case, please fill also some other parameters for the new spectrograms : \n",
    "\n",
    "- ``dynamic_min`` = [-40, -40]\n",
    "- ``dynamic_max`` = [40, 40]\n",
    "- ``scaling`` = ['spectrum', 'spectrum']"
   ]
  },
  {
   "cell_type": "code",
   "execution_count": 16,
   "id": "69800912-21b9-4c2d-9c9d-5852fcb9afcb",
   "metadata": {},
   "outputs": [
    {
     "name": "stdout",
     "output_type": "stream",
     "text": [
      "_______________\n",
      "Dataset :  MPSU_ForestouHuella\n",
      "Available Spectrogram Format (nfft_windowsize_overlap) :\n",
      "      1024_1024_50/\n",
      "_______________\n",
      "Dataset :  MPSU_ForestouHuella_copy\n",
      "Available Spectrogram Format (nfft_windowsize_overlap) :\n",
      "      1024_1024_50/\n"
     ]
    }
   ],
   "source": [
    "CheckAvailableFormats(Task_ID, BM_Name)"
   ]
  },
  {
   "cell_type": "code",
   "execution_count": 13,
   "id": "97707b8e-9f1b-411f-8ce9-1f6b02f9187a",
   "metadata": {},
   "outputs": [],
   "source": [
    "input_data_format = 'audio' #'audio' ou 'spectrogram'\n",
    "# 'spectrogram' : use already computed spectrogram\n",
    "# 'audio' : use .wav file, spectrogram will be computed iteratively\n",
    "\n",
    "nfft = [1024, 1024]\n",
    "window_size = [1024, 1024]\n",
    "overlap = [50, 50]\n",
    "\n",
    "#Useless if input_data_format = 'spectrogram'\n",
    "dynamic_min = [-40, -40]\n",
    "dynamic_max = [40, 40]\n",
    "scaling = ['spectrum', 'spectrum']"
   ]
  },
  {
   "cell_type": "code",
   "execution_count": null,
   "id": "151bbfcc-ff86-4b95-81dc-8b7e9829d413",
   "metadata": {},
   "outputs": [],
   "source": []
  },
  {
   "cell_type": "code",
   "execution_count": null,
   "id": "da59428c-d0dc-4169-8cf1-ce5e75f4d439",
   "metadata": {},
   "outputs": [],
   "source": [
    "Version_name = 'model2'\n",
    "ModelName = 'CNN3_FC1'"
   ]
  },
  {
   "cell_type": "markdown",
   "id": "4c3d22fa-9f9a-404a-b8b0-bbe0d344743a",
   "metadata": {},
   "source": [
    "#### <span style=\"color:green\">*LIST OF PARAMETERS*</span>\n",
    "\n",
    "- `` Version_name `` : Choose a name for your model \n",
    "\n",
    "- `` ModelName `` : Architecture of the model. Please, select one in this list : (for more details, check : https://pytorch.org/vision/main/models.html)\n",
    "    - 'resnet18'\n",
    "    - 'resnet50'\n",
    "    - 'resnet101'\n",
    "    - 'vgg11'\n",
    "    - 'vgg11_bn'\n",
    "    - 'vgg13'\n",
    "    - 'vgg13_bn'\n",
    "    - 'vgg19'\n",
    "    - 'vgg19_bn'\n",
    "    - 'alexnet'\n",
    "   \n",
    "    \n",
    "- `` use_pretrained `` : (for more details, check : https://pytorch.org/vision/main/models.html) (By default : use_pretrained = True)\n",
    "    - True : if you want to used already pretrained network one reference image dataset and just finetun the last layer \n",
    "    - False : if you want to train your network from random weights and adjust all layers\n",
    "\n",
    "\n",
    "       \n",
    "- `` TrainSetRatio `` : ratio between 0 and 1 of all the developpement set that will be used for the training (the oser part is for testing). (if None : TrainSetRatio = 0.9)\n",
    "\n",
    "- `` batch_size `` : Number of spectrograms per batch (if None : batch_size = 10)\n",
    "- `` learning_rate `` : step size at each iteration while moving toward a minimum of a loss function (if None : learning_rate = 1e-3)\n",
    "- `` num_epochs `` : Number of iteration over all developpement set (if None : num_epochs = 10)\n",
    "\n",
    "- `` Dyn `` : Numpy array with two elements np.array([LevelMindB,LevelMaxdB]). Define the lower and upper level threshold apply on the spectrograms. If Dyn=None, we will use the dynamic applied for the visualisation. (By default : Dyn = None)\n"
   ]
  },
  {
   "cell_type": "code",
   "execution_count": 7,
   "id": "b3f6b74d-3f92-43fc-b250-dcbab1dd4c13",
   "metadata": {},
   "outputs": [],
   "source": [
    "TrainsetRatio = 0.8\n",
    "batch_size = 5\n",
    "learning_rate = 1e-4\n",
    "num_epochs = 20\n",
    "shuffle = 'True'\n",
    "\n",
    "use_pretrained = False\n",
    "\n",
    "\n",
    "\n",
    "\n",
    "\n"
   ]
  },
  {
   "cell_type": "code",
   "execution_count": 19,
   "id": "d55d279e-15c9-4b18-b296-52a752f3b335",
   "metadata": {},
   "outputs": [],
   "source": [
    "parameters = {'TrainsetRatio':TrainsetRatio, 'batch_size':batch_size, 'learning_rate':learning_rate, 'num_epochs':num_epochs, 'shuffle':shuffle, 'use_pretrained':use_pretrained, 'input_data_format':input_data_format, 'nfft':nfft, 'window_size':window_size, 'overlap':overlap, 'dynamic_min':dynamic_min, 'dynamic_max':dynamic_max, 'scaling':scaling}"
   ]
  },
  {
   "cell_type": "code",
   "execution_count": 20,
   "id": "5e00eef9-fa5e-4db1-9c81-624b71c70fcb",
   "metadata": {},
   "outputs": [
    {
     "name": "stdout",
     "output_type": "stream",
     "text": [
      "MODEL INFORMATION : \n",
      " \n",
      "CNN3_FC1(\n",
      "  (conv1): Sequential(\n",
      "    (0): Conv2d(1, 64, kernel_size=(8, 8), stride=(4, 4))\n",
      "    (1): BatchNorm2d(64, eps=1e-05, momentum=0.1, affine=True, track_running_stats=True)\n",
      "  )\n",
      "  (conv2): Sequential(\n",
      "    (0): Conv2d(64, 128, kernel_size=(3, 3), stride=(2, 2))\n",
      "    (1): BatchNorm2d(128, eps=1e-05, momentum=0.1, affine=True, track_running_stats=True)\n",
      "  )\n",
      "  (conv3): Sequential(\n",
      "    (0): Conv2d(128, 256, kernel_size=(3, 3), stride=(2, 2))\n",
      "    (1): BatchNorm2d(256, eps=1e-05, momentum=0.1, affine=True, track_running_stats=True)\n",
      "  )\n",
      "  (lin1): Linear(in_features=256, out_features=2, bias=True)\n",
      "  (dout): Dropout(p=0.25, inplace=False)\n",
      ")\n",
      "Params to learn:\n",
      "\t conv1.0.weight\n",
      "\t conv1.0.bias\n",
      "\t conv1.1.weight\n",
      "\t conv1.1.bias\n",
      "\t conv2.0.weight\n",
      "\t conv2.0.bias\n",
      "\t conv2.1.weight\n",
      "\t conv2.1.bias\n",
      "\t conv3.0.weight\n",
      "\t conv3.0.bias\n",
      "\t conv3.1.weight\n",
      "\t conv3.1.bias\n",
      "\t lin1.weight\n",
      "\t lin1.bias\n",
      " \n",
      "TRAINNING : \n",
      "Epoch TRAIN [1/20]  -- Loss = 0.9644142687320709  --  iteration [14/14]  \n",
      "Epoch TEST [1/20]  -- Loss = 0.6844345728556315  --  iteration [3/3]  \n",
      "Epoch TRAIN [2/20]  -- Loss = 0.8900591007300785  --  iteration [14/14]  \n",
      "Epoch TEST [2/20]  -- Loss = 0.6834534605344137  --  iteration [3/3]  \n",
      "Epoch TRAIN [3/20]  -- Loss = 0.6961993660245623  --  iteration [14/14]  \n",
      "Epoch TEST [3/20]  -- Loss = 0.7312669555346171  --  iteration [3/3]  \n",
      "Epoch TRAIN [4/20]  -- Loss = 0.6560964712074825  --  iteration [14/14]  \n",
      "Epoch TEST [4/20]  -- Loss = 0.6879807909329733  --  iteration [3/3]  \n",
      "Epoch TRAIN [5/20]  -- Loss = 0.5785183949129922  --  iteration [14/14]  \n",
      "Epoch TEST [5/20]  -- Loss = 0.6362895965576172  --  iteration [3/3]  \n",
      "Epoch TRAIN [6/20]  -- Loss = 0.5958656689950398  --  iteration [14/14]  \n",
      "Epoch TEST [6/20]  -- Loss = 0.7679659525553385  --  iteration [3/3]  \n",
      "Epoch TRAIN [7/20]  -- Loss = 0.49194284102746416  --  iteration [14/14]  \n",
      "Epoch TEST [7/20]  -- Loss = 0.7075989246368408  --  iteration [3/3]  \n",
      "Epoch TRAIN [8/20]  -- Loss = 0.5280288692031588  --  iteration [14/14]  \n",
      "Epoch TEST [8/20]  -- Loss = 0.5769491593043009  --  iteration [3/3]  \n",
      "Epoch TRAIN [9/20]  -- Loss = 0.49254037120512556  --  iteration [14/14]  \n",
      "Epoch TEST [9/20]  -- Loss = 0.650992194811503  --  iteration [3/3]  \n",
      "Epoch TRAIN [10/20]  -- Loss = 0.4606964737176895  --  iteration [14/14]  \n",
      "Epoch TEST [10/20]  -- Loss = 0.8408624529838562  --  iteration [3/3]  \n",
      "Epoch TRAIN [11/20]  -- Loss = 0.4711490422487259  --  iteration [14/14]  \n",
      "Epoch TEST [11/20]  -- Loss = 0.7614576617876688  --  iteration [3/3]  \n",
      "Epoch TRAIN [12/20]  -- Loss = 0.422615647315979  --  iteration [14/14]  \n",
      "Epoch TEST [12/20]  -- Loss = 0.5924311677614847  --  iteration [3/3]  \n",
      "Epoch TRAIN [13/20]  -- Loss = 0.38127781982932774  --  iteration [14/14]  \n",
      "Epoch TEST [13/20]  -- Loss = 0.6493100821971893  --  iteration [3/3]  \n",
      "Epoch TRAIN [14/20]  -- Loss = 0.43480410639728817  --  iteration [14/14]  \n",
      "Epoch TEST [14/20]  -- Loss = 0.7359281480312347  --  iteration [3/3]  \n",
      "Epoch TRAIN [15/20]  -- Loss = 0.330174694103854  --  iteration [14/14]  \n",
      "Epoch TEST [15/20]  -- Loss = 0.7333839337031046  --  iteration [3/3]  \n",
      "Epoch TRAIN [16/20]  -- Loss = 0.37164286949804853  --  iteration [14/14]  \n",
      "Epoch TEST [16/20]  -- Loss = 0.7754022081693014  --  iteration [3/3]  \n",
      "Epoch TRAIN [17/20]  -- Loss = 0.3572088043604578  --  iteration [14/14]  \n",
      "Epoch TEST [17/20]  -- Loss = 0.7738964955012003  --  iteration [3/3]  \n",
      "Epoch TRAIN [18/20]  -- Loss = 0.2926475352474621  --  iteration [14/14]  \n",
      "Epoch TEST [18/20]  -- Loss = 0.7298010885715485  --  iteration [3/3]  \n",
      "Epoch TRAIN [19/20]  -- Loss = 0.3457701174276216  --  iteration [14/14]  \n",
      "Epoch TEST [19/20]  -- Loss = 0.7681812644004822  --  iteration [3/3]  \n",
      "Epoch TRAIN [20/20]  -- Loss = 0.34995672958237783  --  iteration [14/14]  \n",
      "Epoch TEST [20/20]  -- Loss = 0.5960647960503896  --  iteration [3/3]  \n",
      "DONE\n",
      " \n",
      "Train and Test losses over epochs\n"
     ]
    },
    {
     "data": {
      "image/png": "[encoded data removed]",
      "text/plain": [
       "<Figure size 640x480 with 1 Axes>"
      ]
     },
     "metadata": {},
     "output_type": "display_data"
    }
   ],
   "source": [
    "TrainNetwork_main(Task_ID, BM_Name, SplitName, Version_name, ModelName, parameters)"
   ]
  },
  {
   "cell_type": "code",
   "execution_count": null,
   "id": "b1501b47-c66b-4752-a23b-16643b04c12f",
   "metadata": {},
   "outputs": [],
   "source": []
  },
  {
   "cell_type": "code",
   "execution_count": null,
   "id": "d32e2b11-b8bc-4bfd-aaa0-7b31ba3ae6ef",
   "metadata": {},
   "outputs": [],
   "source": []
  },
  {
   "cell_type": "code",
   "execution_count": null,
   "id": "ea4915c1-6fdc-4638-ba24-eabaf2d9737d",
   "metadata": {},
   "outputs": [],
   "source": []
  },
  {
   "cell_type": "code",
   "execution_count": null,
   "id": "77911239-734c-4ded-b60c-99abf5ceeb5d",
   "metadata": {},
   "outputs": [],
   "source": []
  },
  {
   "cell_type": "code",
   "execution_count": null,
   "id": "9b1c5839-c555-42e5-8c63-699248482add",
   "metadata": {},
   "outputs": [],
   "source": []
  },
  {
   "cell_type": "markdown",
   "id": "94c57efe-4eec-4932-897b-71b4ba32d370",
   "metadata": {},
   "source": [
    "## Definition of hyperparameters"
   ]
  },
  {
   "cell_type": "markdown",
   "id": "63696557-08df-40a4-8e2d-6ed2f2912ad1",
   "metadata": {},
   "source": [
    "#### <span style=\"color:red\">*FILL & RUN CELL*</span>\n",
    "\n",
    "- `` Version_name `` : Choose a name for your model \n",
    "\n",
    "- `` ModelName `` : Architecture of the model. Please, select one in this list : (for more details, check : https://pytorch.org/vision/main/models.html)\n",
    "    - 'resnet18'\n",
    "    - 'resnet50'\n",
    "    - 'resnet101'\n",
    "    - 'vgg11'\n",
    "    - 'vgg11_bn'\n",
    "    - 'vgg13'\n",
    "    - 'vgg13_bn'\n",
    "    - 'vgg19'\n",
    "    - 'vgg19_bn'\n",
    "    - 'alexnet'\n",
    "    - 'squeezenet'\n",
    "    - 'densenet'\n",
    "    - 'inception'\n",
    "    \n",
    "    \n",
    "- `` use_pretrained `` : (for more details, check : https://pytorch.org/vision/main/models.html) (By default : use_pretrained = True)\n",
    "    - True : if you want to used already pretrained network one reference image dataset and just finetun the last layer \n",
    "    - False : if you want to train your network from random weights and adjust all layers\n",
    "\n",
    "\n",
    "       \n",
    "- `` TrainSetRatio `` : ratio between 0 and 1 of all the developpement set that will be used for the training (the oser part is for testing). (if None : TrainSetRatio = 0.9)\n",
    "\n",
    "- `` batch_size `` : Number of spectrograms per batch (if None : batch_size = 10)\n",
    "- `` learning_rate `` : step size at each iteration while moving toward a minimum of a loss function (if None : learning_rate = 1e-3)\n",
    "- `` num_epochs `` : Number of iteration over all developpement set (if None : num_epochs = 10)\n",
    "\n",
    "- `` Dyn `` : Numpy array with two elements np.array([LevelMindB,LevelMaxdB]). Define the lower and upper level threshold apply on the spectrograms. If Dyn=None, we will use the dynamic applied for the visualisation. (By default : Dyn = None)\n",
    "\n"
   ]
  },
  {
   "cell_type": "code",
   "execution_count": null,
   "id": "c691bc36-d890-4df0-ab64-c91e337f44ef",
   "metadata": {},
   "outputs": [],
   "source": [
    "Version_name = 'V1_vgg11bn_pt'\n",
    "\n",
    "ModelName = 'vgg11_bn'\n",
    "use_pretrained = True\n",
    "\n",
    "TrainSetRatio = 0.9\n",
    "\n",
    "batch_size = 10\n",
    "learning_rate = 1e-5\n",
    "num_epochs = 300\n",
    "\n",
    "Dyn = np.array([-20,20])"
   ]
  },
  {
   "cell_type": "code",
   "execution_count": null,
   "id": "3b63647e-9276-4c1f-9266-3e921e817724",
   "metadata": {},
   "outputs": [],
   "source": [
    "TrainNetwork_main(dataset_ID=dataset_ID, Task_ID=Task_ID, BM_Name=BM_Name, LengthFile=LengthFile, Fs=analysis_fs, SplitName=SplitName, Version_name=Version_name, ModelName=ModelName, use_pretrained=use_pretrained, TrainSetRatio=TrainSetRatio, batch_size = batch_size, learning_rate=learning_rate, num_epochs=num_epochs, Dyn=Dyn)"
   ]
  },
  {
   "cell_type": "code",
   "execution_count": null,
   "id": "80fb1576-53a5-4c62-9b80-ab8acb0db7b2",
   "metadata": {},
   "outputs": [],
   "source": []
  },
  {
   "cell_type": "code",
   "execution_count": null,
   "id": "e455bd82-6454-4fba-a7f4-9086e4a4f438",
   "metadata": {},
   "outputs": [],
   "source": []
  },
  {
   "cell_type": "code",
   "execution_count": null,
   "id": "2449eb3c-b39c-437c-9b68-0004ffa0c7eb",
   "metadata": {},
   "outputs": [],
   "source": []
  },
  {
   "cell_type": "code",
   "execution_count": null,
   "id": "0d5d16f3-40e4-4172-b2fb-3617c192e6a5",
   "metadata": {},
   "outputs": [],
   "source": []
  }
 ],
 "metadata": {
  "kernelspec": {
   "display_name": "Python 3 (ipykernel)",
   "language": "python",
   "name": "python3"
  },
  "language_info": {
   "codemirror_mode": {
    "name": "ipython",
    "version": 3
   },
   "file_extension": ".py",
   "mimetype": "text/x-python",
   "name": "python",
   "nbconvert_exporter": "python",
   "pygments_lexer": "ipython3",
   "version": "3.8.8"
  }
 },
 "nbformat": 4,
 "nbformat_minor": 5
}
