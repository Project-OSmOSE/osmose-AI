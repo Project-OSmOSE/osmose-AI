{
 "cells": [
  {
   "cell_type": "markdown",
   "id": "8569b078-9152-4992-ae9e-d51a50b81447",
   "metadata": {},
   "source": [
    "## Import functions \n",
    "\n",
    "#### <span style=\"color:blue\">*JUST RUN CELL*</span>"
   ]
  },
  {
   "cell_type": "code",
   "execution_count": 1,
   "id": "57b92189-b7d0-49c0-9a5d-8076091bb043",
   "metadata": {
    "tags": []
   },
   "outputs": [],
   "source": [
    "import os \n",
    "#import sys\n",
    "#os.chdir(os.path.join(\"/home/datawork-osmose/\",'osmoseNotebooks_v0','source'))\n",
    "\n",
    "with open('path_codes.txt') as f:\n",
    "    codes_path = f.readlines()[0]\n",
    "os.chdir(os.path.join(codes_path))\n",
    "\n",
    "from format_dataset_for_ai import FormatDatasets_main\n",
    "from launcher_datasetScale import list_datasets\n",
    "from check_files_in_ai_folders import CheckAvailableAI_tasks_BM_model, CheckAvailableAnnotation, CheckAvailableFileRes, CheckAvailable_labels_annotators\n"
   ]
  },
  {
   "cell_type": "markdown",
   "id": "6f82540c-1db4-4699-b564-21e76fb7d4f3",
   "metadata": {},
   "source": [
    "## Select Datasets, task, benchmark, ...\n",
    "\n",
    "\n",
    "#### <span style=\"color:green\">*List of available datasets*</span>"
   ]
  },
  {
   "cell_type": "code",
   "execution_count": 2,
   "id": "ade424fb-6d6e-4828-a3ff-af281a59a791",
   "metadata": {},
   "outputs": [
    {
     "name": "stdout",
     "output_type": "stream",
     "text": [
      "Available datasets:\n",
      "  - Glider\n",
      "  - MPSU_ForestouHuella\n",
      "  - MPSU_ForestouHuella_copy\n"
     ]
    }
   ],
   "source": [
    "list_datasets()"
   ]
  },
  {
   "cell_type": "markdown",
   "id": "e06fa71f-6ba7-4132-8d5e-db1c11d3e17c",
   "metadata": {},
   "source": [
    "#### <span style=\"color:red\">*Select your dataset(s)*</span>\n",
    "\n",
    "Nb : Select on or several datasets as a list. \n",
    "\n",
    "Ex : \n",
    "- ``dataset_ID_tab`` = ['dataset1', 'dataset2', 'dataset3']"
   ]
  },
  {
   "cell_type": "code",
   "execution_count": 3,
   "id": "589b0b3c-e963-4eb7-bfc2-1e0bfa3aabdc",
   "metadata": {},
   "outputs": [],
   "source": [
    "dataset_ID_tab = ['MPSU_ForestouHuella', 'MPSU_ForestouHuella_copy']"
   ]
  },
  {
   "cell_type": "markdown",
   "id": "5d52cc38-16cc-4981-a302-d2f2628633d4",
   "metadata": {},
   "source": [
    "#### <span style=\"color:green\">*List of available data format and annotation file*</span>"
   ]
  },
  {
   "cell_type": "code",
   "execution_count": 4,
   "id": "15d6dbe0-9272-4ae3-8cc6-31c2ca451f0a",
   "metadata": {},
   "outputs": [
    {
     "name": "stdout",
     "output_type": "stream",
     "text": [
      "MPSU_ForestouHuella - Resolution available : \n",
      "    \n",
      "    30_48000\n",
      "MPSU_ForestouHuella - Annotation available : \n",
      "  \n",
      "    annotation_aplose_results.csv\n",
      "__________\n",
      "MPSU_ForestouHuella_copy - Resolution available : \n",
      "    \n",
      "    30_48000\n",
      "MPSU_ForestouHuella_copy - Annotation available : \n",
      "  \n",
      "    annotation_aplose_results.csv\n",
      "__________\n"
     ]
    }
   ],
   "source": [
    "for dataset_ID in dataset_ID_tab:\n",
    "    CheckAvailableFileRes(dataset_ID)\n",
    "    CheckAvailableAnnotation(dataset_ID)\n",
    "    print('__________')"
   ]
  },
  {
   "cell_type": "markdown",
   "id": "17cf1bbd-81c2-4523-b027-23312eed3e87",
   "metadata": {},
   "source": [
    "#### <span style=\"color:red\">*Select format(s) and annotation tab(s)*</span>\n",
    "\n",
    "Nb : As list, same dimension as the dataset_ID_tab. \n",
    "\n",
    "Ex :\n",
    "- ``LenghtFile_tab`` = [50,50,60] (in seconds)\n",
    "- ``sample_rate_tab`` = [48000, 44100, 48000] (in hertz)\n",
    "- ``file_annotation_tab`` = ['annotation_aplose1_results.csv', 'annotation_aplose3_results.csv', 'annotation_aplose3_results.csv']"
   ]
  },
  {
   "cell_type": "code",
   "execution_count": 5,
   "id": "afad78a2-a27f-45b7-9ea8-45f77d3f2c81",
   "metadata": {},
   "outputs": [],
   "source": [
    "LenghtFile_tab = [30, 30]\n",
    "sample_rate_tab = [48000, 48000]\n",
    "file_annotation_tab = ['annotation_aplose_results.csv', 'annotation_aplose_results.csv']"
   ]
  },
  {
   "cell_type": "markdown",
   "id": "5e67d3b5-5c2e-43b5-9227-34dcaea7f4ac",
   "metadata": {},
   "source": [
    "#### <span style=\"color:green\">*List of existing tasks and benchmarks*</span>"
   ]
  },
  {
   "cell_type": "code",
   "execution_count": 6,
   "id": "1a3fdab0-5f65-4edd-826a-b07b4d7c6a23",
   "metadata": {},
   "outputs": [
    {
     "name": "stdout",
     "output_type": "stream",
     "text": [
      "/\n",
      "TaskTEST1/\n",
      "    BMTEST1_1/\n",
      "             Dataset used :  ['MPSU_ForestouHuella' 'MPSU_ForestouHuella_copy']\n"
     ]
    }
   ],
   "source": [
    "CheckAvailableAI_tasks_BM_model()"
   ]
  },
  {
   "cell_type": "markdown",
   "id": "5f6e718d-8bff-4f43-bbe4-d6437155686c",
   "metadata": {},
   "source": [
    "#### <span style=\"color:red\">*Select your task and benchmark*</span>\n",
    "\n",
    "- `` Task_ID `` : The First Level is for the Task. One task is composed by several benchmark.\n",
    "- ``BM_Name`` : The Second Level is for the BenchMark - . A BenchMark is composed by different model that will be compared. (Different architecture, different dataset subdivision, differents representation, ...)\n",
    "\n",
    "Nb : If you chose a new one, folders will be created automatically. \n",
    "\n",
    "Nb2 : Just enter strings\n",
    "\n",
    "Ex : \n",
    "- ``Task_ID`` = 'TaskTEST1'\n",
    "- ``BM_Name`` = 'BMTEST1_1'\n",
    "\n"
   ]
  },
  {
   "cell_type": "code",
   "execution_count": 11,
   "id": "19b9eebd-0727-461f-8638-0557ca63e888",
   "metadata": {},
   "outputs": [],
   "source": [
    "Task_ID = 'TaskTEST1'\n",
    "BM_Name = 'BMTEST1_1'"
   ]
  },
  {
   "cell_type": "markdown",
   "id": "7d32720e-df57-4769-a5a8-8728698bcce2",
   "metadata": {},
   "source": [
    "#### <span style=\"color:green\">*List of existing annototated labels and annotators for each datasets*</span>"
   ]
  },
  {
   "cell_type": "code",
   "execution_count": 12,
   "id": "7deee551-63fe-44bd-bbfd-1c95151a7436",
   "metadata": {},
   "outputs": [
    {
     "name": "stdout",
     "output_type": "stream",
     "text": [
      "Dataset :  MPSU_ForestouHuella\n",
      "Labels Annotated :  ['car', 'bird']\n",
      "Annotators :  ['dcazau', 'mtorte']\n",
      "__________\n",
      "Dataset :  MPSU_ForestouHuella_copy\n",
      "Labels Annotated :  ['car', 'bird']\n",
      "Annotators :  ['dcazau', 'mtorte']\n",
      "__________\n"
     ]
    }
   ],
   "source": [
    "for i in range(len(dataset_ID_tab)):\n",
    "    print('Dataset : ', dataset_ID_tab[i])\n",
    "    CheckAvailable_labels_annotators(dataset_ID_tab[i], file_annotation_tab[i])\n",
    "    print('__________')"
   ]
  },
  {
   "cell_type": "markdown",
   "id": "52ec007e-9d8e-4d04-9b03-d70b54003fad",
   "metadata": {},
   "source": [
    "#### <span style=\"color:red\">*Select the annotators and the labels to be detected*</span>\n",
    "\n",
    "- ``AnnotatorsList_tab`` : Annotators selected by dataset. As list of list, same dimension as the dataset_ID_tab. \n",
    "    - Ex : ``AnnotatorsList_tab`` = [['annotatorA', 'annotatorB'], ['annotatorC'], [['annotatorD', 'annotatorE']] \n",
    "    - Means that annotator A and B are selected for the dataset1, annotator C for the dataset2, and annotators D and E for the dataset3.\n",
    "\n",
    "</br>\n",
    "\n",
    "- ``orig_LabelsList_tab`` : label to be kept for the detection, for each dataset. As list of list, same dimension as the dataset_ID_tab.\n",
    "    - Ex : ``orig_LabelsList_tab`` = [['whistles'], ['click', 'whistle'], [['dolphins_clicks', 'globi_clicks']] \n",
    "    - Means that the label 'whistles' is selected for the dataset1, labels 'click' and 'whistles' for the dataset2, and labels 'dolphins_clicks' and 'globi_clicks' for the dataset3.\n",
    "\n",
    "</br>\n",
    "\n",
    "- ``FinalLabel_Dic`` : labels used for the detectors. Allows you to merge some label from different dataset. As a dictionnary where keys are final labels and each one leads to a list with labels from \"orig_LabelsList_tan\".\n",
    "    - Ex : ``FinalLabel_Dic`` = {'Whistles':['whistles', 'whistle'], 'Clicks':['click', 'dolphins_clicks', 'globi_clicks']}\n",
    "    - Means that labels 'whistles' and 'whistle' will be merged as one label called 'Whistles', and the labels 'click', 'dolphins_clicks' and  'globi_clicks' will be merged as one label called 'Clicks'. \n",
    "\n",
    "</br>\n",
    "\n",
    "- ``Crop_duration`` : Time (in second) cropped at the start and end of the annotation (if you think the annotation does not exactly fit the sound of interest). \n",
    "    - Ex : ``Crop_duration`` = 1\n",
    "    - Ex2 : ``Crop_duration`` = 0 (if you do not want to crop them."
   ]
  },
  {
   "cell_type": "code",
   "execution_count": 9,
   "id": "615cea90-10fe-40ae-bc2f-8810ae309d22",
   "metadata": {},
   "outputs": [],
   "source": [
    "AnnotatorsList_tab = [['dcazau', 'mtorte'], ['dcazau']]\n",
    "\n",
    "orig_LabelsList_tab = [['car', 'bird'], ['car']]\n",
    "\n",
    "FinalLabel_Dic = {'Cars':['car', 'car'], 'Birds':['bird']}\n",
    "\n",
    "Crop_duration = 1"
   ]
  },
  {
   "cell_type": "markdown",
   "id": "e7eedf12-f114-400a-b78a-129813228460",
   "metadata": {},
   "source": [
    "## Launch Formatting\n",
    "\n",
    "#### <span style=\"color:blue\">*JUST RUN CELL*</span>"
   ]
  },
  {
   "cell_type": "code",
   "execution_count": 10,
   "id": "55c5e48a-5fea-4771-a2f8-d65839d0f303",
   "metadata": {},
   "outputs": [
    {
     "name": "stdout",
     "output_type": "stream",
     "text": [
      "Processing dataset : MPSU_ForestouHuella\n",
      "Task Status existing : we're removing all unannotated files ...\n"
     ]
    },
    {
     "name": "stderr",
     "output_type": "stream",
     "text": [
      "100%|██████████| 2965/2965 [00:00<00:00, 14821.50it/s]\n"
     ]
    },
    {
     "name": "stdout",
     "output_type": "stream",
     "text": [
      "Done, 146 files remains\n",
      "Matching annotation with timestamp for each label ...\n"
     ]
    },
    {
     "name": "stderr",
     "output_type": "stream",
     "text": [
      "100%|██████████| 87/87 [00:00<00:00, 17422.86it/s]\n"
     ]
    },
    {
     "name": "stdout",
     "output_type": "stream",
     "text": [
      "car OK\n"
     ]
    },
    {
     "name": "stderr",
     "output_type": "stream",
     "text": [
      "100%|██████████| 75/75 [00:00<00:00, 18750.24it/s]\n"
     ]
    },
    {
     "name": "stdout",
     "output_type": "stream",
     "text": [
      "bird OK\n",
      "   \n",
      "Processing dataset : MPSU_ForestouHuella_copy\n",
      "Task Status existing : we're removing all unannotated files ...\n"
     ]
    },
    {
     "name": "stderr",
     "output_type": "stream",
     "text": [
      "100%|██████████| 2965/2965 [00:00<00:00, 15876.91it/s]\n"
     ]
    },
    {
     "name": "stdout",
     "output_type": "stream",
     "text": [
      "Done, 146 files remains\n",
      "Matching annotation with timestamp for each label ...\n"
     ]
    },
    {
     "name": "stderr",
     "output_type": "stream",
     "text": [
      "100%|██████████| 82/82 [00:00<00:00, 20505.15it/s]\n"
     ]
    },
    {
     "name": "stdout",
     "output_type": "stream",
     "text": [
      "car OK\n",
      "   \n",
      "Merging All Datasets ...\n"
     ]
    },
    {
     "name": "stderr",
     "output_type": "stream",
     "text": [
      "100%|██████████| 146/146 [00:00<00:00, 48481.39it/s]\n",
      "100%|██████████| 146/146 [00:00<00:00, 73022.70it/s]"
     ]
    },
    {
     "name": "stdout",
     "output_type": "stream",
     "text": [
      "Number of files :  292\n",
      "Cars  -> ratio of positive :      19.521 %\n",
      "Birds  -> ratio of positive :       9.589 %\n",
      "DONE ! \n",
      "Next step : Define Dev [train+val] and EVAL sets for your network !\n"
     ]
    },
    {
     "name": "stderr",
     "output_type": "stream",
     "text": [
      "\n",
      "C:\\Users\\gabri.DESKTOP-QIPER28\\anaconda3\\lib\\site-packages\\numpy\\lib\\npyio.py:716: VisibleDeprecationWarning: Creating an ndarray from ragged nested sequences (which is a list-or-tuple of lists-or-tuples-or ndarrays with different lengths or shapes) is deprecated. If you meant to do this, you must specify 'dtype=object' when creating the ndarray.\n",
      "  val = np.asanyarray(val)\n"
     ]
    }
   ],
   "source": [
    "FormatDatasets_main(Task_ID, BM_Name, LenghtFile_tab, sample_rate_tab, dataset_ID_tab, file_annotation_tab, orig_LabelsList_tab, FinalLabel_Dic, AnnotatorsList_tab, Crop_duration)"
   ]
  },
  {
   "cell_type": "code",
   "execution_count": null,
   "id": "a51d0a97-bf75-4f4e-b2f9-dc6b799ef4cb",
   "metadata": {},
   "outputs": [],
   "source": []
  }
 ],
 "metadata": {
  "kernelspec": {
   "display_name": "Python 3 (ipykernel)",
   "language": "python",
   "name": "python3"
  },
  "language_info": {
   "codemirror_mode": {
    "name": "ipython",
    "version": 3
   },
   "file_extension": ".py",
   "mimetype": "text/x-python",
   "name": "python",
   "nbconvert_exporter": "python",
   "pygments_lexer": "ipython3",
   "version": "3.8.8"
  }
 },
 "nbformat": 4,
 "nbformat_minor": 5
}
