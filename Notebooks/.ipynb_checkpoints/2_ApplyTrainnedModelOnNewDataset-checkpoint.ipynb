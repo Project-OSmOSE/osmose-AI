{
 "cells": [
  {
   "cell_type": "markdown",
   "id": "1caf0f1f-0bc9-4d8d-8191-46ba2a90f03c",
   "metadata": {},
   "source": [
    "## Import functions "
   ]
  },
  {
   "cell_type": "code",
   "execution_count": 1,
   "id": "6d8f23e4-d62f-4a94-89c4-9dce2faefb91",
   "metadata": {},
   "outputs": [],
   "source": [
    "import os \n",
    "import sys\n",
    "import numpy as np\n",
    "#os.chdir(os.path.join(\"/home/datawork-osmose/\",'osmoseNotebooks_v0','source'))\n",
    "\n",
    "with open('path_codes.txt') as f:\n",
    "    codes_path = f.readlines()[0]\n",
    "os.chdir(os.path.join(codes_path))\n",
    "\n",
    "from use_network_functions import load_model_hyperparameters\n",
    "from launcher_datasetScale import list_datasets\n",
    "from check_files_in_ai_folders import CheckAvailableAI_tasks_BM_modeltrainned, CheckAvailableFileRes, check_available_formats_from_dataset"
   ]
  },
  {
   "cell_type": "code",
   "execution_count": 2,
   "id": "bbdc9411-9203-466e-98b0-54427a168a52",
   "metadata": {},
   "outputs": [
    {
     "name": "stdout",
     "output_type": "stream",
     "text": [
      "/\n",
      "TaskTEST1/\n",
      "    BMTEST1_1/\n",
      "        models/\n",
      "            model1/\n",
      "            model2/\n",
      "            model3/\n"
     ]
    }
   ],
   "source": [
    "CheckAvailableAI_tasks_BM_modeltrainned()"
   ]
  },
  {
   "cell_type": "markdown",
   "id": "9e9fb9d8-f5ee-44e0-9e17-58254c098436",
   "metadata": {},
   "source": [
    "#### <span style=\"color:red\">*Select your task and benchmark among those already created*</span>\n",
    "\n",
    "Ex : \n",
    "- ``Task_ID`` = 'TaskTEST1'\n",
    "- ``BM_Name`` = 'BMTEST1_1'\n",
    "- ``VersionName`` = 'model1' "
   ]
  },
  {
   "cell_type": "code",
   "execution_count": 3,
   "id": "47a3c1bb-d912-4420-9d4c-f92a1a32abab",
   "metadata": {},
   "outputs": [],
   "source": [
    "Task_ID = 'TaskTEST1'\n",
    "BM_Name = 'BMTEST1_1'\n",
    "VersionName = 'model2'"
   ]
  },
  {
   "cell_type": "code",
   "execution_count": 4,
   "id": "ab7812c3-827f-4aee-b218-4c23c726aa49",
   "metadata": {},
   "outputs": [
    {
     "name": "stdout",
     "output_type": "stream",
     "text": [
      "TrainsetRatio  :  0.8\n",
      "batch_size  :  5\n",
      "learning_rate  :  0.0001\n",
      "num_epochs  :  20\n",
      "shuffle  :  True\n",
      "use_pretrained  :  False\n",
      "input_data_format  :  audio\n",
      "nfft  :  [1024, 1024]\n",
      "window_size  :  [1024, 1024]\n",
      "overlap  :  [50, 50]\n",
      "dynamic_min  :  [-40, -40]\n",
      "dynamic_max  :  [40, 40]\n",
      "scaling  :  ['spectrum', 'spectrum']\n",
      "num_classes  :  2\n",
      "sample_rate  :  [48000 48000]\n",
      "dataset_ID_tab  :  ['MPSU_ForestouHuella' 'MPSU_ForestouHuella_copy']\n",
      "Task_ID  :  TaskTEST1\n",
      "BM_Name  :  BMTEST1_1\n",
      "SplitName  :  SPLIT2\n",
      "Version_name  :  model2\n",
      "ModelName  :  CNN3_FC1\n"
     ]
    }
   ],
   "source": [
    "parameters = load_model_hyperparameters(Task_ID, BM_Name, VersionName)\n",
    "\n",
    "for item in list(parameters.keys()):\n",
    "    print(item, ' : ', parameters[item])"
   ]
  },
  {
   "cell_type": "markdown",
   "id": "2280e357-ed88-4593-a861-e4dd02ed9d5c",
   "metadata": {},
   "source": [
    "#### <span style=\"color:red\">*Select the dataset on which you want to apply the network*</span>\n",
    "\n",
    "Ex : \n",
    "- ``Task_ID`` = 'TaskTEST1'\n",
    "- ``BM_Name`` = 'BMTEST1_1'\n",
    "- ``VersionName`` = 'model1' "
   ]
  },
  {
   "cell_type": "code",
   "execution_count": 5,
   "id": "05de4938-5665-4130-9094-81948390806f",
   "metadata": {},
   "outputs": [
    {
     "name": "stdout",
     "output_type": "stream",
     "text": [
      "Available datasets:\n",
      "  - Glider\n",
      "  - MPSU_ForestouHuella\n",
      "  - MPSU_ForestouHuella_copy\n"
     ]
    }
   ],
   "source": [
    "list_datasets()"
   ]
  },
  {
   "cell_type": "code",
   "execution_count": 6,
   "id": "09ebc515-1268-4816-ba97-303747dcd074",
   "metadata": {},
   "outputs": [],
   "source": [
    "dataset_ID = 'MPSU_ForestouHuella'"
   ]
  },
  {
   "cell_type": "code",
   "execution_count": 7,
   "id": "282aa471-d033-44f9-8ed7-a858d784aaf6",
   "metadata": {},
   "outputs": [
    {
     "name": "stdout",
     "output_type": "stream",
     "text": [
      "Dataset :  MPSU_ForestouHuella\n",
      "Resolution available (LengthFile_samplerate) :\n",
      "\n",
      "30_48000\n",
      "__________\n",
      "_______________\n",
      "Dataset :  MPSU_ForestouHuella\n",
      "Available Spectrogram Format (nfft_windowsize_overlap) :\n",
      "  1024_1024_50/\n"
     ]
    }
   ],
   "source": [
    "CheckAvailableFileRes(dataset_ID)\n",
    "#CheckAvailableAnnotation(dataset_ID)\n",
    "print('__________')\n",
    "check_available_formats_from_dataset(dataset_ID)"
   ]
  },
  {
   "cell_type": "code",
   "execution_count": null,
   "id": "28ce9e8f-dfc9-4767-8eaf-dc25f6974717",
   "metadata": {},
   "outputs": [],
   "source": [
    "LenghtFile = [30]\n",
    "sample_rate = [48000]"
   ]
  },
  {
   "cell_type": "markdown",
   "id": "b3d1a690-a7dd-4f30-a8a4-4dd7b9daa17f",
   "metadata": {},
   "source": [
    "#### <span style=\"color:red\">*Select format and spectrogram resolution*</span>\n",
    "\n",
    "Nb : As list, same dimension as the dataset_ID_tab. \n",
    "\n",
    "Ex :\n",
    "Format - MUST BE FROM LIST\n",
    "- ``LenghtFile`` = 50 (in seconds) - FROM LIST\n",
    "- ``sample_rate`` = 44100 (in hertz) - FROM LIST\n",
    "\n",
    "Spectrogram Resolution : \n",
    "- if from list only those 3 :\n",
    "    - ``nfft`` = 1024\n",
    "    - ``window_size`` = 1024\n",
    "    - ``overlap`` = 50\n",
    "- if not from list, new spectrograms will be computed at each iteration, so we need more parameters : \n",
    "    - ``nfft`` = 1024\n",
    "    - ``window_size`` = 1024\n",
    "    - ``overlap`` = 50\n",
    "    - ``dynamic_min`` = -30\n",
    "    - ``dynamic_max`` = 30\n",
    "    - ``scaling`` = 'spectrum'\n",
    "\n"
   ]
  },
  {
   "cell_type": "code",
   "execution_count": 8,
   "id": "ec91f5e4-827c-4453-95dc-fa57e057e4c4",
   "metadata": {},
   "outputs": [],
   "source": [
    "input_data_format = 'audio' #'audio' ou 'spectrogram'\n",
    "# 'spectrogram' : use already computed spectrogram\n",
    "# 'audio' : use .wav file, spectrogram will be computed iteratively\n",
    "\n",
    "# File Format\n",
    "LenghtFile = 30\n",
    "sample_rate = 48000\n",
    "\n",
    "#Spectrogram resolution\n",
    "nfft = 1024\n",
    "window_size = 1024\n",
    "overlap = 50\n",
    "\n",
    "dynamic_min = -40\n",
    "dynamic_max = 40\n",
    "scaling = 'spectrum'"
   ]
  },
  {
   "cell_type": "code",
   "execution_count": 9,
   "id": "5dc7f8eb-ab5c-4d36-a546-b941fee83418",
   "metadata": {},
   "outputs": [],
   "source": [
    "application_parameters = {'input_data_format':input_data_format, 'nfft':nfft, 'window_size':window_size, 'overlap':overlap, 'dynamic_min':dynamic_min, 'dynamic_max':dynamic_max, 'scaling':scaling, 'LenghtFile':LenghtFile, 'sample_rate':sample_rate}"
   ]
  },
  {
   "cell_type": "code",
   "execution_count": null,
   "id": "759b221a-eb63-47f5-a554-5f693c90a6ee",
   "metadata": {},
   "outputs": [],
   "source": []
  }
 ],
 "metadata": {
  "kernelspec": {
   "display_name": "Python 3 (ipykernel)",
   "language": "python",
   "name": "python3"
  },
  "language_info": {
   "codemirror_mode": {
    "name": "ipython",
    "version": 3
   },
   "file_extension": ".py",
   "mimetype": "text/x-python",
   "name": "python",
   "nbconvert_exporter": "python",
   "pygments_lexer": "ipython3",
   "version": "3.8.8"
  }
 },
 "nbformat": 4,
 "nbformat_minor": 5
}
