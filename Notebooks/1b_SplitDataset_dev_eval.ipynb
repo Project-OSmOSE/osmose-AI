{
 "cells": [
  {
   "cell_type": "markdown",
   "id": "9acd6f5e-81ed-435f-9998-fc4d47933580",
   "metadata": {},
   "source": [
    "# Split the data in developpmement set and evaluation set\n",
    "\n",
    "## Import functions "
   ]
  },
  {
   "cell_type": "markdown",
   "id": "37dfc673-365b-40ba-a59a-69aa1dfdb6ad",
   "metadata": {},
   "source": [
    "#### <span style=\"color:blue\">*JUST RUN CELL*</span>"
   ]
  },
  {
   "cell_type": "code",
   "execution_count": 1,
   "id": "bf2d82f1-2d82-42d0-8d3a-86e2e42f939b",
   "metadata": {},
   "outputs": [],
   "source": [
    "import os \n",
    "import sys\n",
    "#os.chdir(os.path.join(\"/home/datawork-osmose/\",'osmoseNotebooks_v0','source'))\n",
    "\n",
    "with open('path_codes.txt') as f:\n",
    "    codes_path = f.readlines()[0]\n",
    "with open('path_osmose_dataset.txt') as f:\n",
    "    path_osmose_dataset = f.readlines()[0]\n",
    "with open('path_osmose_analysisAI.txt') as f:\n",
    "    path_osmose_analysisAI = f.readlines()[0]\n",
    "    \n",
    "sys.path.append(os.path.join(codes_path))\n",
    "#os.chdir(os.path.join(codes_path))\n",
    "\n",
    "from split_dataset_deveval import SplitDataset_DevEval_main\n",
    "from check_files_in_ai_folders import list_datasets, check_available_ai_tasks_bm\n"
   ]
  },
  {
   "cell_type": "markdown",
   "id": "3632949e-3be0-4996-a1f0-570ede239d78",
   "metadata": {},
   "source": [
    "## Select task, benchmark and parameters\n"
   ]
  },
  {
   "cell_type": "markdown",
   "id": "86e60eff-e3c1-4351-8e57-d45a91bbf5f3",
   "metadata": {},
   "source": [
    "#### <span style=\"color:green\">*List of existing tasks and benchmarks*</span>"
   ]
  },
  {
   "cell_type": "code",
   "execution_count": 2,
   "id": "99e90f97-c81f-42fc-8036-6c3570134a7b",
   "metadata": {},
   "outputs": [
    {
     "name": "stdout",
     "output_type": "stream",
     "text": [
      "    Task_Glider_PBW_AnnotatorAnalysis/\n",
      "        BM_merged15/\n",
      "        BM_EXP/\n",
      "        Comp_BM_curves/\n",
      "        BM_merged6/\n",
      "        BM_merged2_2/\n",
      "        BM_merged2_3/\n",
      "        BM_merged2_4/\n",
      "        BM_merged2_5/\n",
      "        BM_merged2_6/\n",
      "        BM_merged2_7/\n",
      "        BM_merged2_8/\n",
      "        BM_merged8/\n",
      "        BM_merged10/\n",
      "        BM_merged12/\n",
      "        BM_merged14/\n",
      "        BM_merged2_9/\n",
      "        BM_merged2_10/\n",
      "        WeakLabelling_AllAnnotation/\n",
      "        BM_AN_Nassau/\n",
      "        BM_AN_Shanghai/\n",
      "        BM_AN_Civitavecchia/\n",
      "        BM_AN_Galveston/\n",
      "        BM_AN_Venice/\n",
      "        BM_AN_Fukuoka/\n",
      "        BM_AN_Naples/\n",
      "        BM_AN_Bridgetown/\n",
      "        BM_AN_Valletta/\n",
      "        BM_AN_Rostock/\n",
      "        BM_AN_Dubrovnik/\n",
      "        BM_AN_Mahahual/\n",
      "        BM_AN_Ensenada/\n",
      "        BM_AN_Tunis/\n",
      "        BM_AN_Funchal/\n",
      "        BM_AN_Tallinn/\n",
      "        BM_AN_Malaga/\n",
      "        BM_AN_Helsinki/\n",
      "        BM_AN_Valencia/\n",
      "        BM_FULL_EVAL/\n",
      "        BM_FULL_EVAL_long/\n",
      "    Task_Det_PBW/\n",
      "        TEST1/\n",
      "        TRAIN_Glider/\n",
      "        TRAIN_Glider_long/\n",
      "        Train_multilabels_grouped15/\n",
      "        Train_mergeboths/\n",
      "    Task_DS_Miller/\n",
      "        All_BlueWhale/\n",
      "    task_example_osmose_user/\n",
      "        bm_example_osmose_user/\n"
     ]
    }
   ],
   "source": [
    "check_available_ai_tasks_bm(path_osmose_analysisAI)"
   ]
  },
  {
   "cell_type": "markdown",
   "id": "3fa7fbf9-fe5a-4abb-84e6-077960d8d679",
   "metadata": {},
   "source": [
    "#### <span style=\"color:red\">*Select your task and benchmark among those already created*</span>\n",
    "\n",
    "Ex : \n",
    "- ``Task_ID`` = 'TaskTEST1'\n",
    "- ``BM_Name`` = 'BMTEST1_1'"
   ]
  },
  {
   "cell_type": "code",
   "execution_count": 3,
   "id": "1fc4162a-df6a-4e91-9cea-29fd20794e31",
   "metadata": {},
   "outputs": [],
   "source": [
    "Task_ID = 'task_example_osmose_user'\n",
    "BM_Name = 'bm_example_osmose_user'"
   ]
  },
  {
   "cell_type": "markdown",
   "id": "5cc9d961-b2b7-4973-822d-13e068eb0ff5",
   "metadata": {},
   "source": [
    "#### <span style=\"color:red\">*Enetr parameters for the split*</span>\n",
    "\n",
    "- ``SplitName`` : Name of the split to create. As string.\n",
    "    - Ex : ``SplitName`` = 'split_n1'\n",
    "- ``RatioDev`` : Ratio of the dataset used for the developpment. Float between 0 and 1.\n",
    "    - Ex : ``RatioDev`` = 0.2\n",
    "    - Means that 20% of the dataset will be used for the developpment. \n",
    "-  ``SelectionMethod`` : Method used for the split. String.\n",
    "    - Already available : \n",
    "        - ``SelectionMethod`` = 'Continue'. Splitted by conserving the sequence of files. (No parameters needed).\n",
    "        - ``SelectionMethod`` = 'FullyRandom'. Randomly splitted. (No parameters needed).\n",
    "        - ``SelectionMethod`` = 'RandomBySeq'. Randomly splitted by sequence of $NbFileInSequence$ successive files. ($NbFileInSequence$ set in parameters as int $\\geq 1$). Set ``shuffle`` to True if you want to shuffle all sequences after the split. \n",
    "        - ``SelectionMethod`` = 'SelPositiveRatio'. Randomly splitted by conserving $(PositiveRatio \\times 100)\\%$ of positive in the developpment set. ($PositiveRatio$ set in parameters as float between 0 and 1).).\n",
    "        - ``SelectionMethod`` = 'SelDatasets'. Sel datasets used for development and evaluation using lists ``dataset_for_dev`` and ``dataset_for_eval``. Set ``shuffle`` to True if you want to shuffle all files after the split. \n",
    "    - Please, feel free to ask the teams if you want new methods for the split. \n",
    "- ``parameters`` : Parameters regarding the methods. As dictionnary.\n",
    "    - Ex, if ``SelectionMethod`` = 'RandomBySeq' : parameters = {'NbFileInSequence':5}\n",
    "    - Ex, if ``SelectionMethod`` = 'SelPositiveRatio' : parameters = {'PositiveRatio':0.60}\n",
    "   "
   ]
  },
  {
   "cell_type": "code",
   "execution_count": 4,
   "id": "c727d45f-8ff5-4664-95b6-be8a539ae01a",
   "metadata": {},
   "outputs": [],
   "source": [
    "SplitName = 'split_for_eval_small'\n",
    "RatioDev = 0.5\n",
    "SelectionMethod = 'FullyRandom'\n",
    "parameters = {'PositiveRatio':0.5 , 'NbFileInSequence':8, 'shuffle':True, 'dataset_for_dev':[], 'dataset_for_dev':[]}"
   ]
  },
  {
   "cell_type": "markdown",
   "id": "800e714a-69e1-482f-81cf-4299f0a07e64",
   "metadata": {},
   "source": [
    "## Launch Splitting\n",
    "\n",
    "#### <span style=\"color:blue\">*JUST RUN CELL*</span>"
   ]
  },
  {
   "cell_type": "code",
   "execution_count": 5,
   "id": "74e330b2-5312-462f-8505-7dc096ef5779",
   "metadata": {},
   "outputs": [
    {
     "name": "stdout",
     "output_type": "stream",
     "text": [
      "DEV :\n",
      "Nombre de fichier :  20167\n",
      "Bm  -> pourcentage de Positif :      22.874 %\n",
      "EVAL :\n",
      "Nombre de fichier :  20167\n",
      "Bm  -> pourcentage de Positif :      23.310 %\n",
      " \n",
      "Split is done ! You now can train a network on the development set and apply it on the evaluation set.\n"
     ]
    }
   ],
   "source": [
    "SplitDataset_DevEval_main(path_osmose_dataset, path_osmose_analysisAI, Task_ID, BM_Name, SplitName, RatioDev, SelectionMethod, parameters)"
   ]
  },
  {
   "cell_type": "code",
   "execution_count": null,
   "id": "7b50f04d-bb17-44ce-92b8-acb111061ae9",
   "metadata": {},
   "outputs": [],
   "source": []
  },
  {
   "cell_type": "code",
   "execution_count": null,
   "id": "0ed443ac-f2cd-48e4-ade9-dd1d65b0ddce",
   "metadata": {},
   "outputs": [],
   "source": []
  },
  {
   "cell_type": "code",
   "execution_count": null,
   "id": "1595c545-7b82-43d8-ab9c-0334c6795330",
   "metadata": {},
   "outputs": [],
   "source": []
  },
  {
   "cell_type": "code",
   "execution_count": null,
   "id": "2a0e7a6e-9c55-44f8-9833-839fc2c7b422",
   "metadata": {},
   "outputs": [],
   "source": []
  },
  {
   "cell_type": "markdown",
   "id": "54885257-bf19-45fe-b515-97d93fe7610d",
   "metadata": {},
   "source": [
    "#### <span style=\"color:blue\">*Exemple if you want to split iteratively several datasets, tasks, annotation sets, ...*</span>"
   ]
  },
  {
   "cell_type": "code",
   "execution_count": 5,
   "id": "a5a9f7cc-925f-48fb-ae42-c5e3a00ffefc",
   "metadata": {},
   "outputs": [
    {
     "name": "stdout",
     "output_type": "stream",
     "text": [
      "DEV :\n",
      "Nombre de fichier :  1020\n",
      "Bm.Aus  -> pourcentage de Positif :      38.725 %\n",
      "EVAL :\n",
      "Nombre de fichier :  0\n",
      "Bm.Aus  -> pourcentage de Positif :       0.000 %\n",
      " \n",
      "Split is done ! You now can train a network on the development set and apply it on the evaluation set.\n",
      "DEV :\n",
      "Nombre de fichier :  984\n",
      "Bm.Aus  -> pourcentage de Positif :      47.866 %\n",
      "EVAL :\n",
      "Nombre de fichier :  0\n",
      "Bm.Aus  -> pourcentage de Positif :       0.000 %\n",
      " \n",
      "Split is done ! You now can train a network on the development set and apply it on the evaluation set.\n",
      "DEV :\n",
      "Nombre de fichier :  1080\n",
      "Bm.Aus  -> pourcentage de Positif :      42.222 %\n",
      "EVAL :\n",
      "Nombre de fichier :  0\n",
      "Bm.Aus  -> pourcentage de Positif :       0.000 %\n",
      " \n",
      "Split is done ! You now can train a network on the development set and apply it on the evaluation set.\n",
      "DEV :\n",
      "Nombre de fichier :  1188\n",
      "Bm.Aus  -> pourcentage de Positif :      49.579 %\n",
      "EVAL :\n",
      "Nombre de fichier :  0\n",
      "Bm.Aus  -> pourcentage de Positif :       0.000 %\n",
      " \n",
      "Split is done ! You now can train a network on the development set and apply it on the evaluation set.\n",
      "DEV :\n",
      "Nombre de fichier :  1068\n",
      "Bm.Aus  -> pourcentage de Positif :      41.573 %\n",
      "EVAL :\n",
      "Nombre de fichier :  0\n",
      "Bm.Aus  -> pourcentage de Positif :       0.000 %\n",
      " \n",
      "Split is done ! You now can train a network on the development set and apply it on the evaluation set.\n",
      "DEV :\n",
      "Nombre de fichier :  1152\n",
      "Bm.Aus  -> pourcentage de Positif :      49.392 %\n",
      "EVAL :\n",
      "Nombre de fichier :  0\n",
      "Bm.Aus  -> pourcentage de Positif :       0.000 %\n",
      " \n",
      "Split is done ! You now can train a network on the development set and apply it on the evaluation set.\n",
      "DEV :\n",
      "Nombre de fichier :  1200\n",
      "Bm.Aus  -> pourcentage de Positif :      54.083 %\n",
      "EVAL :\n",
      "Nombre de fichier :  0\n",
      "Bm.Aus  -> pourcentage de Positif :       0.000 %\n",
      " \n",
      "Split is done ! You now can train a network on the development set and apply it on the evaluation set.\n",
      "DEV :\n",
      "Nombre de fichier :  1152\n",
      "Bm.Aus  -> pourcentage de Positif :      51.302 %\n",
      "EVAL :\n",
      "Nombre de fichier :  0\n",
      "Bm.Aus  -> pourcentage de Positif :       0.000 %\n",
      " \n",
      "Split is done ! You now can train a network on the development set and apply it on the evaluation set.\n",
      "DEV :\n",
      "Nombre de fichier :  1200\n",
      "Bm.Aus  -> pourcentage de Positif :      49.333 %\n",
      "EVAL :\n",
      "Nombre de fichier :  0\n",
      "Bm.Aus  -> pourcentage de Positif :       0.000 %\n",
      " \n",
      "Split is done ! You now can train a network on the development set and apply it on the evaluation set.\n",
      "DEV :\n",
      "Nombre de fichier :  1140\n",
      "Bm.Aus  -> pourcentage de Positif :      45.965 %\n",
      "EVAL :\n",
      "Nombre de fichier :  0\n",
      "Bm.Aus  -> pourcentage de Positif :       0.000 %\n",
      " \n",
      "Split is done ! You now can train a network on the development set and apply it on the evaluation set.\n",
      "DEV :\n",
      "Nombre de fichier :  1140\n",
      "Bm.Aus  -> pourcentage de Positif :      52.807 %\n",
      "EVAL :\n",
      "Nombre de fichier :  0\n",
      "Bm.Aus  -> pourcentage de Positif :       0.000 %\n",
      " \n",
      "Split is done ! You now can train a network on the development set and apply it on the evaluation set.\n",
      "DEV :\n",
      "Nombre de fichier :  1080\n",
      "Bm.Aus  -> pourcentage de Positif :      44.907 %\n",
      "EVAL :\n",
      "Nombre de fichier :  0\n",
      "Bm.Aus  -> pourcentage de Positif :       0.000 %\n",
      " \n",
      "Split is done ! You now can train a network on the development set and apply it on the evaluation set.\n",
      "DEV :\n",
      "Nombre de fichier :  1164\n",
      "Bm.Aus  -> pourcentage de Positif :      41.323 %\n",
      "EVAL :\n",
      "Nombre de fichier :  0\n",
      "Bm.Aus  -> pourcentage de Positif :       0.000 %\n",
      " \n",
      "Split is done ! You now can train a network on the development set and apply it on the evaluation set.\n",
      "DEV :\n",
      "Nombre de fichier :  1104\n",
      "Bm.Aus  -> pourcentage de Positif :      54.257 %\n",
      "EVAL :\n",
      "Nombre de fichier :  0\n",
      "Bm.Aus  -> pourcentage de Positif :       0.000 %\n",
      " \n",
      "Split is done ! You now can train a network on the development set and apply it on the evaluation set.\n",
      "DEV :\n",
      "Nombre de fichier :  1068\n",
      "Bm.Aus  -> pourcentage de Positif :      46.442 %\n",
      "EVAL :\n",
      "Nombre de fichier :  0\n",
      "Bm.Aus  -> pourcentage de Positif :       0.000 %\n",
      " \n",
      "Split is done ! You now can train a network on the development set and apply it on the evaluation set.\n",
      "DEV :\n",
      "Nombre de fichier :  1008\n",
      "Bm.Aus  -> pourcentage de Positif :      37.103 %\n",
      "EVAL :\n",
      "Nombre de fichier :  0\n",
      "Bm.Aus  -> pourcentage de Positif :       0.000 %\n",
      " \n",
      "Split is done ! You now can train a network on the development set and apply it on the evaluation set.\n",
      "DEV :\n",
      "Nombre de fichier :  1140\n",
      "Bm.Aus  -> pourcentage de Positif :      45.088 %\n",
      "EVAL :\n",
      "Nombre de fichier :  0\n",
      "Bm.Aus  -> pourcentage de Positif :       0.000 %\n",
      " \n",
      "Split is done ! You now can train a network on the development set and apply it on the evaluation set.\n",
      "DEV :\n",
      "Nombre de fichier :  1152\n",
      "Bm.Aus  -> pourcentage de Positif :      53.299 %\n",
      "EVAL :\n",
      "Nombre de fichier :  0\n",
      "Bm.Aus  -> pourcentage de Positif :       0.000 %\n",
      " \n",
      "Split is done ! You now can train a network on the development set and apply it on the evaluation set.\n",
      "DEV :\n",
      "Nombre de fichier :  852\n",
      "Bm.Aus  -> pourcentage de Positif :      34.390 %\n",
      "EVAL :\n",
      "Nombre de fichier :  0\n",
      "Bm.Aus  -> pourcentage de Positif :       0.000 %\n",
      " \n",
      "Split is done ! You now can train a network on the development set and apply it on the evaluation set.\n"
     ]
    }
   ],
   "source": [
    "AN_list = ['Nassau', 'Shanghai', 'Civitavecchia', 'Galveston', 'Venice', 'Fukuoka', 'Naples', 'Bridgetown', 'Valletta', 'Rostock', 'Dubrovnik', 'Mahahual', 'Ensenada', 'Tunis', 'Funchal', 'Tallinn','Malaga', 'Helsinki', 'Valencia']\n",
    "\n",
    "for i in range(len(AN_list)):\n",
    "    LenghtFile_tab = [50]\n",
    "    sample_rate_tab = [500]\n",
    "\n",
    "    Task_ID = 'Task_Glider_PBW_AnnotatorAnalysis'\n",
    "\n",
    "    BM_Name = 'BM_AN_'+AN_list[i]\n",
    "\n",
    "    SplitDataset_DevEval_main(path_osmose_dataset, path_osmose_analysisAI, Task_ID, BM_Name, SplitName, RatioDev, SelectionMethod, parameters)\n"
   ]
  },
  {
   "cell_type": "code",
   "execution_count": 7,
   "id": "ababa933-a95b-43e8-aee8-0837d597d55e",
   "metadata": {},
   "outputs": [
    {
     "name": "stdout",
     "output_type": "stream",
     "text": [
      "DEV :\n",
      "Nombre de fichier :  1212\n",
      "Bm.Aus  -> pourcentage de Positif :      29.455 %\n",
      "EVAL :\n",
      "Nombre de fichier :  0\n",
      "Bm.Aus  -> pourcentage de Positif :       0.000 %\n",
      " \n",
      "Split is done ! You now can train a network on the development set and apply it on the evaluation set.\n",
      "DEV :\n",
      "Nombre de fichier :  1212\n",
      "Bm.Aus  -> pourcentage de Positif :      36.716 %\n",
      "EVAL :\n",
      "Nombre de fichier :  0\n",
      "Bm.Aus  -> pourcentage de Positif :       0.000 %\n",
      " \n",
      "Split is done ! You now can train a network on the development set and apply it on the evaluation set.\n"
     ]
    }
   ],
   "source": [
    "for i in range(9,11):\n",
    "\n",
    "    BM_Name = 'BM_merged2_'+str(int(i))\n",
    "    SplitDataset_DevEval_main(Task_ID, BM_Name, SplitName, RatioDev, SelectionMethod, parameters)\n",
    "    "
   ]
  },
  {
   "cell_type": "code",
   "execution_count": null,
   "id": "984f7576-a947-4142-bbeb-ccc36c103669",
   "metadata": {},
   "outputs": [],
   "source": []
  }
 ],
 "metadata": {
  "kernelspec": {
   "display_name": "Python 3 (ipykernel)",
   "language": "python",
   "name": "python3"
  },
  "language_info": {
   "codemirror_mode": {
    "name": "ipython",
    "version": 3
   },
   "file_extension": ".py",
   "mimetype": "text/x-python",
   "name": "python",
   "nbconvert_exporter": "python",
   "pygments_lexer": "ipython3",
   "version": "3.8.8"
  }
 },
 "nbformat": 4,
 "nbformat_minor": 5
}
