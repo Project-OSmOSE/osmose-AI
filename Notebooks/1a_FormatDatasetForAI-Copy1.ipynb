{
 "cells": [
  {
   "cell_type": "markdown",
   "id": "8569b078-9152-4992-ae9e-d51a50b81447",
   "metadata": {},
   "source": [
    "# Format datasets for the trainning on a specific task \n",
    "\n",
    "Nb : checker l'ordre des fichiers dans le csv\n",
    "\n",
    "\n",
    "## Import functions \n",
    "\n",
    "#### <span style=\"color:blue\">*JUST RUN CELL*</span>"
   ]
  },
  {
   "cell_type": "code",
   "execution_count": 1,
   "id": "57b92189-b7d0-49c0-9a5d-8076091bb043",
   "metadata": {
    "tags": []
   },
   "outputs": [],
   "source": [
    "import os \n",
    "\n",
    "with open('path_codes.txt') as f:\n",
    "    codes_path = f.readlines()[0]\n",
    "os.chdir(os.path.join(codes_path))\n",
    "\n",
    "from format_dataset_for_ai import FormatDatasets_main\n",
    "from launcher_datasetScale import list_datasets\n",
    "from check_files_in_ai_folders import check_available_ai_tasks_bm, check_available_annotation, check_available_file_resolution, check_available_labels_annotators\n"
   ]
  },
  {
   "cell_type": "markdown",
   "id": "6f82540c-1db4-4699-b564-21e76fb7d4f3",
   "metadata": {},
   "source": [
    "## Select Datasets, task, benchmark, ...\n",
    "\n",
    "\n",
    "#### <span style=\"color:green\">*List of available datasets*</span>"
   ]
  },
  {
   "cell_type": "code",
   "execution_count": 2,
   "id": "ade424fb-6d6e-4828-a3ff-af281a59a791",
   "metadata": {},
   "outputs": [
    {
     "name": "stdout",
     "output_type": "stream",
     "text": [
      "Available datasets:\n",
      "  - APOCADO_IROISE_C2D1_07072022\n",
      "  - BlueFinLibrary_BallenyIslands2015\n",
      "  - BlueFinLibrary_ElephantIsland2013Aural\n",
      "  - BlueFinLibrary_ElephantIsland2014\n",
      "  - BlueFinLibrary_Greenwich64S2015\n",
      "  - BlueFinLibrary_MaudRise2014\n",
      "  - BlueFinLibrary_RossSea2014\n",
      "  - BlueFinLibrary_casey2014\n",
      "  - BlueFinLibrary_casey2017\n",
      "  - BlueFinLibrary_kerguelen2005\n",
      "  - BlueFinLibrary_kerguelen2014\n",
      "  - BlueFinLibrary_kerguelen2015\n",
      "  - Dataset2015_AUS\n",
      "  - Glider\n",
      "  - MPSU_ForestouHuella\n",
      "  - MPSU_ForestouHuella_copy\n",
      "  - reshape_sr_3.py\n"
     ]
    }
   ],
   "source": [
    "list_datasets()"
   ]
  },
  {
   "cell_type": "markdown",
   "id": "e06fa71f-6ba7-4132-8d5e-db1c11d3e17c",
   "metadata": {},
   "source": [
    "#### <span style=\"color:red\">*Select your dataset(s)*</span>\n",
    "\n",
    "Nb : Select on or several datasets as a list. \n",
    "\n",
    "Ex : \n",
    "- ``dataset_ID_tab`` = ['dataset1', 'dataset2', 'dataset3']"
   ]
  },
  {
   "cell_type": "code",
   "execution_count": 3,
   "id": "589b0b3c-e963-4eb7-bfc2-1e0bfa3aabdc",
   "metadata": {},
   "outputs": [],
   "source": [
    "dataset_ID_tab = ['BlueFinLibrary_BallenyIslands2015', 'BlueFinLibrary_ElephantIsland2013Aural', 'BlueFinLibrary_ElephantIsland2014', 'BlueFinLibrary_Greenwich64S2015', 'BlueFinLibrary_MaudRise2014', 'BlueFinLibrary_RossSea2014', 'BlueFinLibrary_casey2014', 'BlueFinLibrary_casey2017', 'BlueFinLibrary_kerguelen2005', 'BlueFinLibrary_kerguelen2014', 'BlueFinLibrary_kerguelen2015', ]"
   ]
  },
  {
   "cell_type": "markdown",
   "id": "5d52cc38-16cc-4981-a302-d2f2628633d4",
   "metadata": {},
   "source": [
    "#### <span style=\"color:green\">*List of available data format and annotation file*</span>"
   ]
  },
  {
   "cell_type": "code",
   "execution_count": 4,
   "id": "15d6dbe0-9272-4ae3-8cc6-31c2ca451f0a",
   "metadata": {},
   "outputs": [
    {
     "name": "stdout",
     "output_type": "stream",
     "text": [
      "Dataset :  BlueFinLibrary_BallenyIslands2015\n",
      "Available Resolution (LengthFile_samplerate) :\n",
      "    \n",
      "    3581_1000\n",
      "    50_250\n",
      "Dataset :  BlueFinLibrary_BallenyIslands2015\n",
      "Available Annotation files :\n",
      "  \n",
      "    BlueFinLibrary_BallenyIslands2015_results.csv\n",
      "__________\n",
      "Dataset :  BlueFinLibrary_ElephantIsland2013Aural\n",
      "Available Resolution (LengthFile_samplerate) :\n",
      "    \n",
      "    300_250\n",
      "    50_250\n",
      "Dataset :  BlueFinLibrary_ElephantIsland2013Aural\n",
      "Available Annotation files :\n",
      "  \n",
      "    BlueFinLibrary_ElephantIsland2013Aural_results.csv\n",
      "__________\n",
      "Dataset :  BlueFinLibrary_ElephantIsland2014\n",
      "Available Resolution (LengthFile_samplerate) :\n",
      "    \n",
      "    299_250\n",
      "    50_250\n",
      "Dataset :  BlueFinLibrary_ElephantIsland2014\n",
      "Available Annotation files :\n",
      "  \n",
      "    BlueFinLibrary_ElephantIsland2014_results.csv\n",
      "__________\n",
      "Dataset :  BlueFinLibrary_Greenwich64S2015\n",
      "Available Resolution (LengthFile_samplerate) :\n",
      "    \n",
      "    602_253\n",
      "    50_250\n",
      "Dataset :  BlueFinLibrary_Greenwich64S2015\n",
      "Available Annotation files :\n",
      "  \n",
      "    BlueFinLibrary_Greenwich64S2015_results.csv\n",
      "__________\n",
      "Dataset :  BlueFinLibrary_MaudRise2014\n",
      "Available Resolution (LengthFile_samplerate) :\n",
      "    \n",
      "    1500_2048\n",
      "    50_250\n",
      "Dataset :  BlueFinLibrary_MaudRise2014\n",
      "Available Annotation files :\n",
      "  \n",
      "    BlueFinLibrary_MaudRise2014_results.csv\n",
      "__________\n",
      "Dataset :  BlueFinLibrary_RossSea2014\n",
      "Available Resolution (LengthFile_samplerate) :\n",
      "    \n",
      "    3599_1000\n",
      "    50_250\n",
      "    original\n",
      "Dataset :  BlueFinLibrary_RossSea2014\n",
      "Available Annotation files :\n",
      "  \n",
      "    BlueFinLibrary_RossSea2014_results.csv\n",
      "__________\n",
      "Dataset :  BlueFinLibrary_casey2014\n",
      "Available Resolution (LengthFile_samplerate) :\n",
      "    \n",
      "    3598_1000\n",
      "    50_250\n",
      "Dataset :  BlueFinLibrary_casey2014\n",
      "Available Annotation files :\n",
      "  \n",
      "    BlueFinLibrary_Casey2014_results.csv\n",
      "__________\n",
      "Dataset :  BlueFinLibrary_casey2017\n",
      "Available Resolution (LengthFile_samplerate) :\n",
      "    \n",
      "    3598_1000\n",
      "    50_250\n",
      "Dataset :  BlueFinLibrary_casey2017\n",
      "Available Annotation files :\n",
      "  \n",
      "    BlueFinLibrary_Casey2017_results.csv\n",
      "__________\n",
      "Dataset :  BlueFinLibrary_kerguelen2005\n",
      "Available Resolution (LengthFile_samplerate) :\n",
      "    \n",
      "    3600_500\n",
      "    50_250\n",
      "Dataset :  BlueFinLibrary_kerguelen2005\n",
      "Available Annotation files :\n",
      "  \n",
      "    BlueFinLibrary_Kerguelen2005_results.csv\n",
      "__________\n",
      "Dataset :  BlueFinLibrary_kerguelen2014\n",
      "Available Resolution (LengthFile_samplerate) :\n",
      "    \n",
      "    3596_1000\n",
      "    50_250\n",
      "Dataset :  BlueFinLibrary_kerguelen2014\n",
      "Available Annotation files :\n",
      "  \n",
      "    BlueFinLibrary_Kerguelen2014_results.csv\n",
      "__________\n",
      "Dataset :  BlueFinLibrary_kerguelen2015\n",
      "Available Resolution (LengthFile_samplerate) :\n",
      "    \n",
      "    3598_1000\n",
      "    50_250\n",
      "Dataset :  BlueFinLibrary_kerguelen2015\n",
      "Available Annotation files :\n",
      "  \n",
      "    BlueFinLibrary_Kerguelen2015_results.csv\n",
      "__________\n"
     ]
    }
   ],
   "source": [
    "for dataset_ID in dataset_ID_tab:\n",
    "    check_available_file_resolution(dataset_ID)\n",
    "    #print('__________')\n",
    "    check_available_annotation(dataset_ID)\n",
    "    print('__________')"
   ]
  },
  {
   "cell_type": "markdown",
   "id": "17cf1bbd-81c2-4523-b027-23312eed3e87",
   "metadata": {},
   "source": [
    "#### <span style=\"color:red\">*Select format(s) and annotation tab(s)*</span>\n",
    "\n",
    "Nb : As list, same dimension as the dataset_ID_tab. \n",
    "\n",
    "Ex :\n",
    "- ``LenghtFile_tab`` = [50,50,60] (in seconds)\n",
    "- ``sample_rate_tab`` = [48000, 44100, 48000] (in hertz)\n",
    "- ``file_annotation_tab`` = ['annotation_aplose1_results.csv', 'annotation_aplose3_results.csv', 'annotation_aplose3_results.csv']"
   ]
  },
  {
   "cell_type": "code",
   "execution_count": 5,
   "id": "afad78a2-a27f-45b7-9ea8-45f77d3f2c81",
   "metadata": {},
   "outputs": [],
   "source": [
    "LenghtFile_tab = [50 for i in range(11)]\n",
    "sample_rate_tab = [250 for i in range(11)]\n",
    "file_annotation_tab = ['BlueFinLibrary_BallenyIslands2015_results.csv', 'BlueFinLibrary_ElephantIsland2013Aural_results.csv', 'BlueFinLibrary_ElephantIsland2014_results.csv', 'BlueFinLibrary_Greenwich64S2015_results.csv', 'BlueFinLibrary_MaudRise2014_results.csv', 'BlueFinLibrary_RossSea2014_results.csv', 'BlueFinLibrary_Casey2014_results.csv', 'BlueFinLibrary_Casey2017_results.csv', 'BlueFinLibrary_Kerguelen2005_results.csv', 'BlueFinLibrary_Kerguelen2014_results.csv', 'BlueFinLibrary_Kerguelen2015_results.csv']"
   ]
  },
  {
   "cell_type": "markdown",
   "id": "5e67d3b5-5c2e-43b5-9227-34dcaea7f4ac",
   "metadata": {},
   "source": [
    "#### <span style=\"color:green\">*List of existing tasks and benchmarks*</span>"
   ]
  },
  {
   "cell_type": "code",
   "execution_count": 6,
   "id": "1a3fdab0-5f65-4edd-826a-b07b4d7c6a23",
   "metadata": {},
   "outputs": [
    {
     "name": "stdout",
     "output_type": "stream",
     "text": [
      "/\n",
      "TaskTEST1/\n",
      "    BMTEST1_1/\n",
      "             Dataset used :  ['MPSU_ForestouHuella' 'MPSU_ForestouHuella_copy']\n",
      "Task_Glider_PBW_AnnotatorAnalysis/\n",
      "    BM_merged15/\n",
      "             Dataset used :  ['Glider']\n",
      "    BM_EXP/\n",
      "             Dataset used :  ['Glider']\n",
      "    Comp_BM_curves/\n",
      "    BM_merged6/\n",
      "             Dataset used :  ['Glider']\n",
      "    BM_merged2_2/\n",
      "             Dataset used :  ['Glider']\n",
      "    BM_merged2_3/\n",
      "             Dataset used :  ['Glider']\n",
      "    BM_merged2_4/\n",
      "             Dataset used :  ['Glider']\n",
      "    BM_merged2_5/\n",
      "             Dataset used :  ['Glider']\n",
      "    BM_merged2_6/\n",
      "             Dataset used :  ['Glider']\n",
      "    BM_merged2_7/\n",
      "             Dataset used :  ['Glider']\n",
      "    BM_merged2_8/\n",
      "             Dataset used :  ['Glider']\n",
      "    BM_merged8/\n",
      "             Dataset used :  ['Glider']\n",
      "    BM_merged10/\n",
      "             Dataset used :  ['Glider']\n",
      "    BM_merged12/\n",
      "             Dataset used :  ['Glider']\n",
      "    BM_merged14/\n",
      "             Dataset used :  ['Glider']\n",
      "    BM_merged2_9/\n",
      "             Dataset used :  ['Glider']\n",
      "    BM_merged2_10/\n",
      "             Dataset used :  ['Glider']\n",
      "    WeakLabelling_AllAnnotation/\n",
      "             Dataset used :  ['Glider']\n",
      "    BM_AN_Nassau/\n",
      "             Dataset used :  ['Glider']\n",
      "    BM_AN_Shanghai/\n",
      "             Dataset used :  ['Glider']\n",
      "    BM_AN_Civitavecchia/\n",
      "             Dataset used :  ['Glider']\n",
      "    BM_AN_Galveston/\n",
      "             Dataset used :  ['Glider']\n",
      "    BM_AN_Venice/\n",
      "             Dataset used :  ['Glider']\n",
      "    BM_AN_Fukuoka/\n",
      "             Dataset used :  ['Glider']\n",
      "    BM_AN_Naples/\n",
      "             Dataset used :  ['Glider']\n",
      "    BM_AN_Bridgetown/\n",
      "             Dataset used :  ['Glider']\n",
      "    BM_AN_Valletta/\n",
      "             Dataset used :  ['Glider']\n",
      "    BM_AN_Rostock/\n",
      "             Dataset used :  ['Glider']\n",
      "    BM_AN_Dubrovnik/\n",
      "             Dataset used :  ['Glider']\n",
      "    BM_AN_Mahahual/\n",
      "             Dataset used :  ['Glider']\n",
      "    BM_AN_Ensenada/\n",
      "             Dataset used :  ['Glider']\n",
      "    BM_AN_Tunis/\n",
      "             Dataset used :  ['Glider']\n",
      "    BM_AN_Funchal/\n",
      "             Dataset used :  ['Glider']\n",
      "    BM_AN_Tallinn/\n",
      "             Dataset used :  ['Glider']\n",
      "    BM_AN_Malaga/\n",
      "             Dataset used :  ['Glider']\n",
      "    BM_AN_Helsinki/\n",
      "             Dataset used :  ['Glider']\n",
      "    BM_AN_Valencia/\n",
      "             Dataset used :  ['Glider']\n",
      "    BM_FULL_EVAL/\n",
      "             Dataset used :  ['Glider']\n",
      "    BM_FULL_EVAL_long/\n",
      "             Dataset used :  ['Glider']\n",
      "Task_Test_Apocado_whistles/\n",
      "    BM_1/\n",
      "             Dataset used :  ['APOCADO_IROISE_C2D1_07072022']\n",
      "Task_Det_PBW/\n",
      "    TEST1/\n",
      "             Dataset used :  ['Dataset2015_AUS']\n",
      "    TRAIN_Glider/\n",
      "             Dataset used :  ['Glider']\n",
      "    TRAIN_Glider_long/\n",
      "             Dataset used :  ['Glider']\n",
      "    Train_multilabels_grouped15/\n",
      "             Dataset used :  ['Glider']\n",
      "    Train_mergeboths/\n",
      "             Dataset used :  ['Glider' 'Dataset2015_AUS']\n",
      "Task_DS_Miller/\n",
      "    All_BlueWhale/\n",
      "             Dataset used :  ['BlueFinLibrary_BallenyIslands2015'\n",
      " 'BlueFinLibrary_ElephantIsland2013Aural'\n",
      " 'BlueFinLibrary_ElephantIsland2014' 'BlueFinLibrary_Greenwich64S2015'\n",
      " 'BlueFinLibrary_MaudRise2014' 'BlueFinLibrary_RossSea2014'\n",
      " 'BlueFinLibrary_casey2014' 'BlueFinLibrary_casey2017'\n",
      " 'BlueFinLibrary_kerguelen2005' 'BlueFinLibrary_kerguelen2014'\n",
      " 'BlueFinLibrary_kerguelen2015']\n"
     ]
    }
   ],
   "source": [
    "check_available_ai_tasks_bm()"
   ]
  },
  {
   "cell_type": "markdown",
   "id": "5f6e718d-8bff-4f43-bbe4-d6437155686c",
   "metadata": {},
   "source": [
    "#### <span style=\"color:red\">*Select your task and benchmark*</span>\n",
    "\n",
    "- `` Task_ID `` : The First Level is for the Task. One task is composed by several benchmark.\n",
    "- ``BM_Name`` : The Second Level is for the BenchMark - . A BenchMark is composed by different model that will be compared. (Different architecture, different dataset subdivision, differents representation, ...)\n",
    "\n",
    "Nb : If you chose a new one, folders will be created automatically. \n",
    "\n",
    "Nb2 : Just enter strings\n",
    "\n",
    "Ex : \n",
    "- ``Task_ID`` = 'TaskTEST1'\n",
    "- ``BM_Name`` = 'BMTEST1_1'\n",
    "\n"
   ]
  },
  {
   "cell_type": "code",
   "execution_count": 7,
   "id": "19b9eebd-0727-461f-8638-0557ca63e888",
   "metadata": {},
   "outputs": [],
   "source": [
    "Task_ID = 'Task_DS_Miller'\n",
    "BM_Name = 'All_BlueWhale'"
   ]
  },
  {
   "cell_type": "markdown",
   "id": "7d32720e-df57-4769-a5a8-8728698bcce2",
   "metadata": {},
   "source": [
    "#### <span style=\"color:green\">*List of existing annototated labels and annotators for each datasets*</span>"
   ]
  },
  {
   "cell_type": "code",
   "execution_count": 8,
   "id": "7deee551-63fe-44bd-bbfd-1c95151a7436",
   "metadata": {},
   "outputs": [
    {
     "name": "stdout",
     "output_type": "stream",
     "text": [
      "Dataset :  BlueFinLibrary_BallenyIslands2015\n",
      "Labels Annotated :  ['Balleny2015BmAnt-A', 'Balleny2015BmAnt-B', 'Balleny2015BmAnt-Z', 'Balleny2015BmD', 'Balleny2015Bp20Hz', 'Balleny2015Bp20Plus', 'Balleny2015BpDwnswp', 'Balleny2015BpHigherCall', 'Balleny2015humpback', 'Balleny2015minke', 'Balleny2015unid']\n",
      "Annotators :  ['BallenyIslands2015']\n",
      "__________\n",
      "Dataset :  BlueFinLibrary_ElephantIsland2013Aural\n",
      "Labels Annotated :  ['BmAnt-A', 'BmAnt-B', 'BmAnt-Z', 'BmD', 'Bp-20Hz', 'Bp-20Plus', 'Bp-Downsweep', 'Humptxt', 'MinkeBio', 'MinkeDS', 'Tonal30Hztxt', 'Unidentifiedcalls']\n",
      "Annotators :  ['ElephantIsland2013Aural']\n",
      "__________\n",
      "Dataset :  BlueFinLibrary_ElephantIsland2014\n",
      "Labels Annotated :  ['backbeats', 'BmAnt-A', 'BmAnt-B', 'BmAnt-Z', 'BmDcalls', 'Bp20Hz', 'Bp20Plus', 'BpDswp', 'recurrentunknowpulses', 'Unknowncalls']\n",
      "Annotators :  ['ElephantIsland2014']\n",
      "__________\n",
      "Dataset :  BlueFinLibrary_Greenwich64S2015\n",
      "Labels Annotated :  ['BmAnt-A', 'BmAnt-B', 'BmAnt-Z', 'BmD', 'Fin20Hz', 'Fin20Plus', 'FinDS', 'Unidentifiedcalls']\n",
      "Annotators :  ['Greenwich64S2015']\n",
      "__________\n",
      "Dataset :  BlueFinLibrary_MaudRise2014\n",
      "Labels Annotated :  ['BmAnt-A', 'BmAnt-B', 'BmAnt-Z', 'BmD', 'BmSWI', 'Bp-Downsweep', 'Bp20', 'Bp20Plus', 'MinkeBioduckAndDownsweeps', 'SWI', 'Unidentified']\n",
      "Annotators :  ['MaudRise2014']\n",
      "__________\n",
      "Dataset :  BlueFinLibrary_RossSea2014\n",
      "Labels Annotated :  ['BmAnt-A', 'unid']\n",
      "Annotators :  ['RossSea2014']\n",
      "__________\n",
      "Dataset :  BlueFinLibrary_casey2014\n",
      "Labels Annotated :  ['BmAnt-A', 'BmAnt-B', 'BmAnt-Z', 'BmD', 'Bp20Hz', 'Unidentifiedcalls']\n",
      "Annotators :  ['Casey2014']\n",
      "__________\n",
      "Dataset :  BlueFinLibrary_casey2017\n",
      "Labels Annotated :  ['Casey2017BmAnt-A', 'Casey2017BmAnt-B', 'Casey2017BmAnt-Z', 'Casey2017BmD', 'Casey2017Bp20Hz', 'Casey2017Bp20Plus', 'Casey2017Unidentifiedcalls']\n",
      "Annotators :  ['casey2017']\n",
      "__________\n",
      "Dataset :  BlueFinLibrary_kerguelen2005\n",
      "Labels Annotated :  ['BmAnt-A', 'BmAnt-B', 'BmAnt-Z', 'BmD', 'Fin20Hz', 'Fin20Plus', 'FinDS', 'MinkeDS', 'Unidentifiedcalls']\n",
      "Annotators :  ['Kerguelen2005']\n",
      "__________\n",
      "Dataset :  BlueFinLibrary_kerguelen2014\n",
      "Labels Annotated :  ['BmAnt-A', 'BmAnt-B', 'BmAnt-Z', 'BmD', 'Bp20Hz', 'Bp20Plus', 'BpDownsweep', 'Unidentifiedcalls']\n",
      "Annotators :  ['Kerguelen2014']\n",
      "__________\n",
      "Dataset :  BlueFinLibrary_kerguelen2015\n",
      "Labels Annotated :  ['BmAnt-A', 'BmAnt-B', 'BmAnt-Z', 'BmD', 'Fin20Hz', 'Fin20Plus', 'FinDS', 'MinkeDS', 'Unidentifiedcalls']\n",
      "Annotators :  ['Kerguelen2015']\n",
      "__________\n"
     ]
    }
   ],
   "source": [
    "for i in range(len(dataset_ID_tab)):\n",
    "    print('Dataset : ', dataset_ID_tab[i])\n",
    "    check_available_labels_annotators(dataset_ID_tab[i], file_annotation_tab[i])\n",
    "    print('__________')"
   ]
  },
  {
   "cell_type": "markdown",
   "id": "52ec007e-9d8e-4d04-9b03-d70b54003fad",
   "metadata": {},
   "source": [
    "#### <span style=\"color:red\">*Select the annotators and the labels to be detected*</span>\n",
    "\n",
    "- ``AnnotatorsList_tab`` : Annotators selected by dataset. As list of list, same dimension as the dataset_ID_tab. \n",
    "    - Ex : ``AnnotatorsList_tab`` = [['annotatorA', 'annotatorB'], ['annotatorC'], [['annotatorD', 'annotatorE']] \n",
    "    - Means that annotator A and B are selected for the dataset1, annotator C for the dataset2, and annotators D and E for the dataset3.\n",
    "\n",
    "</br>\n",
    "\n",
    "- ``orig_LabelsList_tab`` : label to be kept for the detection, for each dataset. As list of list, same dimension as the dataset_ID_tab.\n",
    "    - Ex : ``orig_LabelsList_tab`` = [['whistles'], ['click', 'whistle'], [['dolphins_clicks', 'globi_clicks']] \n",
    "    - Means that the label 'whistles' is selected for the dataset1, labels 'click' and 'whistles' for the dataset2, and labels 'dolphins_clicks' and 'globi_clicks' for the dataset3.\n",
    "\n",
    "</br>\n",
    "\n",
    "- ``FinalLabel_Dic`` : labels used for the detectors. Allows you to merge some label from different dataset. As a dictionnary where keys are final labels and each one leads to a list with labels from \"orig_LabelsList_tan\".\n",
    "    - Ex : ``FinalLabel_Dic`` = {'Whistles':['whistles', 'whistle'], 'Clicks':['click', 'dolphins_clicks', 'globi_clicks']}\n",
    "    - Means that labels 'whistles' and 'whistle' will be merged as one label called 'Whistles', and the labels 'click', 'dolphins_clicks' and  'globi_clicks' will be merged as one label called 'Clicks'. \n",
    "\n",
    "</br>\n",
    "\n",
    "- ``Crop_duration`` : Time (in second) cropped at the start and end of the annotation (if you think the annotation does not exactly fit the sound of interest). \n",
    "    - Ex : ``Crop_duration`` = 1\n",
    "    - Ex2 : ``Crop_duration`` = 0 (if you do not want to crop them."
   ]
  },
  {
   "cell_type": "code",
   "execution_count": 9,
   "id": "615cea90-10fe-40ae-bc2f-8810ae309d22",
   "metadata": {},
   "outputs": [],
   "source": [
    "AnnotatorsList_tab = [['BallenyIslands2015'], ['ElephantIsland2013Aural'], ['ElephantIsland2014'], ['Greenwich64S2015'], ['MaudRise2014'], ['RossSea2014'], ['Casey2014'], ['casey2017'], ['Kerguelen2005'], ['Kerguelen2014'], ['Kerguelen2015']]\n",
    "\n",
    "orig_LabelsList_tab = [['BmAnt-A', 'BmAnt-B', 'BmAnt-Z'] for i in range(11)]\n",
    "orig_LabelsList_tab[0] = ['Balleny2015BmAnt-A', 'Balleny2015BmAnt-B', 'Balleny2015BmAnt-Z']\n",
    "orig_LabelsList_tab[7] = ['Casey2017BmAnt-A', 'Casey2017BmAnt-B', 'Casey2017BmAnt-Z']\n",
    "\n",
    "FinalLabel_Dic = {'BlueWhale':['BmAnt-A', 'BmAnt-B', 'BmAnt-Z', 'Balleny2015BmAnt-A', 'Balleny2015BmAnt-B', 'Balleny2015BmAnt-Z', 'Casey2017BmAnt-A', 'Casey2017BmAnt-B', 'Casey2017BmAnt-Z']}\n",
    "\n",
    "Crop_duration = 1 #seconds\n",
    "is_box = None\n",
    "\n",
    "LabelType = 'classic' #\"weak_labels\""
   ]
  },
  {
   "cell_type": "code",
   "execution_count": 10,
   "id": "ea38efdb-2d0d-42ae-a4ee-c371847a8d95",
   "metadata": {},
   "outputs": [
    {
     "data": {
      "text/plain": [
       "[['Balleny2015BmAnt-A', 'Balleny2015BmAnt-B', 'Balleny2015BmAnt-Z'],\n",
       " ['BmAnt-A', 'BmAnt-B', 'BmAnt-Z'],\n",
       " ['BmAnt-A', 'BmAnt-B', 'BmAnt-Z'],\n",
       " ['BmAnt-A', 'BmAnt-B', 'BmAnt-Z'],\n",
       " ['BmAnt-A', 'BmAnt-B', 'BmAnt-Z'],\n",
       " ['BmAnt-A', 'BmAnt-B', 'BmAnt-Z'],\n",
       " ['BmAnt-A', 'BmAnt-B', 'BmAnt-Z'],\n",
       " ['Casey2017BmAnt-A', 'Casey2017BmAnt-B', 'Casey2017BmAnt-Z'],\n",
       " ['BmAnt-A', 'BmAnt-B', 'BmAnt-Z'],\n",
       " ['BmAnt-A', 'BmAnt-B', 'BmAnt-Z'],\n",
       " ['BmAnt-A', 'BmAnt-B', 'BmAnt-Z']]"
      ]
     },
     "execution_count": 10,
     "metadata": {},
     "output_type": "execute_result"
    }
   ],
   "source": [
    "orig_LabelsList_tab"
   ]
  },
  {
   "cell_type": "markdown",
   "id": "e7eedf12-f114-400a-b78a-129813228460",
   "metadata": {},
   "source": [
    "## Launch Formatting\n",
    "\n",
    "#### <span style=\"color:blue\">*JUST RUN CELL*</span>"
   ]
  },
  {
   "cell_type": "code",
   "execution_count": 12,
   "id": "55c5e48a-5fea-4771-a2f8-d65839d0f303",
   "metadata": {},
   "outputs": [
    {
     "name": "stdout",
     "output_type": "stream",
     "text": [
      "Processing dataset : BlueFinLibrary_BallenyIslands2015\n",
      "Task Status existing : we're removing all unannotated files ...\n"
     ]
    },
    {
     "name": "stderr",
     "output_type": "stream",
     "text": [
      "Check over all audio file : 100%|██████████| 14875/14875 [00:01<00:00, 7847.47it/s]\n"
     ]
    },
    {
     "name": "stdout",
     "output_type": "stream",
     "text": [
      "Done, 14707 files remains\n",
      "Matching annotation with timestamp for each label ...\n",
      "Label :  Balleny2015BmAnt-A  ...\n"
     ]
    },
    {
     "name": "stderr",
     "output_type": "stream",
     "text": [
      "Checking annotation datetime : 100%|██████████| 2473/2473 [00:00<00:00, 43768.65it/s]\n",
      "Checking audio file datetime : 100%|██████████| 14707/14707 [00:11<00:00, 1294.04it/s]\n",
      "Matching overlap : 100%|██████████| 923/923 [00:00<00:00, 6913.86it/s]\n"
     ]
    },
    {
     "name": "stdout",
     "output_type": "stream",
     "text": [
      "Balleny2015BmAnt-A OK\n",
      "Label :  Balleny2015BmAnt-B  ...\n"
     ]
    },
    {
     "name": "stderr",
     "output_type": "stream",
     "text": [
      "Checking annotation datetime : 100%|██████████| 2473/2473 [00:00<00:00, 159589.41it/s]\n",
      "Checking audio file datetime : 100%|██████████| 14707/14707 [00:11<00:00, 1249.12it/s]\n",
      "Matching overlap : 100%|██████████| 44/44 [00:00<00:00, 6719.44it/s]\n"
     ]
    },
    {
     "name": "stdout",
     "output_type": "stream",
     "text": [
      "Balleny2015BmAnt-B OK\n",
      "Label :  Balleny2015BmAnt-Z  ...\n"
     ]
    },
    {
     "name": "stderr",
     "output_type": "stream",
     "text": [
      "Checking annotation datetime : 100%|██████████| 2473/2473 [00:00<00:00, 234422.98it/s]\n",
      "Checking audio file datetime : 100%|██████████| 14707/14707 [00:11<00:00, 1261.23it/s]\n",
      "Matching overlap : 100%|██████████| 31/31 [00:00<00:00, 3100.22it/s]\n"
     ]
    },
    {
     "name": "stdout",
     "output_type": "stream",
     "text": [
      "Balleny2015BmAnt-Z OK\n",
      "Number of files :  14707\n",
      "Balleny2015BmAnt-A  -> ratio of positive :       5.657 %\n",
      "Balleny2015BmAnt-B  -> ratio of positive :       0.320 %\n",
      "Balleny2015BmAnt-Z  -> ratio of positive :       0.245 %\n",
      "   \n",
      "Processing dataset : BlueFinLibrary_ElephantIsland2013Aural\n",
      "Task Status existing : we're removing all unannotated files ...\n"
     ]
    },
    {
     "name": "stderr",
     "output_type": "stream",
     "text": [
      "Check over all audio file : 100%|██████████| 50992/50992 [00:30<00:00, 1667.76it/s]\n"
     ]
    },
    {
     "name": "stdout",
     "output_type": "stream",
     "text": [
      "Done, 13529 files remains\n",
      "Matching annotation with timestamp for each label ...\n",
      "Label :  BmAnt-A  ...\n"
     ]
    },
    {
     "name": "stderr",
     "output_type": "stream",
     "text": [
      "Checking annotation datetime : 100%|██████████| 35069/35069 [00:00<00:00, 142900.91it/s]\n",
      "Checking audio file datetime : 100%|██████████| 13529/13529 [00:33<00:00, 403.72it/s]\n",
      "Matching overlap : 100%|██████████| 2625/2625 [00:00<00:00, 7746.74it/s]\n"
     ]
    },
    {
     "name": "stdout",
     "output_type": "stream",
     "text": [
      "BmAnt-A OK\n",
      "Label :  BmAnt-B  ...\n"
     ]
    },
    {
     "name": "stderr",
     "output_type": "stream",
     "text": [
      "Checking annotation datetime : 100%|██████████| 35069/35069 [00:00<00:00, 168130.20it/s]\n",
      "Checking audio file datetime : 100%|██████████| 13529/13529 [00:33<00:00, 401.61it/s]\n",
      "Matching overlap : 100%|██████████| 1786/1786 [00:00<00:00, 7918.16it/s]\n"
     ]
    },
    {
     "name": "stdout",
     "output_type": "stream",
     "text": [
      "BmAnt-B OK\n",
      "Label :  BmAnt-Z  ...\n"
     ]
    },
    {
     "name": "stderr",
     "output_type": "stream",
     "text": [
      "Checking annotation datetime : 100%|██████████| 35069/35069 [00:00<00:00, 284831.91it/s]\n",
      "Checking audio file datetime : 100%|██████████| 13529/13529 [00:33<00:00, 406.64it/s]\n",
      "Matching overlap : 100%|██████████| 152/152 [00:00<00:00, 5976.47it/s]\n"
     ]
    },
    {
     "name": "stdout",
     "output_type": "stream",
     "text": [
      "BmAnt-Z OK\n",
      "Number of files :  13529\n",
      "BmAnt-A  -> ratio of positive :      16.675 %\n",
      "BmAnt-B  -> ratio of positive :      12.263 %\n",
      "BmAnt-Z  -> ratio of positive :       1.271 %\n",
      "   \n",
      "Processing dataset : BlueFinLibrary_ElephantIsland2014\n",
      "Task Status existing : we're removing all unannotated files ...\n"
     ]
    },
    {
     "name": "stderr",
     "output_type": "stream",
     "text": [
      "Check over all audio file : 100%|██████████| 14133/14133 [00:03<00:00, 3604.84it/s]\n"
     ]
    },
    {
     "name": "stdout",
     "output_type": "stream",
     "text": [
      "Done, 14133 files remains\n",
      "Matching annotation with timestamp for each label ...\n",
      "Label :  BmAnt-A  ...\n"
     ]
    },
    {
     "name": "stderr",
     "output_type": "stream",
     "text": [
      "Checking annotation datetime : 100%|██████████| 23631/23631 [00:00<00:00, 60514.79it/s]\n",
      "Checking audio file datetime : 100%|██████████| 14133/14133 [00:10<00:00, 1396.27it/s]\n",
      "Matching overlap : 100%|██████████| 6933/6933 [00:00<00:00, 7793.88it/s]\n"
     ]
    },
    {
     "name": "stdout",
     "output_type": "stream",
     "text": [
      "BmAnt-A OK\n",
      "Label :  BmAnt-B  ...\n"
     ]
    },
    {
     "name": "stderr",
     "output_type": "stream",
     "text": [
      "Checking annotation datetime : 100%|██████████| 23631/23631 [00:00<00:00, 189051.25it/s]\n",
      "Checking audio file datetime : 100%|██████████| 14133/14133 [00:10<00:00, 1407.53it/s]\n",
      "Matching overlap : 100%|██████████| 967/967 [00:00<00:00, 7675.91it/s]\n"
     ]
    },
    {
     "name": "stdout",
     "output_type": "stream",
     "text": [
      "BmAnt-B OK\n",
      "Label :  BmAnt-Z  ...\n"
     ]
    },
    {
     "name": "stderr",
     "output_type": "stream",
     "text": [
      "Checking annotation datetime : 100%|██████████| 23631/23631 [00:00<00:00, 268391.39it/s]\n",
      "Checking audio file datetime : 100%|██████████| 14133/14133 [00:10<00:00, 1384.40it/s]\n",
      "Matching overlap : 100%|██████████| 100/100 [00:00<00:00, 7135.23it/s]\n"
     ]
    },
    {
     "name": "stdout",
     "output_type": "stream",
     "text": [
      "BmAnt-Z OK\n",
      "Number of files :  14133\n",
      "BmAnt-A  -> ratio of positive :      38.067 %\n",
      "BmAnt-B  -> ratio of positive :       6.085 %\n",
      "BmAnt-Z  -> ratio of positive :       0.792 %\n",
      "   \n",
      "Processing dataset : BlueFinLibrary_Greenwich64S2015\n",
      "Task Status existing : we're removing all unannotated files ...\n"
     ]
    },
    {
     "name": "stderr",
     "output_type": "stream",
     "text": [
      "Check over all audio file : 100%|██████████| 2470/2470 [00:00<00:00, 17706.08it/s]\n"
     ]
    },
    {
     "name": "stdout",
     "output_type": "stream",
     "text": [
      "Done, 2470 files remains\n",
      "Matching annotation with timestamp for each label ...\n",
      "Label :  BmAnt-A  ...\n"
     ]
    },
    {
     "name": "stderr",
     "output_type": "stream",
     "text": [
      "Checking annotation datetime : 100%|██████████| 1453/1453 [00:00<00:00, 31587.61it/s]\n",
      "Checking audio file datetime : 100%|██████████| 2470/2470 [00:00<00:00, 7373.13it/s]\n",
      "Matching overlap : 100%|██████████| 827/827 [00:00<00:00, 17595.59it/s]\n"
     ]
    },
    {
     "name": "stdout",
     "output_type": "stream",
     "text": [
      "BmAnt-A OK\n",
      "Label :  BmAnt-B  ...\n"
     ]
    },
    {
     "name": "stderr",
     "output_type": "stream",
     "text": [
      "Checking annotation datetime : 100%|██████████| 1453/1453 [00:00<00:00, 80721.66it/s]\n",
      "Checking audio file datetime : 100%|██████████| 2470/2470 [00:00<00:00, 7473.52it/s]\n",
      "Matching overlap : 100%|██████████| 157/157 [00:00<00:00, 15698.52it/s]\n"
     ]
    },
    {
     "name": "stdout",
     "output_type": "stream",
     "text": [
      "BmAnt-B OK\n",
      "Label :  BmAnt-Z  ...\n"
     ]
    },
    {
     "name": "stderr",
     "output_type": "stream",
     "text": [
      "Checking annotation datetime : 100%|██████████| 1453/1453 [00:00<00:00, 152931.59it/s]\n",
      "Checking audio file datetime : 100%|██████████| 2470/2470 [00:00<00:00, 7379.97it/s]\n",
      "Matching overlap : 100%|██████████| 29/29 [00:00<00:00, 9665.83it/s]\n"
     ]
    },
    {
     "name": "stdout",
     "output_type": "stream",
     "text": [
      "BmAnt-Z OK\n",
      "Number of files :  2470\n",
      "BmAnt-A  -> ratio of positive :      28.259 %\n",
      "BmAnt-B  -> ratio of positive :       6.761 %\n",
      "BmAnt-Z  -> ratio of positive :       1.296 %\n",
      "   \n",
      "Processing dataset : BlueFinLibrary_MaudRise2014\n",
      "Task Status existing : we're removing all unannotated files ...\n"
     ]
    },
    {
     "name": "stderr",
     "output_type": "stream",
     "text": [
      "Check over all audio file : 100%|██████████| 6200/6200 [00:00<00:00, 12902.82it/s]\n"
     ]
    },
    {
     "name": "stdout",
     "output_type": "stream",
     "text": [
      "Done, 6200 files remains\n",
      "Matching annotation with timestamp for each label ...\n",
      "Label :  BmAnt-A  ...\n"
     ]
    },
    {
     "name": "stderr",
     "output_type": "stream",
     "text": [
      "Checking annotation datetime : 100%|██████████| 2911/2911 [00:00<00:00, 24242.41it/s]\n",
      "Checking audio file datetime : 100%|██████████| 6200/6200 [00:01<00:00, 3147.52it/s]\n",
      "Matching overlap : 100%|██████████| 2191/2191 [00:00<00:00, 12044.37it/s]\n"
     ]
    },
    {
     "name": "stdout",
     "output_type": "stream",
     "text": [
      "BmAnt-A OK\n",
      "Label :  BmAnt-B  ...\n"
     ]
    },
    {
     "name": "stderr",
     "output_type": "stream",
     "text": [
      "Checking annotation datetime : 100%|██████████| 2911/2911 [00:00<00:00, 193297.22it/s]\n",
      "Checking audio file datetime : 100%|██████████| 6200/6200 [00:02<00:00, 3086.63it/s]\n",
      "Matching overlap : 100%|██████████| 37/37 [00:00<00:00, 8256.06it/s]\n"
     ]
    },
    {
     "name": "stdout",
     "output_type": "stream",
     "text": [
      "BmAnt-B OK\n",
      "Label :  BmAnt-Z  ...\n"
     ]
    },
    {
     "name": "stderr",
     "output_type": "stream",
     "text": [
      "Checking annotation datetime : 100%|██████████| 2911/2911 [00:00<00:00, 187982.00it/s]\n",
      "Checking audio file datetime : 100%|██████████| 6200/6200 [00:01<00:00, 3144.38it/s]\n",
      "Matching overlap : 100%|██████████| 28/28 [00:00<00:00, 6995.92it/s]\n"
     ]
    },
    {
     "name": "stdout",
     "output_type": "stream",
     "text": [
      "BmAnt-Z OK\n",
      "Number of files :  6200\n",
      "BmAnt-A  -> ratio of positive :      27.306 %\n",
      "BmAnt-B  -> ratio of positive :       0.645 %\n",
      "BmAnt-Z  -> ratio of positive :       0.532 %\n",
      "   \n",
      "Processing dataset : BlueFinLibrary_RossSea2014\n",
      "WARNING :  BmAnt-B  not in the label list of your annotation file !\n",
      "WARNING :  BmAnt-Z  not in the label list of your annotation file !\n",
      "Task Status existing : we're removing all unannotated files ...\n"
     ]
    },
    {
     "name": "stderr",
     "output_type": "stream",
     "text": [
      "Check over all audio file : 100%|██████████| 12780/12780 [00:01<00:00, 8853.15it/s] \n"
     ]
    },
    {
     "name": "stdout",
     "output_type": "stream",
     "text": [
      "Done, 12672 files remains\n",
      "Matching annotation with timestamp for each label ...\n",
      "Label :  BmAnt-A  ...\n"
     ]
    },
    {
     "name": "stderr",
     "output_type": "stream",
     "text": [
      "Checking annotation datetime : 100%|██████████| 359/359 [00:00<00:00, 55216.54it/s]\n",
      "Checking audio file datetime : 100%|██████████| 12672/12672 [00:09<00:00, 1317.17it/s]\n",
      "Matching overlap : 100%|██████████| 104/104 [00:00<00:00, 7149.66it/s]\n"
     ]
    },
    {
     "name": "stdout",
     "output_type": "stream",
     "text": [
      "BmAnt-A OK\n",
      "Label :  BmAnt-B  ...\n"
     ]
    },
    {
     "name": "stderr",
     "output_type": "stream",
     "text": [
      "Checking annotation datetime : 100%|██████████| 359/359 [00:00<00:00, 359111.65it/s]\n",
      "Checking audio file datetime : 100%|██████████| 12672/12672 [00:08<00:00, 1501.53it/s]\n",
      "Matching overlap : : 0it [00:00, ?it/s]\n"
     ]
    },
    {
     "name": "stdout",
     "output_type": "stream",
     "text": [
      "BmAnt-B OK\n",
      "Label :  BmAnt-Z  ...\n"
     ]
    },
    {
     "name": "stderr",
     "output_type": "stream",
     "text": [
      "Checking annotation datetime : 100%|██████████| 359/359 [00:00<00:00, 359026.02it/s]\n",
      "Checking audio file datetime : 100%|██████████| 12672/12672 [00:08<00:00, 1467.48it/s]\n",
      "Matching overlap : : 0it [00:00, ?it/s]\n"
     ]
    },
    {
     "name": "stdout",
     "output_type": "stream",
     "text": [
      "BmAnt-Z OK\n",
      "Number of files :  12672\n",
      "BmAnt-A  -> ratio of positive :       0.292 %\n",
      "BmAnt-B  -> ratio of positive :       0.000 %\n",
      "BmAnt-Z  -> ratio of positive :       0.000 %\n",
      "   \n",
      "Processing dataset : BlueFinLibrary_casey2014\n",
      "Task Status existing : we're removing all unannotated files ...\n"
     ]
    },
    {
     "name": "stderr",
     "output_type": "stream",
     "text": [
      "Check over all audio file : 100%|██████████| 14152/14152 [00:01<00:00, 7160.12it/s]\n"
     ]
    },
    {
     "name": "stdout",
     "output_type": "stream",
     "text": [
      "Done, 13961 files remains\n",
      "Matching annotation with timestamp for each label ...\n",
      "Label :  BmAnt-A  ...\n"
     ]
    },
    {
     "name": "stderr",
     "output_type": "stream",
     "text": [
      "Checking annotation datetime : 100%|██████████| 12514/12514 [00:00<00:00, 57129.09it/s]\n",
      "Checking audio file datetime : 100%|██████████| 13961/13961 [00:10<00:00, 1346.84it/s]\n",
      "Matching overlap : 100%|██████████| 3681/3681 [00:00<00:00, 7967.53it/s]\n"
     ]
    },
    {
     "name": "stdout",
     "output_type": "stream",
     "text": [
      "BmAnt-A OK\n",
      "Label :  BmAnt-B  ...\n"
     ]
    },
    {
     "name": "stderr",
     "output_type": "stream",
     "text": [
      "Checking annotation datetime : 100%|██████████| 12514/12514 [00:00<00:00, 111731.68it/s]\n",
      "Checking audio file datetime : 100%|██████████| 13961/13961 [00:10<00:00, 1313.19it/s]\n",
      "Matching overlap : 100%|██████████| 1398/1398 [00:00<00:00, 7300.26it/s]\n"
     ]
    },
    {
     "name": "stdout",
     "output_type": "stream",
     "text": [
      "BmAnt-B OK\n",
      "Label :  BmAnt-Z  ...\n"
     ]
    },
    {
     "name": "stderr",
     "output_type": "stream",
     "text": [
      "Checking annotation datetime : 100%|██████████| 12514/12514 [00:00<00:00, 134564.75it/s]\n",
      "Checking audio file datetime : 100%|██████████| 13961/13961 [00:10<00:00, 1333.45it/s]\n",
      "Matching overlap : 100%|██████████| 1091/1091 [00:00<00:00, 7247.12it/s]\n"
     ]
    },
    {
     "name": "stdout",
     "output_type": "stream",
     "text": [
      "BmAnt-Z OK\n",
      "Number of files :  13961\n",
      "BmAnt-A  -> ratio of positive :      23.200 %\n",
      "BmAnt-B  -> ratio of positive :       9.963 %\n",
      "BmAnt-Z  -> ratio of positive :       8.330 %\n",
      "   \n",
      "Processing dataset : BlueFinLibrary_casey2017\n",
      "Task Status existing : we're removing all unannotated files ...\n"
     ]
    },
    {
     "name": "stderr",
     "output_type": "stream",
     "text": [
      "Check over all audio file : 100%|██████████| 13459/13459 [00:01<00:00, 8507.56it/s]\n"
     ]
    },
    {
     "name": "stdout",
     "output_type": "stream",
     "text": [
      "Done, 13459 files remains\n",
      "Matching annotation with timestamp for each label ...\n",
      "Label :  Casey2017BmAnt-A  ...\n"
     ]
    },
    {
     "name": "stderr",
     "output_type": "stream",
     "text": [
      "Checking annotation datetime : 100%|██████████| 3393/3393 [00:00<00:00, 38098.70it/s]\n",
      "Checking audio file datetime : 100%|██████████| 13459/13459 [00:09<00:00, 1422.76it/s]\n",
      "Matching overlap : 100%|██████████| 1741/1741 [00:00<00:00, 7942.02it/s]\n"
     ]
    },
    {
     "name": "stdout",
     "output_type": "stream",
     "text": [
      "Casey2017BmAnt-A OK\n",
      "Label :  Casey2017BmAnt-B  ...\n"
     ]
    },
    {
     "name": "stderr",
     "output_type": "stream",
     "text": [
      "Checking annotation datetime : 100%|██████████| 3393/3393 [00:00<00:00, 83778.42it/s]\n",
      "Checking audio file datetime : 100%|██████████| 13459/13459 [00:09<00:00, 1426.47it/s]\n",
      "Matching overlap : 100%|██████████| 557/557 [00:00<00:00, 7900.77it/s]\n"
     ]
    },
    {
     "name": "stdout",
     "output_type": "stream",
     "text": [
      "Casey2017BmAnt-B OK\n",
      "Label :  Casey2017BmAnt-Z  ...\n"
     ]
    },
    {
     "name": "stderr",
     "output_type": "stream",
     "text": [
      "Checking annotation datetime : 100%|██████████| 3393/3393 [00:00<00:00, 196909.96it/s]\n",
      "Checking audio file datetime : 100%|██████████| 13459/13459 [00:09<00:00, 1429.37it/s]\n",
      "Matching overlap : 100%|██████████| 119/119 [00:00<00:00, 5967.51it/s]\n"
     ]
    },
    {
     "name": "stdout",
     "output_type": "stream",
     "text": [
      "Casey2017BmAnt-Z OK\n",
      "Number of files :  13459\n",
      "Casey2017BmAnt-A  -> ratio of positive :      12.520 %\n",
      "Casey2017BmAnt-B  -> ratio of positive :       4.495 %\n",
      "Casey2017BmAnt-Z  -> ratio of positive :       0.996 %\n",
      "   \n",
      "Processing dataset : BlueFinLibrary_kerguelen2005\n",
      "Task Status existing : we're removing all unannotated files ...\n"
     ]
    },
    {
     "name": "stderr",
     "output_type": "stream",
     "text": [
      "Check over all audio file : 100%|██████████| 14600/14600 [00:01<00:00, 7722.73it/s]\n"
     ]
    },
    {
     "name": "stdout",
     "output_type": "stream",
     "text": [
      "Done, 14600 files remains\n",
      "Matching annotation with timestamp for each label ...\n",
      "Label :  BmAnt-A  ...\n"
     ]
    },
    {
     "name": "stderr",
     "output_type": "stream",
     "text": [
      "Checking annotation datetime : 100%|██████████| 7168/7168 [00:00<00:00, 72043.01it/s]\n",
      "Checking audio file datetime : 100%|██████████| 14600/14600 [00:11<00:00, 1301.22it/s]\n",
      "Matching overlap : 100%|██████████| 1624/1624 [00:00<00:00, 7333.94it/s]\n"
     ]
    },
    {
     "name": "stdout",
     "output_type": "stream",
     "text": [
      "BmAnt-A OK\n",
      "Label :  BmAnt-B  ...\n"
     ]
    },
    {
     "name": "stderr",
     "output_type": "stream",
     "text": [
      "Checking annotation datetime : 100%|██████████| 7168/7168 [00:00<00:00, 188921.45it/s]\n",
      "Checking audio file datetime : 100%|██████████| 14600/14600 [00:11<00:00, 1298.98it/s]\n",
      "Matching overlap : 100%|██████████| 237/237 [00:00<00:00, 6495.32it/s]\n"
     ]
    },
    {
     "name": "stdout",
     "output_type": "stream",
     "text": [
      "BmAnt-B OK\n",
      "Label :  BmAnt-Z  ...\n"
     ]
    },
    {
     "name": "stderr",
     "output_type": "stream",
     "text": [
      "Checking annotation datetime : 100%|██████████| 7168/7168 [00:00<00:00, 216825.24it/s]\n",
      "Checking audio file datetime : 100%|██████████| 14600/14600 [00:11<00:00, 1285.96it/s]\n",
      "Matching overlap : 100%|██████████| 166/166 [00:00<00:00, 6036.91it/s]\n"
     ]
    },
    {
     "name": "stdout",
     "output_type": "stream",
     "text": [
      "BmAnt-Z OK\n",
      "Number of files :  14600\n",
      "BmAnt-A  -> ratio of positive :       5.740 %\n",
      "BmAnt-B  -> ratio of positive :       1.788 %\n",
      "BmAnt-Z  -> ratio of positive :       1.295 %\n",
      "   \n",
      "Processing dataset : BlueFinLibrary_kerguelen2014\n",
      "Task Status existing : we're removing all unannotated files ...\n"
     ]
    },
    {
     "name": "stderr",
     "output_type": "stream",
     "text": [
      "Check over all audio file : 100%|██████████| 14585/14585 [00:01<00:00, 7724.90it/s]\n"
     ]
    },
    {
     "name": "stdout",
     "output_type": "stream",
     "text": [
      "Done, 14386 files remains\n",
      "Matching annotation with timestamp for each label ...\n",
      "Label :  BmAnt-A  ...\n"
     ]
    },
    {
     "name": "stderr",
     "output_type": "stream",
     "text": [
      "Checking annotation datetime : 100%|██████████| 13783/13783 [00:00<00:00, 83027.79it/s]\n",
      "Checking audio file datetime : 100%|██████████| 14386/14386 [00:10<00:00, 1317.67it/s]\n",
      "Matching overlap : 100%|██████████| 2557/2557 [00:00<00:00, 7417.72it/s]\n"
     ]
    },
    {
     "name": "stdout",
     "output_type": "stream",
     "text": [
      "BmAnt-A OK\n",
      "Label :  BmAnt-B  ...\n"
     ]
    },
    {
     "name": "stderr",
     "output_type": "stream",
     "text": [
      "Checking annotation datetime : 100%|██████████| 13783/13783 [00:00<00:00, 139154.22it/s]\n",
      "Checking audio file datetime : 100%|██████████| 14386/14386 [00:10<00:00, 1320.04it/s]\n",
      "Matching overlap : 100%|██████████| 1176/1176 [00:00<00:00, 7244.23it/s]\n"
     ]
    },
    {
     "name": "stdout",
     "output_type": "stream",
     "text": [
      "BmAnt-B OK\n",
      "Label :  BmAnt-Z  ...\n"
     ]
    },
    {
     "name": "stderr",
     "output_type": "stream",
     "text": [
      "Checking annotation datetime : 100%|██████████| 13783/13783 [00:00<00:00, 198781.02it/s]\n",
      "Checking audio file datetime : 100%|██████████| 14386/14386 [00:10<00:00, 1326.75it/s]\n",
      "Matching overlap : 100%|██████████| 563/563 [00:00<00:00, 7413.64it/s]\n"
     ]
    },
    {
     "name": "stdout",
     "output_type": "stream",
     "text": [
      "BmAnt-Z OK\n",
      "Number of files :  14386\n",
      "BmAnt-A  -> ratio of positive :      15.362 %\n",
      "BmAnt-B  -> ratio of positive :       8.251 %\n",
      "BmAnt-Z  -> ratio of positive :       4.470 %\n",
      "   \n",
      "Processing dataset : BlueFinLibrary_kerguelen2015\n",
      "Task Status existing : we're removing all unannotated files ...\n"
     ]
    },
    {
     "name": "stderr",
     "output_type": "stream",
     "text": [
      "Check over all audio file : 100%|██████████| 14590/14590 [00:01<00:00, 8060.53it/s]\n"
     ]
    },
    {
     "name": "stdout",
     "output_type": "stream",
     "text": [
      "Done, 14395 files remains\n",
      "Matching annotation with timestamp for each label ...\n",
      "Label :  BmAnt-A  ...\n"
     ]
    },
    {
     "name": "stderr",
     "output_type": "stream",
     "text": [
      "Checking annotation datetime : 100%|██████████| 7559/7559 [00:00<00:00, 59969.63it/s]\n",
      "Checking audio file datetime : 100%|██████████| 14395/14395 [00:11<00:00, 1306.01it/s]\n",
      "Matching overlap : 100%|██████████| 1970/1970 [00:00<00:00, 6984.56it/s]\n"
     ]
    },
    {
     "name": "stdout",
     "output_type": "stream",
     "text": [
      "BmAnt-A OK\n",
      "Label :  BmAnt-B  ...\n"
     ]
    },
    {
     "name": "stderr",
     "output_type": "stream",
     "text": [
      "Checking annotation datetime : 100%|██████████| 7559/7559 [00:00<00:00, 145367.26it/s]\n",
      "Checking audio file datetime : 100%|██████████| 14395/14395 [00:11<00:00, 1278.15it/s]\n",
      "Matching overlap : 100%|██████████| 542/542 [00:00<00:00, 7367.75it/s]\n"
     ]
    },
    {
     "name": "stdout",
     "output_type": "stream",
     "text": [
      "BmAnt-B OK\n",
      "Label :  BmAnt-Z  ...\n"
     ]
    },
    {
     "name": "stderr",
     "output_type": "stream",
     "text": [
      "Checking annotation datetime : 100%|██████████| 7559/7559 [00:00<00:00, 186645.61it/s]\n",
      "Checking audio file datetime : 100%|██████████| 14395/14395 [00:11<00:00, 1231.07it/s]\n",
      "Matching overlap : 100%|██████████| 236/236 [00:00<00:00, 6742.70it/s]\n"
     ]
    },
    {
     "name": "stdout",
     "output_type": "stream",
     "text": [
      "BmAnt-Z OK\n",
      "Number of files :  14395\n",
      "BmAnt-A  -> ratio of positive :      11.379 %\n",
      "BmAnt-B  -> ratio of positive :       3.772 %\n",
      "BmAnt-Z  -> ratio of positive :       1.765 %\n",
      "   \n",
      "Merging All Datasets ...\n"
     ]
    },
    {
     "name": "stderr",
     "output_type": "stream",
     "text": [
      "100%|██████████| 14707/14707 [00:00<00:00, 67618.25it/s]\n",
      "100%|██████████| 13529/13529 [00:00<00:00, 70792.70it/s]\n",
      "100%|██████████| 14133/14133 [00:00<00:00, 71721.84it/s]\n",
      "100%|██████████| 2470/2470 [00:00<00:00, 69570.36it/s]\n",
      "100%|██████████| 6200/6200 [00:00<00:00, 67022.90it/s]\n",
      "100%|██████████| 12672/12672 [00:00<00:00, 71199.03it/s]\n",
      "100%|██████████| 13961/13961 [00:00<00:00, 69633.24it/s]\n",
      "100%|██████████| 13459/13459 [00:00<00:00, 71213.39it/s]\n",
      "100%|██████████| 14600/14600 [00:00<00:00, 51684.59it/s]\n",
      "100%|██████████| 14386/14386 [00:00<00:00, 70150.83it/s]\n",
      "100%|██████████| 14395/14395 [00:00<00:00, 68022.31it/s]\n"
     ]
    },
    {
     "name": "stdout",
     "output_type": "stream",
     "text": [
      "Number of files :  134512\n",
      "BlueWhale  -> ratio of positive :      20.105 %\n",
      "DONE ! \n",
      "Next step : Define DEV [train+val] and EVAL sets for your network !\n"
     ]
    }
   ],
   "source": [
    "FormatDatasets_main(Task_ID, BM_Name, LenghtFile_tab, sample_rate_tab, dataset_ID_tab, file_annotation_tab, orig_LabelsList_tab, FinalLabel_Dic, AnnotatorsList_tab, Crop_duration, is_box, LabelType)"
   ]
  },
  {
   "cell_type": "code",
   "execution_count": null,
   "id": "1bee9270-ef41-480a-b86e-2e550577ee51",
   "metadata": {},
   "outputs": [],
   "source": []
  },
  {
   "cell_type": "code",
   "execution_count": null,
   "id": "f9a17de3-41ec-495a-9081-8c8c3e3d04bf",
   "metadata": {},
   "outputs": [],
   "source": []
  },
  {
   "cell_type": "code",
   "execution_count": null,
   "id": "08825897-617c-40a2-9aa6-2fe8d0c1383f",
   "metadata": {},
   "outputs": [],
   "source": []
  },
  {
   "cell_type": "code",
   "execution_count": null,
   "id": "9c596b57-f5dc-4533-a627-b65740523ff6",
   "metadata": {},
   "outputs": [],
   "source": []
  },
  {
   "cell_type": "code",
   "execution_count": null,
   "id": "38646a35-10e0-4f33-aa42-f2bb6000ed85",
   "metadata": {},
   "outputs": [],
   "source": []
  },
  {
   "cell_type": "code",
   "execution_count": null,
   "id": "d1b54597-e897-4a49-9a59-7f327c2613f2",
   "metadata": {},
   "outputs": [],
   "source": []
  },
  {
   "cell_type": "code",
   "execution_count": null,
   "id": "894a50ee-62e6-430e-8993-9a3528b3906b",
   "metadata": {},
   "outputs": [],
   "source": []
  },
  {
   "cell_type": "markdown",
   "id": "7913df40-f152-42c3-98f7-61e13ff856aa",
   "metadata": {},
   "source": [
    "#### <span style=\"color:blue\">*Exemple if you want to format iteratively several datasets, tasks, annotation sets, ...*</span>"
   ]
  },
  {
   "cell_type": "code",
   "execution_count": null,
   "id": "4bb43485-a80c-4bec-bec6-6db86c90d378",
   "metadata": {},
   "outputs": [],
   "source": [
    "AN_list = ['Nassau', 'Shanghai', 'Civitavecchia', 'Galveston', 'Venice', 'Fukuoka', 'Naples', 'Bridgetown', 'Valletta', 'Rostock', 'Dubrovnik', 'Mahahual', 'Ensenada', 'Tunis', 'Funchal', 'Tallinn','Malaga', 'Helsinki', 'Valencia']\n",
    "\n",
    "for i in range(len(AN_list)):\n",
    "    LenghtFile_tab = [50]\n",
    "    sample_rate_tab = [500]\n",
    "\n",
    "    Task_ID = 'Task_Glider_PBW_AnnotatorAnalysis'\n",
    "\n",
    "    BM_Name = 'BM_AN_'+AN_list[i]\n",
    "    \n",
    "    file_annotation_tab = ['20210420_Astrolabe_xOSmOSE-Campagne_participative_results.csv']\n",
    "    \n",
    "    \n",
    "    AnnotatorsList_tab = [[AN_list[i]]]\n",
    "    \n",
    "    orig_LabelsList_tab = [[\"Baleine Bleue d'Australie\"]]\n",
    "    \n",
    "    FinalLabel_Dic = {'Bm.Aus':[\"Baleine Bleue d'Australie\"]}\n",
    "    \n",
    "    Crop_duration = 2 #seconds\n",
    "    is_box = None\n",
    "    \n",
    "    LabelType = \"classic\"\n",
    "\n",
    "    FormatDatasets_main(Task_ID, BM_Name, LenghtFile_tab, sample_rate_tab, dataset_ID_tab, file_annotation_tab, orig_LabelsList_tab, FinalLabel_Dic, AnnotatorsList_tab, Crop_duration, is_box)"
   ]
  },
  {
   "cell_type": "code",
   "execution_count": null,
   "id": "8ca27540-8fa5-4d96-9fc5-1793f49a5f80",
   "metadata": {},
   "outputs": [],
   "source": []
  }
 ],
 "metadata": {
  "kernelspec": {
   "display_name": "Python 3 (ipykernel)",
   "language": "python",
   "name": "python3"
  },
  "language_info": {
   "codemirror_mode": {
    "name": "ipython",
    "version": 3
   },
   "file_extension": ".py",
   "mimetype": "text/x-python",
   "name": "python",
   "nbconvert_exporter": "python",
   "pygments_lexer": "ipython3",
   "version": "3.8.8"
  }
 },
 "nbformat": 4,
 "nbformat_minor": 5
}
