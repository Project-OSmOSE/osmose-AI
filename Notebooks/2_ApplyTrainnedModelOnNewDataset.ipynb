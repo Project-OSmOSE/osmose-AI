{
 "cells": [
  {
   "cell_type": "markdown",
   "id": "1caf0f1f-0bc9-4d8d-8191-46ba2a90f03c",
   "metadata": {},
   "source": [
    "## Import functions "
   ]
  },
  {
   "cell_type": "code",
   "execution_count": 1,
   "id": "6d8f23e4-d62f-4a94-89c4-9dce2faefb91",
   "metadata": {},
   "outputs": [],
   "source": [
    "import os \n",
    "import sys\n",
    "import numpy as np\n",
    "#os.chdir(os.path.join(\"/home/datawork-osmose/\",'osmoseNotebooks_v0','source'))\n",
    "\n",
    "with open('path_codes.txt') as f:\n",
    "    codes_path = f.readlines()[0]\n",
    "os.chdir(os.path.join(codes_path))\n",
    "\n",
    "from use_network_functions import load_model_hyperparameters\n",
    "from use_network_functions import show_epoch_loss, set_epoch\n",
    "from launcher_datasetScale import list_datasets\n",
    "from apply_model_on_new_dataset import apply_model_on_new_dataset_main\n",
    "from check_files_in_ai_folders import check_available_ai_tasks_benchmark_modeltrainned, check_available_file_resolution, check_available_formats_from_dataset"
   ]
  },
  {
   "cell_type": "code",
   "execution_count": 2,
   "id": "bbdc9411-9203-466e-98b0-54427a168a52",
   "metadata": {},
   "outputs": [
    {
     "name": "stdout",
     "output_type": "stream",
     "text": [
      "/\n",
      "TaskTEST1/\n",
      "    BMTEST1_1/\n",
      "        models/\n",
      "            model1/\n",
      "            model2/\n",
      "            model3/\n",
      "TaskTEST2/\n",
      "    BMTEST1_1/\n",
      "        models/\n",
      "            model1/\n",
      "WeakDetection_1/\n",
      "    Glider_PBW/\n",
      "        models/\n",
      "            model1/\n",
      "            model_test/\n",
      "Task_tutoMathieu/\n",
      "    BM1/\n",
      "        models/\n",
      "            model1/\n"
     ]
    }
   ],
   "source": [
    "check_available_ai_tasks_benchmark_modeltrainned()"
   ]
  },
  {
   "cell_type": "markdown",
   "id": "9e9fb9d8-f5ee-44e0-9e17-58254c098436",
   "metadata": {},
   "source": [
    "#### <span style=\"color:red\">*Select your task and benchmark among those already created*</span>\n",
    "\n",
    "Ex : \n",
    "- ``Task_ID`` = 'TaskTEST1'\n",
    "- ``BM_Name`` = 'BMTEST1_1'\n",
    "- ``VersionName`` = 'model1' "
   ]
  },
  {
   "cell_type": "code",
   "execution_count": 3,
   "id": "47a3c1bb-d912-4420-9d4c-f92a1a32abab",
   "metadata": {},
   "outputs": [],
   "source": [
    "Task_ID = 'TaskTEST1'\n",
    "BM_Name = 'BMTEST1_1'\n",
    "VersionName = 'model2'"
   ]
  },
  {
   "cell_type": "markdown",
   "id": "32189be1-3991-40ee-a5a9-c130e6f60542",
   "metadata": {},
   "source": [
    "## Print Parameters\n",
    "\n",
    "#### <span style=\"color:blue\">*JUST RUN CELL*</span>"
   ]
  },
  {
   "cell_type": "code",
   "execution_count": null,
   "id": "16b040ca-5471-4946-9e69-0766fc19c518",
   "metadata": {},
   "outputs": [],
   "source": [
    "show_epoch_loss(Task_ID, BM_Name, Version_name)"
   ]
  },
  {
   "cell_type": "code",
   "execution_count": null,
   "id": "58bab86d-3403-46fa-9df8-f0a59586450a",
   "metadata": {},
   "outputs": [],
   "source": [
    "ID_epoch_for_evaluation = 4\n",
    "\n",
    "set_epoch(Task_ID, BM_Name, Version_name, ID_epoch_for_evaluation)set_epoch(Task_ID, BM_Name, Version_name, ID_epoch_for_evaluation)"
   ]
  },
  {
   "cell_type": "code",
   "execution_count": 4,
   "id": "ab7812c3-827f-4aee-b218-4c23c726aa49",
   "metadata": {},
   "outputs": [
    {
     "name": "stdout",
     "output_type": "stream",
     "text": [
      "TrainsetRatio  :  0.8\n",
      "batch_size  :  5\n",
      "learning_rate  :  0.0001\n",
      "num_epochs  :  20\n",
      "shuffle  :  True\n",
      "use_pretrained  :  False\n",
      "input_data_format  :  audio\n",
      "nfft  :  [1024, 1024]\n",
      "window_size  :  [1024, 1024]\n",
      "overlap  :  [50, 50]\n",
      "dynamic_min  :  [-40, -40]\n",
      "dynamic_max  :  [40, 40]\n",
      "scaling  :  ['spectrum', 'spectrum']\n",
      "num_classes  :  2\n",
      "sample_rate  :  [48000 48000]\n",
      "dataset_ID_tab  :  ['MPSU_ForestouHuella' 'MPSU_ForestouHuella_copy']\n",
      "Task_ID  :  TaskTEST1\n",
      "BM_Name  :  BMTEST1_1\n",
      "SplitName  :  SPLIT2\n",
      "Version_name  :  model2\n",
      "ModelName  :  CNN3_FC1\n"
     ]
    }
   ],
   "source": [
    "parameters = load_model_hyperparameters(Task_ID, BM_Name, VersionName)\n",
    "\n",
    "for item in list(parameters.keys()):\n",
    "    print(item, ' : ', parameters[item])"
   ]
  },
  {
   "cell_type": "markdown",
   "id": "2280e357-ed88-4593-a861-e4dd02ed9d5c",
   "metadata": {},
   "source": [
    "#### <span style=\"color:red\">*Select the dataset on which you want to apply the network*</span>\n",
    "\n",
    "Ex : \n",
    "- ``Task_ID`` = 'TaskTEST1'\n",
    "- ``BM_Name`` = 'BMTEST1_1'\n",
    "- ``VersionName`` = 'model1' "
   ]
  },
  {
   "cell_type": "code",
   "execution_count": 5,
   "id": "05de4938-5665-4130-9094-81948390806f",
   "metadata": {},
   "outputs": [
    {
     "name": "stdout",
     "output_type": "stream",
     "text": [
      "Available datasets:\n",
      "  - Glider\n",
      "  - MPSU_ForestouHuella\n",
      "  - MPSU_ForestouHuella_copy\n"
     ]
    }
   ],
   "source": [
    "list_datasets()"
   ]
  },
  {
   "cell_type": "code",
   "execution_count": 6,
   "id": "09ebc515-1268-4816-ba97-303747dcd074",
   "metadata": {},
   "outputs": [],
   "source": [
    "dataset_ID = 'MPSU_ForestouHuella'"
   ]
  },
  {
   "cell_type": "code",
   "execution_count": 7,
   "id": "282aa471-d033-44f9-8ed7-a858d784aaf6",
   "metadata": {},
   "outputs": [
    {
     "name": "stdout",
     "output_type": "stream",
     "text": [
      "Dataset :  MPSU_ForestouHuella\n",
      "Available Resolution (LengthFile_samplerate) :\n",
      "    \n",
      "    30_48000\n",
      "__________\n",
      "_______________\n",
      "Dataset :  MPSU_ForestouHuella\n",
      "Available Spectrogram Format (nfft_windowsize_overlap) :\n",
      "  1024_1024_50/\n"
     ]
    }
   ],
   "source": [
    "check_available_file_resolution(dataset_ID)\n",
    "#CheckAvailableAnnotation(dataset_ID)\n",
    "print('__________')\n",
    "check_available_formats_from_dataset(dataset_ID)"
   ]
  },
  {
   "cell_type": "code",
   "execution_count": 8,
   "id": "28ce9e8f-dfc9-4767-8eaf-dc25f6974717",
   "metadata": {},
   "outputs": [],
   "source": [
    "LenghtFile = [30]\n",
    "sample_rate = [48000]"
   ]
  },
  {
   "cell_type": "markdown",
   "id": "b3d1a690-a7dd-4f30-a8a4-4dd7b9daa17f",
   "metadata": {},
   "source": [
    "#### <span style=\"color:red\">*Select format and spectrogram resolution*</span>\n",
    "\n",
    "Nb : As list, same dimension as the dataset_ID_tab. \n",
    "\n",
    "Ex :\n",
    "Format - MUST BE FROM LIST\n",
    "- ``LenghtFile`` = 50 (in seconds) - FROM LIST\n",
    "- ``sample_rate`` = 44100 (in hertz) - FROM LIST\n",
    "\n",
    "Spectrogram Resolution : \n",
    "- if from list only those 3 :\n",
    "    - ``nfft`` = 1024\n",
    "    - ``window_size`` = 1024\n",
    "    - ``overlap`` = 50\n",
    "- if not from list, new spectrograms will be computed at each iteration, so we need more parameters : \n",
    "    - ``nfft`` = 1024\n",
    "    - ``window_size`` = 1024\n",
    "    - ``overlap`` = 50\n",
    "    - ``dynamic_min`` = -30\n",
    "    - ``dynamic_max`` = 30\n",
    "    - ``scaling`` = 'spectrum'\n",
    "\n"
   ]
  },
  {
   "cell_type": "code",
   "execution_count": 9,
   "id": "ec91f5e4-827c-4453-95dc-fa57e057e4c4",
   "metadata": {},
   "outputs": [],
   "source": [
    "input_data_format = 'spectrogram' #'audio' ou 'spectrogram'\n",
    "# 'spectrogram' : use already computed spectrogram\n",
    "# 'audio' : use .wav file, spectrogram will be computed iteratively\n",
    "\n",
    "# File Format\n",
    "LenghtFile = 30\n",
    "sample_rate = 48000\n",
    "\n",
    "#Spectrogram resolution\n",
    "nfft = 1024\n",
    "window_size = 1024\n",
    "overlap = 50\n",
    "\n",
    "dynamic_min = -40\n",
    "dynamic_max = 40\n",
    "scaling = 'spectrum'"
   ]
  },
  {
   "cell_type": "code",
   "execution_count": 10,
   "id": "5dc7f8eb-ab5c-4d36-a546-b941fee83418",
   "metadata": {},
   "outputs": [],
   "source": [
    "application_parameters = {'input_data_format':input_data_format, 'nfft':nfft, 'window_size':window_size, 'overlap':overlap, 'dynamic_min':dynamic_min, 'dynamic_max':dynamic_max, 'scaling':scaling, 'LenghtFile':LenghtFile, 'sample_rate':sample_rate}"
   ]
  },
  {
   "cell_type": "code",
   "execution_count": 11,
   "id": "759b221a-eb63-47f5-a554-5f693c90a6ee",
   "metadata": {},
   "outputs": [
    {
     "name": "stdout",
     "output_type": "stream",
     "text": [
      "Done\n",
      "F:/PhD/OSMOSE_TYPE_v2/dataset\\MPSU_ForestouHuella\\processed\\spectrogram\\30_48000\\1024_1024_50\\matrix\\\n"
     ]
    },
    {
     "name": "stderr",
     "output_type": "stream",
     "text": [
      "  0%|          | 5/8895 [00:02<59:40,  2.48it/s]  "
     ]
    },
    {
     "name": "stdout",
     "output_type": "stream",
     "text": [
      "tensor([[0.9972, 0.1948]], device='cuda:0', grad_fn=<SigmoidBackward0>)\n",
      "tensor([[0.9980, 0.1261]], device='cuda:0',\n",
      "       grad_fn=<DifferentiableGraphBackward>)\n",
      "tensor([[0.1114, 0.4588]], device='cuda:0',\n",
      "       grad_fn=<DifferentiableGraphBackward>)\n",
      "tensor([[0.9964, 0.1423]], device='cuda:0',\n",
      "       grad_fn=<DifferentiableGraphBackward>)\n",
      "tensor([[0.9978, 0.1669]], device='cuda:0',\n",
      "       grad_fn=<DifferentiableGraphBackward>)\n",
      "tensor([[0.1928, 0.5823]], device='cuda:0',\n",
      "       grad_fn=<DifferentiableGraphBackward>)\n",
      "tensor([[0.9981, 0.1617]], device='cuda:0',\n",
      "       grad_fn=<DifferentiableGraphBackward>)\n",
      "tensor([[0.9976, 0.1502]], device='cuda:0',\n",
      "       grad_fn=<DifferentiableGraphBackward>)\n"
     ]
    },
    {
     "name": "stderr",
     "output_type": "stream",
     "text": [
      "  0%|          | 13/8895 [00:02<18:00,  8.22it/s]"
     ]
    },
    {
     "name": "stdout",
     "output_type": "stream",
     "text": [
      "tensor([[0.1559, 0.5018]], device='cuda:0',\n",
      "       grad_fn=<DifferentiableGraphBackward>)\n",
      "tensor([[0.9979, 0.1966]], device='cuda:0',\n",
      "       grad_fn=<DifferentiableGraphBackward>)\n",
      "tensor([[0.9983, 0.1207]], device='cuda:0',\n",
      "       grad_fn=<DifferentiableGraphBackward>)\n",
      "tensor([[0.1519, 0.5299]], device='cuda:0',\n",
      "       grad_fn=<DifferentiableGraphBackward>)\n",
      "tensor([[0.9984, 0.1815]], device='cuda:0',\n",
      "       grad_fn=<DifferentiableGraphBackward>)\n",
      "tensor([[0.9980, 0.1311]], device='cuda:0',\n",
      "       grad_fn=<DifferentiableGraphBackward>)\n",
      "tensor([[0.1279, 0.4637]], device='cuda:0',\n",
      "       grad_fn=<DifferentiableGraphBackward>)\n",
      "tensor([[0.9983, 0.1451]], device='cuda:0',\n",
      "       grad_fn=<DifferentiableGraphBackward>)\n"
     ]
    },
    {
     "name": "stderr",
     "output_type": "stream",
     "text": [
      "  0%|          | 23/8895 [00:03<08:33, 17.27it/s]"
     ]
    },
    {
     "name": "stdout",
     "output_type": "stream",
     "text": [
      "tensor([[0.9979, 0.1222]], device='cuda:0',\n",
      "       grad_fn=<DifferentiableGraphBackward>)\n",
      "tensor([[0.1219, 0.4437]], device='cuda:0',\n",
      "       grad_fn=<DifferentiableGraphBackward>)\n",
      "tensor([[0.9971, 0.1791]], device='cuda:0',\n",
      "       grad_fn=<DifferentiableGraphBackward>)\n",
      "tensor([[0.9984, 0.1327]], device='cuda:0',\n",
      "       grad_fn=<DifferentiableGraphBackward>)\n",
      "tensor([[0.1083, 0.4720]], device='cuda:0',\n",
      "       grad_fn=<DifferentiableGraphBackward>)\n",
      "tensor([[0.9972, 0.1892]], device='cuda:0',\n",
      "       grad_fn=<DifferentiableGraphBackward>)\n",
      "tensor([[0.9983, 0.1348]], device='cuda:0',\n",
      "       grad_fn=<DifferentiableGraphBackward>)\n",
      "tensor([[0.1477, 0.4887]], device='cuda:0',\n",
      "       grad_fn=<DifferentiableGraphBackward>)\n"
     ]
    },
    {
     "name": "stderr",
     "output_type": "stream",
     "text": [
      "  0%|          | 32/8895 [00:03<05:50, 25.31it/s]"
     ]
    },
    {
     "name": "stdout",
     "output_type": "stream",
     "text": [
      "tensor([[0.9967, 0.1575]], device='cuda:0',\n",
      "       grad_fn=<DifferentiableGraphBackward>)\n",
      "tensor([[0.9974, 0.1410]], device='cuda:0',\n",
      "       grad_fn=<DifferentiableGraphBackward>)\n",
      "tensor([[0.1044, 0.4688]], device='cuda:0',\n",
      "       grad_fn=<DifferentiableGraphBackward>)\n",
      "tensor([[0.9979, 0.1198]], device='cuda:0',\n",
      "       grad_fn=<DifferentiableGraphBackward>)\n",
      "tensor([[0.9973, 0.1659]], device='cuda:0',\n",
      "       grad_fn=<DifferentiableGraphBackward>)\n",
      "tensor([[0.1751, 0.5831]], device='cuda:0',\n",
      "       grad_fn=<DifferentiableGraphBackward>)\n",
      "tensor([[0.9980, 0.1699]], device='cuda:0',\n",
      "       grad_fn=<DifferentiableGraphBackward>)\n",
      "tensor([[0.9982, 0.1335]], device='cuda:0',\n",
      "       grad_fn=<DifferentiableGraphBackward>)\n"
     ]
    },
    {
     "name": "stderr",
     "output_type": "stream",
     "text": [
      "  0%|          | 41/8895 [00:03<04:42, 31.39it/s]"
     ]
    },
    {
     "name": "stdout",
     "output_type": "stream",
     "text": [
      "tensor([[0.1602, 0.4502]], device='cuda:0',\n",
      "       grad_fn=<DifferentiableGraphBackward>)\n",
      "tensor([[0.9982, 0.1532]], device='cuda:0',\n",
      "       grad_fn=<DifferentiableGraphBackward>)\n",
      "tensor([[0.9984, 0.1264]], device='cuda:0',\n",
      "       grad_fn=<DifferentiableGraphBackward>)\n",
      "tensor([[0.1061, 0.4520]], device='cuda:0',\n",
      "       grad_fn=<DifferentiableGraphBackward>)\n",
      "tensor([[0.9984, 0.1289]], device='cuda:0',\n",
      "       grad_fn=<DifferentiableGraphBackward>)\n",
      "tensor([[0.9972, 0.1288]], device='cuda:0',\n",
      "       grad_fn=<DifferentiableGraphBackward>)\n",
      "tensor([[0.1598, 0.4186]], device='cuda:0',\n",
      "       grad_fn=<DifferentiableGraphBackward>)\n",
      "tensor([[0.9977, 0.1515]], device='cuda:0',\n",
      "       grad_fn=<DifferentiableGraphBackward>)\n",
      "tensor([[0.9983, 0.1517]], device='cuda:0',\n",
      "       grad_fn=<DifferentiableGraphBackward>)\n"
     ]
    },
    {
     "name": "stderr",
     "output_type": "stream",
     "text": [
      "  1%|          | 50/8895 [00:03<04:10, 35.35it/s]"
     ]
    },
    {
     "name": "stdout",
     "output_type": "stream",
     "text": [
      "tensor([[0.1293, 0.4657]], device='cuda:0',\n",
      "       grad_fn=<DifferentiableGraphBackward>)\n",
      "tensor([[0.9976, 0.1328]], device='cuda:0',\n",
      "       grad_fn=<DifferentiableGraphBackward>)\n",
      "tensor([[0.9965, 0.1628]], device='cuda:0',\n",
      "       grad_fn=<DifferentiableGraphBackward>)\n",
      "tensor([[0.1835, 0.6008]], device='cuda:0',\n",
      "       grad_fn=<DifferentiableGraphBackward>)\n",
      "tensor([[0.9981, 0.1641]], device='cuda:0',\n",
      "       grad_fn=<DifferentiableGraphBackward>)\n",
      "tensor([[0.9981, 0.1643]], device='cuda:0',\n",
      "       grad_fn=<DifferentiableGraphBackward>)\n",
      "tensor([[0.2007, 0.5556]], device='cuda:0',\n",
      "       grad_fn=<DifferentiableGraphBackward>)\n",
      "tensor([[0.9979, 0.1663]], device='cuda:0',\n",
      "       grad_fn=<DifferentiableGraphBackward>)\n",
      "tensor([[0.9980, 0.1688]], device='cuda:0',\n",
      "       grad_fn=<DifferentiableGraphBackward>)\n"
     ]
    },
    {
     "name": "stderr",
     "output_type": "stream",
     "text": [
      "  1%|          | 59/8895 [00:04<03:56, 37.34it/s]"
     ]
    },
    {
     "name": "stdout",
     "output_type": "stream",
     "text": [
      "tensor([[0.1439, 0.5317]], device='cuda:0',\n",
      "       grad_fn=<DifferentiableGraphBackward>)\n",
      "tensor([[0.9974, 0.1493]], device='cuda:0',\n",
      "       grad_fn=<DifferentiableGraphBackward>)\n",
      "tensor([[0.9979, 0.1830]], device='cuda:0',\n",
      "       grad_fn=<DifferentiableGraphBackward>)\n",
      "tensor([[0.1316, 0.4518]], device='cuda:0',\n",
      "       grad_fn=<DifferentiableGraphBackward>)\n",
      "tensor([[0.9972, 0.1269]], device='cuda:0',\n",
      "       grad_fn=<DifferentiableGraphBackward>)\n",
      "tensor([[0.9975, 0.1293]], device='cuda:0',\n",
      "       grad_fn=<DifferentiableGraphBackward>)\n",
      "tensor([[0.1236, 0.4761]], device='cuda:0',\n",
      "       grad_fn=<DifferentiableGraphBackward>)\n",
      "tensor([[0.9979, 0.1346]], device='cuda:0',\n",
      "       grad_fn=<DifferentiableGraphBackward>)\n",
      "tensor([[0.9964, 0.1315]], device='cuda:0',\n",
      "       grad_fn=<DifferentiableGraphBackward>)\n"
     ]
    },
    {
     "name": "stderr",
     "output_type": "stream",
     "text": [
      "  1%|          | 68/8895 [00:04<03:42, 39.70it/s]"
     ]
    },
    {
     "name": "stdout",
     "output_type": "stream",
     "text": [
      "tensor([[0.1650, 0.5864]], device='cuda:0',\n",
      "       grad_fn=<DifferentiableGraphBackward>)\n",
      "tensor([[0.9976, 0.1266]], device='cuda:0',\n",
      "       grad_fn=<DifferentiableGraphBackward>)\n",
      "tensor([[0.9974, 0.1559]], device='cuda:0',\n",
      "       grad_fn=<DifferentiableGraphBackward>)\n",
      "tensor([[0.1538, 0.5515]], device='cuda:0',\n",
      "       grad_fn=<DifferentiableGraphBackward>)\n",
      "tensor([[0.9956, 0.1741]], device='cuda:0',\n",
      "       grad_fn=<DifferentiableGraphBackward>)\n",
      "tensor([[0.9972, 0.1391]], device='cuda:0',\n",
      "       grad_fn=<DifferentiableGraphBackward>)\n",
      "tensor([[0.2012, 0.6729]], device='cuda:0',\n",
      "       grad_fn=<DifferentiableGraphBackward>)\n",
      "tensor([[0.9975, 0.1523]], device='cuda:0',\n",
      "       grad_fn=<DifferentiableGraphBackward>)\n",
      "tensor([[0.9980, 0.1151]], device='cuda:0',\n",
      "       grad_fn=<DifferentiableGraphBackward>)\n"
     ]
    },
    {
     "name": "stderr",
     "output_type": "stream",
     "text": [
      "  1%|          | 73/8895 [00:04<03:41, 39.79it/s]"
     ]
    },
    {
     "name": "stdout",
     "output_type": "stream",
     "text": [
      "tensor([[0.1172, 0.4731]], device='cuda:0',\n",
      "       grad_fn=<DifferentiableGraphBackward>)\n",
      "tensor([[0.9984, 0.2012]], device='cuda:0',\n",
      "       grad_fn=<DifferentiableGraphBackward>)\n",
      "tensor([[0.9979, 0.1444]], device='cuda:0',\n",
      "       grad_fn=<DifferentiableGraphBackward>)\n",
      "tensor([[0.1042, 0.5041]], device='cuda:0',\n",
      "       grad_fn=<DifferentiableGraphBackward>)\n",
      "tensor([[0.9975, 0.1964]], device='cuda:0',\n",
      "       grad_fn=<DifferentiableGraphBackward>)\n",
      "tensor([[0.9986, 0.1944]], device='cuda:0',\n",
      "       grad_fn=<DifferentiableGraphBackward>)\n",
      "tensor([[0.1131, 0.4336]], device='cuda:0',\n",
      "       grad_fn=<DifferentiableGraphBackward>)\n",
      "tensor([[0.9975, 0.1771]], device='cuda:0',\n",
      "       grad_fn=<DifferentiableGraphBackward>)\n",
      "tensor([[0.9962, 0.1225]], device='cuda:0',\n",
      "       grad_fn=<DifferentiableGraphBackward>)\n"
     ]
    },
    {
     "name": "stderr",
     "output_type": "stream",
     "text": [
      "  1%|          | 83/8895 [00:04<03:33, 41.36it/s]"
     ]
    },
    {
     "name": "stdout",
     "output_type": "stream",
     "text": [
      "tensor([[0.2246, 0.5116]], device='cuda:0',\n",
      "       grad_fn=<DifferentiableGraphBackward>)\n",
      "tensor([[0.9963, 0.1715]], device='cuda:0',\n",
      "       grad_fn=<DifferentiableGraphBackward>)\n",
      "tensor([[0.9980, 0.1437]], device='cuda:0',\n",
      "       grad_fn=<DifferentiableGraphBackward>)\n",
      "tensor([[0.2912, 0.5161]], device='cuda:0',\n",
      "       grad_fn=<DifferentiableGraphBackward>)\n",
      "tensor([[0.9955, 0.1663]], device='cuda:0',\n",
      "       grad_fn=<DifferentiableGraphBackward>)\n",
      "tensor([[0.9983, 0.1115]], device='cuda:0',\n",
      "       grad_fn=<DifferentiableGraphBackward>)\n",
      "tensor([[0.2261, 0.6467]], device='cuda:0',\n",
      "       grad_fn=<DifferentiableGraphBackward>)\n",
      "tensor([[0.9977, 0.1631]], device='cuda:0',\n",
      "       grad_fn=<DifferentiableGraphBackward>)\n",
      "tensor([[0.9975, 0.1232]], device='cuda:0',\n",
      "       grad_fn=<DifferentiableGraphBackward>)\n"
     ]
    },
    {
     "name": "stderr",
     "output_type": "stream",
     "text": [
      "  1%|          | 93/8895 [00:04<03:47, 38.70it/s]"
     ]
    },
    {
     "name": "stdout",
     "output_type": "stream",
     "text": [
      "tensor([[0.1128, 0.5678]], device='cuda:0',\n",
      "       grad_fn=<DifferentiableGraphBackward>)\n",
      "tensor([[0.9981, 0.1460]], device='cuda:0',\n",
      "       grad_fn=<DifferentiableGraphBackward>)\n",
      "tensor([[0.9954, 0.1705]], device='cuda:0',\n",
      "       grad_fn=<DifferentiableGraphBackward>)\n",
      "tensor([[0.2608, 0.5900]], device='cuda:0',\n",
      "       grad_fn=<DifferentiableGraphBackward>)\n",
      "tensor([[0.9980, 0.2040]], device='cuda:0',\n",
      "       grad_fn=<DifferentiableGraphBackward>)\n",
      "tensor([[0.9980, 0.1880]], device='cuda:0',\n",
      "       grad_fn=<DifferentiableGraphBackward>)\n",
      "tensor([[0.1313, 0.4120]], device='cuda:0',\n",
      "       grad_fn=<DifferentiableGraphBackward>)\n",
      "tensor([[0.9979, 0.1519]], device='cuda:0',\n",
      "       grad_fn=<DifferentiableGraphBackward>)\n",
      "tensor([[0.9987, 0.1486]], device='cuda:0',\n",
      "       grad_fn=<DifferentiableGraphBackward>)\n"
     ]
    },
    {
     "name": "stderr",
     "output_type": "stream",
     "text": [
      "  1%|          | 103/8895 [00:05<03:40, 39.81it/s]"
     ]
    },
    {
     "name": "stdout",
     "output_type": "stream",
     "text": [
      "tensor([[0.1387, 0.3641]], device='cuda:0',\n",
      "       grad_fn=<DifferentiableGraphBackward>)\n",
      "tensor([[0.9978, 0.1641]], device='cuda:0',\n",
      "       grad_fn=<DifferentiableGraphBackward>)\n",
      "tensor([[0.9977, 0.1249]], device='cuda:0',\n",
      "       grad_fn=<DifferentiableGraphBackward>)\n",
      "tensor([[0.2168, 0.4875]], device='cuda:0',\n",
      "       grad_fn=<DifferentiableGraphBackward>)\n",
      "tensor([[0.9977, 0.1261]], device='cuda:0',\n",
      "       grad_fn=<DifferentiableGraphBackward>)\n",
      "tensor([[0.9952, 0.1304]], device='cuda:0',\n",
      "       grad_fn=<DifferentiableGraphBackward>)\n",
      "tensor([[0.2900, 0.5735]], device='cuda:0',\n",
      "       grad_fn=<DifferentiableGraphBackward>)\n",
      "tensor([[0.9985, 0.1701]], device='cuda:0',\n",
      "       grad_fn=<DifferentiableGraphBackward>)\n",
      "tensor([[0.9979, 0.1544]], device='cuda:0',\n",
      "       grad_fn=<DifferentiableGraphBackward>)\n"
     ]
    },
    {
     "name": "stderr",
     "output_type": "stream",
     "text": [
      "  1%|▏         | 113/8895 [00:05<03:34, 40.96it/s]"
     ]
    },
    {
     "name": "stdout",
     "output_type": "stream",
     "text": [
      "tensor([[0.1672, 0.5537]], device='cuda:0',\n",
      "       grad_fn=<DifferentiableGraphBackward>)\n",
      "tensor([[0.9977, 0.1126]], device='cuda:0',\n",
      "       grad_fn=<DifferentiableGraphBackward>)\n",
      "tensor([[0.9987, 0.1149]], device='cuda:0',\n",
      "       grad_fn=<DifferentiableGraphBackward>)\n",
      "tensor([[0.1695, 0.4930]], device='cuda:0',\n",
      "       grad_fn=<DifferentiableGraphBackward>)\n",
      "tensor([[0.9980, 0.1825]], device='cuda:0',\n",
      "       grad_fn=<DifferentiableGraphBackward>)\n",
      "tensor([[0.9984, 0.1286]], device='cuda:0',\n",
      "       grad_fn=<DifferentiableGraphBackward>)\n",
      "tensor([[0.2019, 0.4920]], device='cuda:0',\n",
      "       grad_fn=<DifferentiableGraphBackward>)\n",
      "tensor([[0.9978, 0.1572]], device='cuda:0',\n",
      "       grad_fn=<DifferentiableGraphBackward>)\n",
      "tensor([[0.9981, 0.1711]], device='cuda:0',\n",
      "       grad_fn=<DifferentiableGraphBackward>)\n"
     ]
    },
    {
     "name": "stderr",
     "output_type": "stream",
     "text": [
      "  1%|▏         | 118/8895 [00:05<03:36, 40.62it/s]"
     ]
    },
    {
     "name": "stdout",
     "output_type": "stream",
     "text": [
      "tensor([[0.1698, 0.5350]], device='cuda:0',\n",
      "       grad_fn=<DifferentiableGraphBackward>)\n",
      "tensor([[0.9961, 0.1563]], device='cuda:0',\n",
      "       grad_fn=<DifferentiableGraphBackward>)\n",
      "tensor([[0.9976, 0.1995]], device='cuda:0',\n",
      "       grad_fn=<DifferentiableGraphBackward>)\n",
      "tensor([[0.2426, 0.6205]], device='cuda:0',\n",
      "       grad_fn=<DifferentiableGraphBackward>)\n",
      "tensor([[0.9961, 0.1641]], device='cuda:0',\n",
      "       grad_fn=<DifferentiableGraphBackward>)\n",
      "tensor([[0.9986, 0.1546]], device='cuda:0',\n",
      "       grad_fn=<DifferentiableGraphBackward>)\n",
      "tensor([[0.1885, 0.5294]], device='cuda:0',\n",
      "       grad_fn=<DifferentiableGraphBackward>)\n",
      "tensor([[0.9971, 0.1923]], device='cuda:0',\n",
      "       grad_fn=<DifferentiableGraphBackward>)\n",
      "tensor([[0.9976, 0.1563]], device='cuda:0',\n",
      "       grad_fn=<DifferentiableGraphBackward>)\n"
     ]
    },
    {
     "name": "stderr",
     "output_type": "stream",
     "text": [
      "  1%|▏         | 128/8895 [00:05<03:31, 41.42it/s]"
     ]
    },
    {
     "name": "stdout",
     "output_type": "stream",
     "text": [
      "tensor([[0.2640, 0.5720]], device='cuda:0',\n",
      "       grad_fn=<DifferentiableGraphBackward>)\n",
      "tensor([[0.9962, 0.2089]], device='cuda:0',\n",
      "       grad_fn=<DifferentiableGraphBackward>)\n",
      "tensor([[0.9960, 0.1593]], device='cuda:0',\n",
      "       grad_fn=<DifferentiableGraphBackward>)\n",
      "tensor([[0.3422, 0.6460]], device='cuda:0',\n",
      "       grad_fn=<DifferentiableGraphBackward>)\n",
      "tensor([[0.9979, 0.1838]], device='cuda:0',\n",
      "       grad_fn=<DifferentiableGraphBackward>)\n",
      "tensor([[0.9978, 0.1456]], device='cuda:0',\n",
      "       grad_fn=<DifferentiableGraphBackward>)\n",
      "tensor([[0.1278, 0.5497]], device='cuda:0',\n",
      "       grad_fn=<DifferentiableGraphBackward>)\n",
      "tensor([[0.9977, 0.1254]], device='cuda:0',\n",
      "       grad_fn=<DifferentiableGraphBackward>)\n"
     ]
    },
    {
     "name": "stderr",
     "output_type": "stream",
     "text": [
      "  2%|▏         | 138/8895 [00:05<03:44, 38.97it/s]"
     ]
    },
    {
     "name": "stdout",
     "output_type": "stream",
     "text": [
      "tensor([[0.9980, 0.1661]], device='cuda:0',\n",
      "       grad_fn=<DifferentiableGraphBackward>)\n",
      "tensor([[0.1821, 0.5277]], device='cuda:0',\n",
      "       grad_fn=<DifferentiableGraphBackward>)\n",
      "tensor([[0.9961, 0.1749]], device='cuda:0',\n",
      "       grad_fn=<DifferentiableGraphBackward>)\n",
      "tensor([[0.9974, 0.1423]], device='cuda:0',\n",
      "       grad_fn=<DifferentiableGraphBackward>)\n",
      "tensor([[0.2941, 0.5242]], device='cuda:0',\n",
      "       grad_fn=<DifferentiableGraphBackward>)\n",
      "tensor([[0.9968, 0.1725]], device='cuda:0',\n",
      "       grad_fn=<DifferentiableGraphBackward>)\n",
      "tensor([[0.9968, 0.1416]], device='cuda:0',\n",
      "       grad_fn=<DifferentiableGraphBackward>)\n",
      "tensor([[0.2633, 0.6135]], device='cuda:0',\n",
      "       grad_fn=<DifferentiableGraphBackward>)\n"
     ]
    },
    {
     "name": "stderr",
     "output_type": "stream",
     "text": [
      "  2%|▏         | 143/8895 [00:06<03:37, 40.27it/s]"
     ]
    },
    {
     "name": "stdout",
     "output_type": "stream",
     "text": [
      "tensor([[0.9967, 0.1941]], device='cuda:0',\n",
      "       grad_fn=<DifferentiableGraphBackward>)\n",
      "tensor([[0.9965, 0.1709]], device='cuda:0',\n",
      "       grad_fn=<DifferentiableGraphBackward>)\n",
      "tensor([[0.3409, 0.5641]], device='cuda:0',\n",
      "       grad_fn=<DifferentiableGraphBackward>)\n",
      "tensor([[0.9976, 0.1489]], device='cuda:0',\n",
      "       grad_fn=<DifferentiableGraphBackward>)\n",
      "tensor([[0.9968, 0.1272]], device='cuda:0',\n",
      "       grad_fn=<DifferentiableGraphBackward>)\n",
      "tensor([[0.3053, 0.6374]], device='cuda:0',\n",
      "       grad_fn=<DifferentiableGraphBackward>)\n",
      "tensor([[0.9977, 0.1422]], device='cuda:0',\n",
      "       grad_fn=<DifferentiableGraphBackward>)\n",
      "tensor([[0.9986, 0.1735]], device='cuda:0',\n",
      "       grad_fn=<DifferentiableGraphBackward>)\n"
     ]
    },
    {
     "name": "stderr",
     "output_type": "stream",
     "text": [
      "  2%|▏         | 153/8895 [00:06<03:39, 39.89it/s]"
     ]
    },
    {
     "name": "stdout",
     "output_type": "stream",
     "text": [
      "tensor([[0.2187, 0.5594]], device='cuda:0',\n",
      "       grad_fn=<DifferentiableGraphBackward>)\n",
      "tensor([[0.9974, 0.1905]], device='cuda:0',\n",
      "       grad_fn=<DifferentiableGraphBackward>)\n",
      "tensor([[0.9985, 0.1299]], device='cuda:0',\n",
      "       grad_fn=<DifferentiableGraphBackward>)\n",
      "tensor([[0.1239, 0.4958]], device='cuda:0',\n",
      "       grad_fn=<DifferentiableGraphBackward>)\n",
      "tensor([[0.9984, 0.1391]], device='cuda:0',\n",
      "       grad_fn=<DifferentiableGraphBackward>)\n",
      "tensor([[0.9975, 0.1481]], device='cuda:0',\n",
      "       grad_fn=<DifferentiableGraphBackward>)\n",
      "tensor([[0.2023, 0.5922]], device='cuda:0',\n",
      "       grad_fn=<DifferentiableGraphBackward>)\n",
      "tensor([[0.9981, 0.1486]], device='cuda:0',\n",
      "       grad_fn=<DifferentiableGraphBackward>)\n",
      "tensor([[0.9973, 0.1555]], device='cuda:0',\n",
      "       grad_fn=<DifferentiableGraphBackward>)\n"
     ]
    },
    {
     "name": "stderr",
     "output_type": "stream",
     "text": [
      "  2%|▏         | 158/8895 [00:06<05:59, 24.27it/s]\n"
     ]
    },
    {
     "name": "stdout",
     "output_type": "stream",
     "text": [
      "tensor([[0.1807, 0.4345]], device='cuda:0',\n",
      "       grad_fn=<DifferentiableGraphBackward>)\n",
      "tensor([[0.9983, 0.1722]], device='cuda:0',\n",
      "       grad_fn=<DifferentiableGraphBackward>)\n",
      "tensor([[0.9976, 0.1375]], device='cuda:0',\n",
      "       grad_fn=<DifferentiableGraphBackward>)\n"
     ]
    },
    {
     "ename": "KeyboardInterrupt",
     "evalue": "",
     "output_type": "error",
     "traceback": [
      "\u001b[1;31m---------------------------------------------------------------------------\u001b[0m",
      "\u001b[1;31mKeyboardInterrupt\u001b[0m                         Traceback (most recent call last)",
      "Cell \u001b[1;32mIn[11], line 1\u001b[0m\n\u001b[1;32m----> 1\u001b[0m \u001b[43mapply_model_on_new_dataset_main\u001b[49m\u001b[43m(\u001b[49m\u001b[43mdataset_ID\u001b[49m\u001b[43m,\u001b[49m\u001b[43m \u001b[49m\u001b[43mTask_ID\u001b[49m\u001b[43m,\u001b[49m\u001b[43m \u001b[49m\u001b[43mBM_Name\u001b[49m\u001b[43m,\u001b[49m\u001b[43m \u001b[49m\u001b[43mVersionName\u001b[49m\u001b[43m,\u001b[49m\u001b[43m \u001b[49m\u001b[43mapplication_parameters\u001b[49m\u001b[43m)\u001b[49m\n",
      "File \u001b[1;32m~\\Documents\\PhD\\CodesDatarmor\\OSmOSEcodesV2\\Functions\\apply_model_on_new_dataset.py:132\u001b[0m, in \u001b[0;36mapply_model_on_new_dataset_main\u001b[1;34m(dataset_ID, Task_ID, BM_Name, Version_name, application_parameters)\u001b[0m\n\u001b[0;32m    129\u001b[0m     spectro \u001b[38;5;241m=\u001b[39m spectro_npz[\u001b[38;5;124m'\u001b[39m\u001b[38;5;124mSxx\u001b[39m\u001b[38;5;124m'\u001b[39m]\n\u001b[0;32m    131\u001b[0m parameters[\u001b[38;5;124m'\u001b[39m\u001b[38;5;124mindex_dataset\u001b[39m\u001b[38;5;124m'\u001b[39m] \u001b[38;5;241m=\u001b[39m \u001b[38;5;241m0\u001b[39m\n\u001b[1;32m--> 132\u001b[0m spectro \u001b[38;5;241m=\u001b[39m \u001b[43mtrans_spectro\u001b[49m\u001b[43m(\u001b[49m\u001b[43mspectro\u001b[49m\u001b[43m,\u001b[49m\u001b[43m \u001b[49m\u001b[43mparameters\u001b[49m\u001b[43m)\u001b[49m\n\u001b[0;32m    133\u001b[0m spectro \u001b[38;5;241m=\u001b[39m spectro\u001b[38;5;241m.\u001b[39mto(device)\n\u001b[0;32m    134\u001b[0m spectro\u001b[38;5;241m.\u001b[39mrequires_grad \u001b[38;5;241m=\u001b[39m \u001b[38;5;28;01mFalse\u001b[39;00m\n",
      "File \u001b[1;32m~\\Documents\\PhD\\CodesDatarmor\\OSmOSEcodesV2\\Functions\\set_network_functions.py:77\u001b[0m, in \u001b[0;36mtransform_simple\u001b[1;34m(spectro, parameters)\u001b[0m\n\u001b[0;32m     75\u001b[0m spectro[spectro \u001b[38;5;241m<\u001b[39m dynamic_min] \u001b[38;5;241m=\u001b[39m dynamic_min\n\u001b[0;32m     76\u001b[0m spectro[spectro \u001b[38;5;241m>\u001b[39m  dynamic_max] \u001b[38;5;241m=\u001b[39m dynamic_max\n\u001b[1;32m---> 77\u001b[0m spectro \u001b[38;5;241m=\u001b[39m (\u001b[43mspectro\u001b[49m\u001b[43m \u001b[49m\u001b[38;5;241;43m-\u001b[39;49m\u001b[43m \u001b[49m\u001b[43mdynamic_min\u001b[49m) \u001b[38;5;241m/\u001b[39m  (dynamic_max\u001b[38;5;241m-\u001b[39mdynamic_min)\n\u001b[0;32m     79\u001b[0m \u001b[38;5;66;03m#plt.pcolor(spectro)\u001b[39;00m\n\u001b[0;32m     80\u001b[0m \u001b[38;5;66;03m#plt.savefig('test'+str(np.random.randint(10))+'.png')\u001b[39;00m\n\u001b[0;32m     82\u001b[0m X, Y \u001b[38;5;241m=\u001b[39m np\u001b[38;5;241m.\u001b[39mshape(spectro)\n",
      "\u001b[1;31mKeyboardInterrupt\u001b[0m: "
     ]
    }
   ],
   "source": [
    "apply_model_on_new_dataset_main(dataset_ID, Task_ID, BM_Name, VersionName, application_parameters)"
   ]
  },
  {
   "cell_type": "code",
   "execution_count": null,
   "id": "bc587e67-736e-4553-8ad1-759239b1d18d",
   "metadata": {},
   "outputs": [],
   "source": []
  }
 ],
 "metadata": {
  "kernelspec": {
   "display_name": "Python 3 (ipykernel)",
   "language": "python",
   "name": "python3"
  },
  "language_info": {
   "codemirror_mode": {
    "name": "ipython",
    "version": 3
   },
   "file_extension": ".py",
   "mimetype": "text/x-python",
   "name": "python",
   "nbconvert_exporter": "python",
   "pygments_lexer": "ipython3",
   "version": "3.8.8"
  }
 },
 "nbformat": 4,
 "nbformat_minor": 5
}
